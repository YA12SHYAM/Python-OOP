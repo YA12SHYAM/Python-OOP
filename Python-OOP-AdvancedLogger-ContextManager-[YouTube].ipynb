{
 "cells": [
  {
   "cell_type": "markdown",
   "metadata": {},
   "source": [
    "### Polymorphism - The ability to assume various forms.\n",
    "\n",
    "Method overriding is an OOP feature that allows a subclass to provide a different implementation of a method that is already defined by its superclass or by one of its superclasses."
   ]
  },
  {
   "cell_type": "code",
   "execution_count": 17,
   "metadata": {},
   "outputs": [
    {
     "name": "stdout",
     "output_type": "stream",
     "text": [
      "Jon Snow, 21\n",
      "Arya Stark, 18\n"
     ]
    }
   ],
   "source": [
    "class Person:\n",
    "    \n",
    "    def __init__(self, first, last, age):\n",
    "        self.first = first\n",
    "        self.last = last\n",
    "        self.age = age\n",
    "        \n",
    "    def __str__(self):\n",
    "        return self.first + \" \" + self.last + \", \" + str(self.age)\n",
    "\n",
    "class Employee(Person):\n",
    "    pass\n",
    "\n",
    "\n",
    "p = Person('Jon', 'Snow', 21)\n",
    "print(p)\n",
    "\n",
    "e = Employee('Arya', 'Stark', 18)\n",
    "print(e)"
   ]
  },
  {
   "cell_type": "code",
   "execution_count": 23,
   "metadata": {},
   "outputs": [
    {
     "name": "stdout",
     "output_type": "stream",
     "text": [
      "Jon Snow, 21\n",
      "Name: Arya Stark, Age: 18, Salary: 1000\n"
     ]
    }
   ],
   "source": [
    "# Redefining methods in Employee\n",
    "\n",
    "class Employee(Person):\n",
    "    \n",
    "    def __init__(self, first, last, age, salary):\n",
    "        self.first = first\n",
    "        self.last = last\n",
    "        self.age = age\n",
    "        self.salary = salary\n",
    "    \n",
    "    # Override method\n",
    "    def __str__(self):\n",
    "        return \"Name: {} {}, Age: {}, Salary: {}\".format(self.first,\n",
    "                                                         self.last,\n",
    "                                                         self.age,\n",
    "                                                         self.salary)\n",
    "\n",
    "p = Person('Jon', 'Snow', 21)\n",
    "print(p)\n",
    "\n",
    "e = Employee('Arya', 'Stark', 18, 1000)\n",
    "print(e)"
   ]
  },
  {
   "cell_type": "markdown",
   "metadata": {},
   "source": [
    "### `super` - Invokes initializer of super class"
   ]
  },
  {
   "cell_type": "code",
   "execution_count": 24,
   "metadata": {},
   "outputs": [
    {
     "name": "stdout",
     "output_type": "stream",
     "text": [
      "Arya Stark, 18, 1000\n"
     ]
    }
   ],
   "source": [
    "class Employee(Person):\n",
    "    \n",
    "    def __init__(self, first, last, age, salary):\n",
    "        super().__init__(first, last, age)\n",
    "        self.salary = salary\n",
    "        \n",
    "    def __str__(self):\n",
    "        return super().__str__() + \", \" + str(self.salary)\n",
    "    \n",
    "e = Employee('Arya', 'Stark', 18, 1000)\n",
    "print(e)"
   ]
  },
  {
   "cell_type": "markdown",
   "metadata": {},
   "source": [
    "### Abstract Class and Abstract Method"
   ]
  },
  {
   "cell_type": "code",
   "execution_count": 27,
   "metadata": {},
   "outputs": [
    {
     "name": "stdout",
     "output_type": "stream",
     "text": [
      "Walk/Run\n",
      "Slither\n"
     ]
    }
   ],
   "source": [
    "# Abstract Class \n",
    "\n",
    "class Animal:\n",
    "    \n",
    "    # Abstract Method\n",
    "    def move(self):\n",
    "        pass\n",
    "    \n",
    "# Sub-classes derive properties from abstract class\n",
    "class Human(Animal):\n",
    "    \n",
    "    def move(self):\n",
    "        print(\"Walk/Run\")\n",
    "        \n",
    "class Snake(Animal):\n",
    "    \n",
    "    def move(self):\n",
    "        print(\"Slither\")\n",
    "\n",
    "a = Animal()\n",
    "a.move()\n",
    "\n",
    "h = Human()\n",
    "h.move()\n",
    "\n",
    "s = Snake()\n",
    "s.move()"
   ]
  },
  {
   "cell_type": "code",
   "execution_count": 32,
   "metadata": {},
   "outputs": [
    {
     "name": "stdout",
     "output_type": "stream",
     "text": [
      "Walk/Run\n",
      "Slither\n"
     ]
    }
   ],
   "source": [
    "# Abstract Class \n",
    "\n",
    "from abc import ABC, abstractmethod # Enforces concept of abstraction to classes\n",
    "class Animal(ABC):\n",
    "    \n",
    "    @abstractmethod\n",
    "    def move(self):\n",
    "        pass\n",
    "    \n",
    "# Sub-classes derive properties from abstract class\n",
    "class Human(Animal):\n",
    "    \n",
    "    def move(self):\n",
    "        print(\"Walk/Run\")\n",
    "        \n",
    "class Snake(Animal):\n",
    "    \n",
    "    def move(self):\n",
    "        print(\"Slither\")\n",
    "        \n",
    "# a = Animal() # TypeError\n",
    "# a.move()\n",
    "\n",
    "h = Human()\n",
    "h.move()\n",
    "\n",
    "s = Snake()\n",
    "s.move()"
   ]
  },
  {
   "cell_type": "markdown",
   "metadata": {},
   "source": [
    "### Encapsulation, Access Modifiers, and Name Mangling"
   ]
  },
  {
   "cell_type": "code",
   "execution_count": 38,
   "metadata": {},
   "outputs": [
    {
     "name": "stdout",
     "output_type": "stream",
     "text": [
      "Public\n",
      "Internal Use Only\n",
      "Private - Name Mangling\n"
     ]
    }
   ],
   "source": [
    "class A:\n",
    "    \n",
    "    def __init__(self):\n",
    "        self.a = \"Public\"\n",
    "        self._b = \"Internal Use Only\" \n",
    "        self.__c = \"Private - Name Mangling\"\n",
    "        \n",
    "obj = A()\n",
    "print(obj.a)\n",
    "print(obj._b)\n",
    "print(obj._A__c)  # Can not be accessed via obj.__c "
   ]
  },
  {
   "cell_type": "markdown",
   "metadata": {},
   "source": [
    "### Method with Default Argument(s) - Method Overloading\n",
    "\n",
    "- Python in strict sense does not allow overloading of methods because Python does not allow multiple methods to have same name and same signature"
   ]
  },
  {
   "cell_type": "code",
   "execution_count": 40,
   "metadata": {},
   "outputs": [
    {
     "name": "stdout",
     "output_type": "stream",
     "text": [
      "Sequence 01\n",
      "Sequence 02\n"
     ]
    },
    {
     "data": {
      "text/plain": [
       "2"
      ]
     },
     "execution_count": 40,
     "metadata": {},
     "output_type": "execute_result"
    }
   ],
   "source": [
    "class A:\n",
    "    \n",
    "    def method01(self, i=None):\n",
    "        if i is None:\n",
    "            print(\"Sequence 01\")\n",
    "            return 1\n",
    "        else:\n",
    "            print(\"Sequence 02\")\n",
    "            return 2\n",
    "            \n",
    "obj = A()\n",
    "obj.method01()\n",
    "obj.method01(7) # Same method but with arg"
   ]
  },
  {
   "cell_type": "markdown",
   "metadata": {},
   "source": [
    "### Namedtuple"
   ]
  },
  {
   "cell_type": "code",
   "execution_count": 73,
   "metadata": {},
   "outputs": [
    {
     "name": "stdout",
     "output_type": "stream",
     "text": [
      "Color(red=55, green=155, blue=255)\n",
      "1 0 55\n"
     ]
    },
    {
     "data": {
      "text/plain": [
       "55"
      ]
     },
     "execution_count": 73,
     "metadata": {},
     "output_type": "execute_result"
    }
   ],
   "source": [
    "from collections import namedtuple\n",
    "\n",
    "# List/Tuple\n",
    "color = (55, 155, 255)  # RGB\n",
    "\n",
    "# Dictionary\n",
    "color = {'red': 55, 'green': 155, 'blue': 255}  # No '.' syntax\n",
    "\n",
    "# Namedtuple\n",
    "Color = namedtuple('Color', ['red', 'green', 'blue'])\n",
    "color = Color(red=55, green=155, blue=255)\n",
    "print(color)\n",
    "\n",
    "print(color.index(155), color.count('red'), color.red)\n",
    "\n",
    "# Namedtuple - Other way\n",
    "Color = namedtuple('Color', ['r', 'g', 'b'])\n",
    "color = Color(55, 155, 255)\n",
    "color.r"
   ]
  },
  {
   "cell_type": "markdown",
   "metadata": {},
   "source": [
    "### Generators"
   ]
  },
  {
   "cell_type": "code",
   "execution_count": 87,
   "metadata": {},
   "outputs": [
    {
     "name": "stdout",
     "output_type": "stream",
     "text": [
      "[1, 4, 9, 16, 25]\n"
     ]
    }
   ],
   "source": [
    "# Function\n",
    "def square_numbers(nums):\n",
    "    result = []\n",
    "    for i in nums:\n",
    "        result.append(i * i)\n",
    "    return result\n",
    "\n",
    "sq_nums = square_numbers([1, 2, 3, 4, 5])\n",
    "print(sq_nums)"
   ]
  },
  {
   "cell_type": "code",
   "execution_count": 100,
   "metadata": {},
   "outputs": [
    {
     "name": "stdout",
     "output_type": "stream",
     "text": [
      "<generator object square_numbers_gen at 0x7f0ec6f90620>\n",
      "1\n",
      "4\n",
      "9\n",
      "16\n",
      "25\n"
     ]
    }
   ],
   "source": [
    "# Generator\n",
    "def square_numbers_gen(nums):\n",
    "    for i in nums:\n",
    "        yield i * i  # Yield makes it a generator\n",
    "\n",
    "sq_nums = square_numbers_gen([1, 2, 3, 4, 5])\n",
    "print(sq_nums)\n",
    "\n",
    "print(next(sq_nums))\n",
    "print(next(sq_nums))\n",
    "print(next(sq_nums))\n",
    "print(next(sq_nums))\n",
    "print(next(sq_nums))\n",
    "# print(next(sq_nums))  # StopIteration error!"
   ]
  },
  {
   "cell_type": "code",
   "execution_count": 102,
   "metadata": {},
   "outputs": [
    {
     "name": "stdout",
     "output_type": "stream",
     "text": [
      "1\n",
      "4\n",
      "9\n",
      "16\n",
      "25\n"
     ]
    }
   ],
   "source": [
    "# Without using `next`\n",
    "sq_nums = square_numbers_gen([1, 2, 3, 4, 5])\n",
    "for num in sq_nums:\n",
    "    print(num)"
   ]
  },
  {
   "cell_type": "code",
   "execution_count": 103,
   "metadata": {},
   "outputs": [
    {
     "name": "stdout",
     "output_type": "stream",
     "text": [
      "[1, 4, 9, 16, 25]\n"
     ]
    }
   ],
   "source": [
    "# List comprehension\n",
    "sq_nums = [n * n for n in [1, 2, 3, 4, 5]]\n",
    "print(sq_nums)"
   ]
  },
  {
   "cell_type": "code",
   "execution_count": 107,
   "metadata": {},
   "outputs": [
    {
     "name": "stdout",
     "output_type": "stream",
     "text": [
      "<generator object <genexpr> at 0x7f0ec6f92360>\n",
      "[1, 4, 9, 16, 25]\n"
     ]
    }
   ],
   "source": [
    "# List comprehension (generator)\n",
    "sq_nums = (n * n for n in [1, 2, 3, 4, 5])\n",
    "print(sq_nums)\n",
    "print(list(sq_nums))  # Converting generator to list - Performance advantages are lost, e.g. memory"
   ]
  },
  {
   "cell_type": "code",
   "execution_count": 113,
   "metadata": {},
   "outputs": [
    {
     "name": "stdout",
     "output_type": "stream",
     "text": [
      "List\n",
      "Memory (Before): 306.19140625 MB\n",
      "Memory (After) : 395.90234375 MB\n",
      "Took 1.6910670000000003 Seconds\n",
      "\n",
      "Generator\n",
      "Memory (Before): 395.90234375 MB\n",
      "Memory (After) : 305.95703125 MB\n",
      "Took 0.13284900000000022 Seconds\n"
     ]
    }
   ],
   "source": [
    "# Memory Usage\n",
    "import memory_profiler as mem_profile\n",
    "import random\n",
    "import time\n",
    "\n",
    "names = ['John', 'Corey', 'Adam', 'Steve', 'Rick', 'Thomas']\n",
    "majors = ['Math', 'Engineering', 'CompSci', 'Arts', 'Business']\n",
    "\n",
    "def people_list(num_people):\n",
    "    result = []\n",
    "    for i in range(num_people):\n",
    "        person = {\n",
    "                    'id': i,\n",
    "                    'name': random.choice(names),\n",
    "                    'major': random.choice(majors)\n",
    "                }\n",
    "        result.append(person)\n",
    "    return result\n",
    "\n",
    "def people_generator(num_people):\n",
    "    for i in range(num_people):\n",
    "        person = {\n",
    "                    'id': i,\n",
    "                    'name': random.choice(names),\n",
    "                    'major': random.choice(majors)\n",
    "                }\n",
    "        yield person\n",
    "\n",
    "print('List')\n",
    "print('Memory (Before): ' + str(mem_profile.memory_usage()[0]) + ' MB' )\n",
    "t1 = time.clock()\n",
    "people = people_list(1000000)\n",
    "t2 = time.clock()\n",
    "print('Memory (After) : ' + str(mem_profile.memory_usage()[0]) + ' MB')\n",
    "print ('Took ' + str(t2-t1) + ' Seconds')\n",
    "print()\n",
    "\n",
    "print('Generator')\n",
    "print('Memory (Before): ' + str(mem_profile.memory_usage()[0]) + ' MB' )\n",
    "t1 = time.clock()\n",
    "people = people_generator(1000000)\n",
    "t2 = time.clock()\n",
    "print('Memory (After) : ' + str(mem_profile.memory_usage()[0]) + ' MB')\n",
    "print ('Took ' + str(t2-t1) + ' Seconds')"
   ]
  },
  {
   "cell_type": "markdown",
   "metadata": {},
   "source": [
    "### Context Managers - Efficiently Managing Resources\n",
    "\n",
    "```python\n",
    "f = open('sample.txt', 'w')\n",
    "f.write('Lorem ipsum dolor sit amet, impedit posidonium cu duo, usu.')\n",
    "f.close()\n",
    "```\n",
    "\n",
    "Recommended way of working with file objects using `with` (no longer need to close) \n",
    "\n",
    "```python\n",
    "with open('sample.txt', 'w') as f:\n",
    "    f.write('Lorem ipsum dolor sit amet, impedit posidonium cu duo, usu.')\n",
    "```"
   ]
  },
  {
   "cell_type": "code",
   "execution_count": 78,
   "metadata": {},
   "outputs": [
    {
     "name": "stdout",
     "output_type": "stream",
     "text": [
      "True\n"
     ]
    }
   ],
   "source": [
    "# Class to create context manager\n",
    "\n",
    "class OpenFile():\n",
    "    \n",
    "    def __init__(self, filename, mode):\n",
    "        \"\"\"mode - r or w\"\"\"\n",
    "        self.filename = filename\n",
    "        self.mode = mode\n",
    "    \n",
    "    def __enter__(self):\n",
    "        \"\"\"Setup of context manager\"\"\"\n",
    "        self.file = open(self.filename, self.mode)\n",
    "        return self.file  # Returns an object\n",
    "    \n",
    "    def __exit__(self, exc_type, exc_val, traceback):\n",
    "        \"\"\"Teardown of context manager\"\"\"\n",
    "        self.file.close()\n",
    "    \n",
    "with OpenFile('sample.txt', 'w') as f:\n",
    "    f.write('Testing')\n",
    "    \n",
    "print(f.closed)  # Check if the file is closed"
   ]
  },
  {
   "cell_type": "code",
   "execution_count": 79,
   "metadata": {},
   "outputs": [
    {
     "name": "stdout",
     "output_type": "stream",
     "text": [
      "True\n"
     ]
    }
   ],
   "source": [
    "# Function to create context manager\n",
    "\n",
    "from contextlib import contextmanager\n",
    "\n",
    "@contextmanager\n",
    "def openFile(file, mode):\n",
    "    f = open(file, mode)\n",
    "    yield f\n",
    "    f.close()  # Teardown\n",
    "    \n",
    "with openFile('sample.txt', 'w') as f:\n",
    "    f.write('Testing')\n",
    "    \n",
    "print(f.closed)  # Check if the file is closed \n",
    "\n",
    "# Capturing exceptions using try block\n",
    "\n",
    "@contextmanager\n",
    "def openFile(file, mode):\n",
    "    try:\n",
    "        f = open(file, mode)\n",
    "        yield f\n",
    "    finally:\n",
    "        f.close()  # Teardown\n",
    "    \n",
    "with openFile('sample.txt', 'w') as f:\n",
    "    f.write('Testing')\n",
    "    \n",
    "print(f.closed)  # Check if the file is closed "
   ]
  },
  {
   "cell_type": "markdown",
   "metadata": {},
   "source": [
    "**Context Manager Example**\n",
    "\n",
    "- `cd` into a directory, do some work and then `cd` back"
   ]
  },
  {
   "cell_type": "code",
   "execution_count": 85,
   "metadata": {},
   "outputs": [
    {
     "name": "stdout",
     "output_type": "stream",
     "text": [
      "['mnist', 'fire_theft.xls', 'text8.zip', 'birth_life_2010.txt', 'MNIST', '.ipynb_checkpoints']\n",
      "['vocab_1000.tsv']\n"
     ]
    }
   ],
   "source": [
    "import os\n",
    "from contextlib import contextmanager\n",
    "\n",
    "# 1\n",
    "cwd = os.getcwd()  # Setup\n",
    "os.chdir('data')\n",
    "print(os.listdir())\n",
    "os.chdir(cwd)  # Teardown  \n",
    "\n",
    "# 2\n",
    "cwd = os.getcwd()\n",
    "os.chdir('processed')\n",
    "print(os.listdir())\n",
    "os.chdir(cwd)"
   ]
  },
  {
   "cell_type": "markdown",
   "metadata": {},
   "source": [
    "#### Process\n",
    "- Save current directory \n",
    "- Change to destination directory\n",
    "- Do some work \n",
    "- Change back to saved (original) directory\n",
    "\n",
    "Above process is inconvenient\n",
    "\n",
    "- Saving current directory and switching to destination directory is basically setting up for the work that needs to be done\n",
    "- Switching back to saved (original) directory is basically teardown"
   ]
  },
  {
   "cell_type": "code",
   "execution_count": 86,
   "metadata": {},
   "outputs": [
    {
     "name": "stdout",
     "output_type": "stream",
     "text": [
      "['mnist', 'fire_theft.xls', 'text8.zip', 'birth_life_2010.txt', 'MNIST', '.ipynb_checkpoints']\n",
      "['vocab_1000.tsv']\n"
     ]
    }
   ],
   "source": [
    "@contextmanager\n",
    "def change_dir(destination):\n",
    "    try:\n",
    "        cwd = os.getcwd()\n",
    "        os.chdir(destination)\n",
    "        yield  # Not working with any variable inside of context managaer so dont have to yield anything\n",
    "    finally:\n",
    "        os.chdir(cwd)\n",
    "        \n",
    "with change_dir('data'):  # Yield is not returning anything so no need to use `<func>() as f:` \n",
    "    print(os.listdir())\n",
    "    \n",
    "with change_dir('processed'):\n",
    "    print(os.listdir())"
   ]
  },
  {
   "cell_type": "markdown",
   "metadata": {},
   "source": [
    "### Logging (Advanced) - Loggers, Handlers, and Formatters"
   ]
  },
  {
   "cell_type": "code",
   "execution_count": 2,
   "metadata": {},
   "outputs": [],
   "source": [
    "# Basic\n",
    "import logging\n",
    "\n",
    "logging.basicConfig(filename='sample.log', level=logging.DEBUG,\n",
    "                    format='%(asctime)s:%(name)s:%(message)s')\n",
    "\n",
    "def add(x, y):\n",
    "    return x + y\n",
    "\n",
    "x, y = 5, 10\n",
    "result = add(x, y)\n",
    "logging.debug('Add: {} + {} = {}'.format(x, y, result))\n",
    "\n",
    "\n",
    "logging.basicConfig(filename='employee.log', level=logging.DEBUG,\n",
    "                    format='%(levelname)s:%(name)s:%(message)s')\n",
    "class Employee:\n",
    "    def __init__(self, first, last):\n",
    "        self.first = first\n",
    "        self.last = last\n",
    "        \n",
    "        logging.info('Created Employee: {} - {}'.format(self.fullname, self.email))\n",
    "        \n",
    "    @property\n",
    "    def fullname(self):\n",
    "        return '{} {}'.format(self.first, self.last)\n",
    "    \n",
    "    @property\n",
    "    def email(self):\n",
    "        return '{}.{}@email.com'.format(self.first, self.last)\n",
    "    \n",
    "emp = Employee('Jon', 'Snow')  # Log somewhere not in sample.log"
   ]
  },
  {
   "cell_type": "markdown",
   "metadata": {},
   "source": [
    "- Log file text\n",
    "    - 2018-06-02 17:29:48,535:**`root`**:Add: 5 + 10 = 15\n",
    "    - 2018-06-02 17:29:48,536:**`root`**:Created Employee: Jon Snow - Jon.Snow@email.com\n",
    "    \n",
    "- Working with **`root`** logger is not a bad idea for simple/small projects. **However it is best to use specific loggers that can be configured separately**"
   ]
  },
  {
   "cell_type": "markdown",
   "metadata": {},
   "source": [
    "**Advanced**\n",
    "\n",
    "- Create and return a logger with the specified name: `logger = logging.getLogger(<name>)`\n",
    "- Set logging level: `logger.setLevel(logging.INFO)`\n",
    "- Create formatter with format string to log: `formatter = logging.Formatter(<format-string>)`\n",
    "- Create file handler: `file_handler = logging.FileHandler(<file-name>.log)`\n",
    "- Set formatter with formatter created earlier: `file_handler.setFormatter(formatter)`\n",
    "- Add file handler to logger: `logger.addHandler(file_handler)`"
   ]
  },
  {
   "cell_type": "code",
   "execution_count": 6,
   "metadata": {},
   "outputs": [],
   "source": [
    "# Employee log\n",
    "\n",
    "import logging\n",
    "\n",
    "# Create and return a logger with the specified name;\n",
    "logger = logging.getLogger('Employee')\n",
    "logger.setLevel(logging.INFO)\n",
    "\n",
    "# Create formatter with format string to log\n",
    "formatter = logging.Formatter('%(levelname)s:%(name)s:%(message)s')\n",
    "\n",
    "# Create file handler and set formatter\n",
    "file_handler = logging.FileHandler('employee.log')\n",
    "file_handler.setFormatter(formatter)\n",
    "\n",
    "# Add file handler to logger\n",
    "logger.addHandler(file_handler)\n",
    "\n",
    "class Employee:\n",
    "    def __init__(self, first, last):\n",
    "        self.first = first\n",
    "        self.last = last\n",
    "        \n",
    "        logger.info('Created Employee: {} - {}'.format(self.fullname, self.email))\n",
    "        \n",
    "    @property\n",
    "    def fullname(self):\n",
    "        return '{} {}'.format(self.first, self.last)\n",
    "    \n",
    "    @property\n",
    "    def email(self):\n",
    "        return '{}.{}@email.com'.format(self.first, self.last)\n",
    "    \n",
    "emp = Employee('Jon', 'Snow')  # Log somewhere not in sample.log"
   ]
  },
  {
   "cell_type": "code",
   "execution_count": 9,
   "metadata": {},
   "outputs": [],
   "source": [
    "# Calculator log\n",
    "\n",
    "import logging\n",
    "\n",
    "# Create and return a logger with the specified name;\n",
    "logger = logging.getLogger('Calculator')\n",
    "logger.setLevel(logging.DEBUG)\n",
    "\n",
    "# Create formatter with format string to log\n",
    "formatter = logging.Formatter('%(asctime)s:%(name)s:%(message)s')\n",
    "\n",
    "# Create file handler and set formatter\n",
    "file_handler = logging.FileHandler('sample.log')\n",
    "file_handler.setFormatter(formatter)\n",
    "\n",
    "# Add file handler to logger\n",
    "logger.addHandler(file_handler)\n",
    "\n",
    "def add(x, y):\n",
    "    return x + y\n",
    "\n",
    "x, y = 5, 10\n",
    "result = add(x, y)\n",
    "logger.debug('Add: {} + {} = {}'.format(x, y, result))"
   ]
  },
  {
   "cell_type": "markdown",
   "metadata": {},
   "source": [
    "**Setting log level to file handler to override loggers log level**\n",
    "- W/WO `Traceback`"
   ]
  },
  {
   "cell_type": "code",
   "execution_count": 11,
   "metadata": {},
   "outputs": [],
   "source": [
    "# Calculator log\n",
    "\n",
    "import logging\n",
    "\n",
    "# Create and return a logger with the specified name;\n",
    "logger = logging.getLogger('Calculator')\n",
    "logger.setLevel(logging.DEBUG)\n",
    "\n",
    "# Create formatter with format string to log\n",
    "formatter = logging.Formatter('%(asctime)s:%(name)s:%(message)s')\n",
    "\n",
    "# Create file handler and set formatter\n",
    "file_handler = logging.FileHandler('sample.log')\n",
    "file_handler.setLevel(logging.ERROR)  # Setting level to file handler to only log ERRORS\n",
    "file_handler.setFormatter(formatter)\n",
    "\n",
    "# Add file handler to logger\n",
    "logger.addHandler(file_handler)\n",
    "\n",
    "def add(x, y):\n",
    "    try:\n",
    "        result = x + y\n",
    "    except:\n",
    "        #logger.error('number and string addition!')  # Error string only!\n",
    "        logger.exception('number and string addition!')  # Error string with Traceback\n",
    "    else:\n",
    "        return result\n",
    "\n",
    "x, y = 5, '3'\n",
    "result = add(x, y)\n",
    "logger.debug('Add: {} + {} = {}'.format(x, y, result))"
   ]
  },
  {
   "cell_type": "markdown",
   "metadata": {},
   "source": [
    "**Multiple Handlers**\n",
    "- Write to log file - `FileHandler`\n",
    "- Console display - `StreamHandler`"
   ]
  },
  {
   "cell_type": "code",
   "execution_count": 15,
   "metadata": {},
   "outputs": [
    {
     "name": "stderr",
     "output_type": "stream",
     "text": [
      "Add: 5 + 10 = 15\n",
      "2018-06-02 18:18:21,427:Calculator:Add: 5 + 10 = 15\n",
      "2018-06-02 18:18:21,427:Calculator:Add: 5 + 10 = 15\n",
      "2018-06-02 18:18:21,427:Calculator:Add: 5 + 10 = 15\n",
      "number and string addition!\n",
      "Traceback (most recent call last):\n",
      "  File \"<ipython-input-15-c8d94f28f4f5>\", line 26, in add\n",
      "    result = x + y\n",
      "TypeError: unsupported operand type(s) for +: 'int' and 'str'\n",
      "2018-06-02 18:18:21,430:Calculator:number and string addition!\n",
      "Traceback (most recent call last):\n",
      "  File \"<ipython-input-15-c8d94f28f4f5>\", line 26, in add\n",
      "    result = x + y\n",
      "TypeError: unsupported operand type(s) for +: 'int' and 'str'\n",
      "2018-06-02 18:18:21,430:Calculator:number and string addition!\n",
      "Traceback (most recent call last):\n",
      "  File \"<ipython-input-15-c8d94f28f4f5>\", line 26, in add\n",
      "    result = x + y\n",
      "TypeError: unsupported operand type(s) for +: 'int' and 'str'\n",
      "2018-06-02 18:18:21,430:Calculator:number and string addition!\n",
      "Traceback (most recent call last):\n",
      "  File \"<ipython-input-15-c8d94f28f4f5>\", line 26, in add\n",
      "    result = x + y\n",
      "TypeError: unsupported operand type(s) for +: 'int' and 'str'\n",
      "Add: 5 + 3 = None\n",
      "2018-06-02 18:18:21,434:Calculator:Add: 5 + 3 = None\n",
      "2018-06-02 18:18:21,434:Calculator:Add: 5 + 3 = None\n",
      "2018-06-02 18:18:21,434:Calculator:Add: 5 + 3 = None\n"
     ]
    }
   ],
   "source": [
    "import logging\n",
    "\n",
    "# Create and return a logger with the specified name;\n",
    "logger = logging.getLogger('Calculator')\n",
    "logger.setLevel(logging.DEBUG)\n",
    "\n",
    "# Create formatter with format string to log\n",
    "formatter = logging.Formatter('%(asctime)s:%(name)s:%(message)s')\n",
    "\n",
    "# Create file handler and set formatter\n",
    "file_handler = logging.FileHandler('sample.log')\n",
    "file_handler.setLevel(logging.ERROR)  # Setting level to file handler to only log ERRORS\n",
    "file_handler.setFormatter(formatter)\n",
    "\n",
    "# Creat stream handler\n",
    "stream_handler = logging.StreamHandler()\n",
    "stream_handler.setFormatter(formatter)\n",
    "\n",
    "# Add handler to logger\n",
    "logger.addHandler(file_handler)\n",
    "logger.addHandler(stream_handler)\n",
    "\n",
    "\n",
    "def add(x, y):\n",
    "    try:\n",
    "        result = x + y\n",
    "    except:\n",
    "        #logger.error('number and string addition!')  # Error string only!\n",
    "        logger.exception('number and string addition!')  # Error string with Traceback\n",
    "    else:\n",
    "        return result\n",
    "\n",
    "x, y = 5, 10\n",
    "result = add(x, y)\n",
    "logger.debug('Add: {} + {} = {}'.format(x, y, result))\n",
    "\n",
    "x, y = 5, '3'\n",
    "result = add(x, y)\n",
    "logger.debug('Add: {} + {} = {}'.format(x, y, result))"
   ]
  },
  {
   "cell_type": "markdown",
   "metadata": {},
   "source": [
    "### Variable Scope\n",
    "\n",
    "- LEGB: Local, Enclosing, Global, Built-in\n",
    "    - Local - Variables defined within a function\n",
    "    - Enclosing - Variables in local scope of enclosing functions\n",
    "    - Global - Variables defined at top level of the module\n",
    "    - Built-in - Names that are preassigned in Python\n",
    "- Python check variable scope in LEGB order"
   ]
  },
  {
   "cell_type": "code",
   "execution_count": 47,
   "metadata": {},
   "outputs": [
    {
     "name": "stdout",
     "output_type": "stream",
     "text": [
      "local y\n",
      "global x\n",
      "global x\n"
     ]
    }
   ],
   "source": [
    "x = 'global x'\n",
    "\n",
    "def test_local():\n",
    "    y = 'local y'\n",
    "    print(y)\n",
    "    \n",
    "test_local()\n",
    "\n",
    "def test_global():\n",
    "    y = 'local y'\n",
    "    print(x)\n",
    "    \n",
    "test_global()\n",
    "# print(y)  # y is local to function that -> error\n",
    "print(x)"
   ]
  },
  {
   "cell_type": "code",
   "execution_count": 127,
   "metadata": {},
   "outputs": [
    {
     "name": "stdout",
     "output_type": "stream",
     "text": [
      "local x\n",
      "local x\n"
     ]
    }
   ],
   "source": [
    "def test():\n",
    "    x = 'local x'\n",
    "    print(x)\n",
    "    \n",
    "test()\n",
    "print(x)"
   ]
  },
  {
   "cell_type": "code",
   "execution_count": 128,
   "metadata": {},
   "outputs": [
    {
     "name": "stdout",
     "output_type": "stream",
     "text": [
      "local x\n",
      "local x\n"
     ]
    }
   ],
   "source": [
    "x = 'global x'  # Commenting this will still print because `global` is used inside function\n",
    "def test():\n",
    "    global x\n",
    "    x = 'local x'\n",
    "    print(x)\n",
    "    \n",
    "test()\n",
    "print(x)"
   ]
  },
  {
   "cell_type": "code",
   "execution_count": 117,
   "metadata": {},
   "outputs": [
    {
     "name": "stdout",
     "output_type": "stream",
     "text": [
      "local z\n"
     ]
    }
   ],
   "source": [
    "def test(z):\n",
    "    x = 'local x'\n",
    "    print(z)\n",
    "    \n",
    "test('local z')\n",
    "# print(z)  # NameError"
   ]
  },
  {
   "cell_type": "code",
   "execution_count": 119,
   "metadata": {},
   "outputs": [
    {
     "name": "stdout",
     "output_type": "stream",
     "text": [
      "1\n"
     ]
    }
   ],
   "source": [
    "# Built-in\n",
    "m = min([5, 1, 4, 2, 3])\n",
    "print(m)"
   ]
  },
  {
   "cell_type": "code",
   "execution_count": 120,
   "metadata": {},
   "outputs": [
    {
     "name": "stdout",
     "output_type": "stream",
     "text": [
      "['ArithmeticError', 'AssertionError', 'AttributeError', 'BaseException', 'BlockingIOError', 'BrokenPipeError', 'BufferError', 'BytesWarning', 'ChildProcessError', 'ConnectionAbortedError', 'ConnectionError', 'ConnectionRefusedError', 'ConnectionResetError', 'DeprecationWarning', 'EOFError', 'Ellipsis', 'EnvironmentError', 'Exception', 'False', 'FileExistsError', 'FileNotFoundError', 'FloatingPointError', 'FutureWarning', 'GeneratorExit', 'IOError', 'ImportError', 'ImportWarning', 'IndentationError', 'IndexError', 'InterruptedError', 'IsADirectoryError', 'KeyError', 'KeyboardInterrupt', 'LookupError', 'MemoryError', 'NameError', 'None', 'NotADirectoryError', 'NotImplemented', 'NotImplementedError', 'OSError', 'OverflowError', 'PendingDeprecationWarning', 'PermissionError', 'ProcessLookupError', 'RecursionError', 'ReferenceError', 'ResourceWarning', 'RuntimeError', 'RuntimeWarning', 'StopAsyncIteration', 'StopIteration', 'SyntaxError', 'SyntaxWarning', 'SystemError', 'SystemExit', 'TabError', 'TimeoutError', 'True', 'TypeError', 'UnboundLocalError', 'UnicodeDecodeError', 'UnicodeEncodeError', 'UnicodeError', 'UnicodeTranslateError', 'UnicodeWarning', 'UserWarning', 'ValueError', 'Warning', 'ZeroDivisionError', '__IPYTHON__', '__build_class__', '__debug__', '__doc__', '__import__', '__loader__', '__name__', '__package__', '__spec__', 'abs', 'all', 'any', 'ascii', 'bin', 'bool', 'bytearray', 'bytes', 'callable', 'chr', 'classmethod', 'compile', 'complex', 'copyright', 'credits', 'delattr', 'dict', 'dir', 'display', 'divmod', 'enumerate', 'eval', 'exec', 'filter', 'float', 'format', 'frozenset', 'get_ipython', 'getattr', 'globals', 'hasattr', 'hash', 'help', 'hex', 'id', 'input', 'int', 'isinstance', 'issubclass', 'iter', 'len', 'license', 'list', 'locals', 'map', 'max', 'memoryview', 'min', 'next', 'object', 'oct', 'open', 'ord', 'pow', 'print', 'property', 'range', 'repr', 'reversed', 'round', 'set', 'setattr', 'slice', 'sorted', 'staticmethod', 'str', 'sum', 'super', 'tuple', 'type', 'vars', 'zip']\n"
     ]
    }
   ],
   "source": [
    "import builtins\n",
    "print(dir(builtins))"
   ]
  },
  {
   "cell_type": "code",
   "execution_count": 125,
   "metadata": {},
   "outputs": [
    {
     "ename": "TypeError",
     "evalue": "min() takes 0 positional arguments but 1 was given",
     "output_type": "error",
     "traceback": [
      "\u001b[0;31m---------------------------------------------------------------------------\u001b[0m",
      "\u001b[0;31mTypeError\u001b[0m                                 Traceback (most recent call last)",
      "\u001b[0;32m<ipython-input-125-4ef14d07c6e5>\u001b[0m in \u001b[0;36m<module>\u001b[0;34m()\u001b[0m\n\u001b[1;32m      3\u001b[0m     \u001b[0;32mpass\u001b[0m\u001b[0;34m\u001b[0m\u001b[0m\n\u001b[1;32m      4\u001b[0m \u001b[0;34m\u001b[0m\u001b[0m\n\u001b[0;32m----> 5\u001b[0;31m \u001b[0mm\u001b[0m \u001b[0;34m=\u001b[0m \u001b[0mmin\u001b[0m\u001b[0;34m(\u001b[0m\u001b[0;34m[\u001b[0m\u001b[0;36m5\u001b[0m\u001b[0;34m,\u001b[0m \u001b[0;36m1\u001b[0m\u001b[0;34m,\u001b[0m \u001b[0;36m4\u001b[0m\u001b[0;34m,\u001b[0m \u001b[0;36m2\u001b[0m\u001b[0;34m,\u001b[0m \u001b[0;36m3\u001b[0m\u001b[0;34m]\u001b[0m\u001b[0;34m)\u001b[0m\u001b[0;34m\u001b[0m\u001b[0m\n\u001b[0m\u001b[1;32m      6\u001b[0m \u001b[0mprint\u001b[0m\u001b[0;34m(\u001b[0m\u001b[0mm\u001b[0m\u001b[0;34m)\u001b[0m\u001b[0;34m\u001b[0m\u001b[0m\n",
      "\u001b[0;31mTypeError\u001b[0m: min() takes 0 positional arguments but 1 was given"
     ]
    }
   ],
   "source": [
    "# Global min changed -> Error\n",
    "def min():  \n",
    "    pass\n",
    "\n",
    "m = min([5, 1, 4, 2, 3])\n",
    "print(m)"
   ]
  },
  {
   "cell_type": "code",
   "execution_count": 129,
   "metadata": {},
   "outputs": [
    {
     "name": "stdout",
     "output_type": "stream",
     "text": [
      "inner x\n",
      "outer x\n"
     ]
    }
   ],
   "source": [
    "# Enclosing Scope has to do with nested function\n",
    "def outer():\n",
    "    x = 'outer x'\n",
    "    \n",
    "    def inner():\n",
    "        x = 'inner x'\n",
    "        print(x)\n",
    "        \n",
    "    inner()\n",
    "    print(x)\n",
    "    \n",
    "outer()"
   ]
  },
  {
   "cell_type": "code",
   "execution_count": 131,
   "metadata": {},
   "outputs": [
    {
     "name": "stdout",
     "output_type": "stream",
     "text": [
      "outer x\n",
      "outer x\n"
     ]
    }
   ],
   "source": [
    "def outer():\n",
    "    x = 'outer x'\n",
    "    \n",
    "    def inner():\n",
    "        # x = 'inner x'\n",
    "        print(x)\n",
    "        \n",
    "    inner()\n",
    "    print(x)\n",
    "    \n",
    "outer()"
   ]
  },
  {
   "cell_type": "code",
   "execution_count": 132,
   "metadata": {},
   "outputs": [
    {
     "name": "stdout",
     "output_type": "stream",
     "text": [
      "local x\n",
      "local x\n"
     ]
    }
   ],
   "source": [
    "def outer():\n",
    "    # x = 'outer x'\n",
    "    \n",
    "    def inner():\n",
    "        # x = 'inner x'\n",
    "        print(x)\n",
    "        \n",
    "    inner()\n",
    "    print(x)\n",
    "    \n",
    "outer()"
   ]
  },
  {
   "cell_type": "code",
   "execution_count": 133,
   "metadata": {},
   "outputs": [
    {
     "name": "stdout",
     "output_type": "stream",
     "text": [
      "inner x\n",
      "inner x\n"
     ]
    }
   ],
   "source": [
    "def outer():\n",
    "    x = 'outer x'\n",
    "    \n",
    "    def inner():\n",
    "        nonlocal x  # Changes scope\n",
    "        x = 'inner x'\n",
    "        print(x)\n",
    "        \n",
    "    inner()\n",
    "    print(x)\n",
    "    \n",
    "outer()"
   ]
  },
  {
   "cell_type": "code",
   "execution_count": 137,
   "metadata": {},
   "outputs": [
    {
     "name": "stdout",
     "output_type": "stream",
     "text": [
      "inner x\n",
      "outer x\n",
      "global x\n"
     ]
    }
   ],
   "source": [
    "x = 'global x'\n",
    "def outer():\n",
    "    x = 'outer x'\n",
    "    \n",
    "    def inner():\n",
    "        x = 'inner x'\n",
    "        print(x)\n",
    "        \n",
    "    inner()\n",
    "    print(x)\n",
    "    \n",
    "outer()\n",
    "print(x)"
   ]
  },
  {
   "cell_type": "code",
   "execution_count": null,
   "metadata": {},
   "outputs": [],
   "source": []
  }
 ],
 "metadata": {
  "kernelspec": {
   "display_name": "Python 3",
   "language": "python",
   "name": "python3"
  },
  "language_info": {
   "codemirror_mode": {
    "name": "ipython",
    "version": 3
   },
   "file_extension": ".py",
   "mimetype": "text/x-python",
   "name": "python",
   "nbconvert_exporter": "python",
   "pygments_lexer": "ipython3",
   "version": "3.5.2"
  }
 },
 "nbformat": 4,
 "nbformat_minor": 2
}
