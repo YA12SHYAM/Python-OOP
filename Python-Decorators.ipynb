{
 "cells": [
  {
   "cell_type": "markdown",
   "metadata": {},
   "source": [
    "**Decorators** - A function that takes another function as an argument, adds some kind of functionality and return another function without altering the source code of the original function that was passed in.\n",
    "\n",
    "Dynamically alter the functionality of functions."
   ]
  },
  {
   "cell_type": "code",
   "execution_count": 1,
   "metadata": {},
   "outputs": [
    {
     "name": "stdout",
     "output_type": "stream",
     "text": [
      "Hi\n"
     ]
    }
   ],
   "source": [
    "def outer_function():\n",
    "    message = 'Hi'\n",
    "    \n",
    "    def inner_function():\n",
    "        print(message)\n",
    "    \n",
    "    return inner_function() # Execute and return result\n",
    "\n",
    "outer_function()"
   ]
  },
  {
   "cell_type": "code",
   "execution_count": 2,
   "metadata": {},
   "outputs": [
    {
     "name": "stdout",
     "output_type": "stream",
     "text": [
      "<function inner_function at 0x7f2d346905f0>\n",
      "Hi\n"
     ]
    }
   ],
   "source": [
    "def outer_function():\n",
    "    message = 'Hi'\n",
    "    \n",
    "    def inner_function():\n",
    "        print(message)\n",
    "    \n",
    "    return inner_function # Return function without execution\n",
    "\n",
    "func = outer_function()\n",
    "print(func)\n",
    "func()"
   ]
  },
  {
   "cell_type": "code",
   "execution_count": 3,
   "metadata": {},
   "outputs": [
    {
     "name": "stdout",
     "output_type": "stream",
     "text": [
      "Hi\n",
      "Bye\n"
     ]
    },
    {
     "data": {
      "text/plain": [
       "(None, None)"
      ]
     },
     "execution_count": 3,
     "metadata": {},
     "output_type": "execute_result"
    }
   ],
   "source": [
    "def outer_function(msg):\n",
    "    message = msg\n",
    "    \n",
    "    def inner_function():\n",
    "        print(message)\n",
    "    \n",
    "    return inner_function # Return function without execution\n",
    "\n",
    "hi_func = outer_function('Hi')\n",
    "bye_func = outer_function('Bye')\n",
    "\n",
    "hi_func(), bye_func()"
   ]
  },
  {
   "cell_type": "code",
   "execution_count": 4,
   "metadata": {},
   "outputs": [
    {
     "name": "stdout",
     "output_type": "stream",
     "text": [
      "Hi\n",
      "Bye\n"
     ]
    },
    {
     "data": {
      "text/plain": [
       "(None, None)"
      ]
     },
     "execution_count": 4,
     "metadata": {},
     "output_type": "execute_result"
    }
   ],
   "source": [
    "def outer_function(msg):    \n",
    "    def inner_function():\n",
    "        print(msg)\n",
    "    \n",
    "    return inner_function # Return function without execution\n",
    "\n",
    "hi_func = outer_function('Hi')\n",
    "bye_func = outer_function('Bye')\n",
    "\n",
    "hi_func(), bye_func()"
   ]
  },
  {
   "cell_type": "markdown",
   "metadata": {},
   "source": [
    "```python\n",
    "def outer_function(msg):    \n",
    "    def inner_function():\n",
    "        print(msg)\n",
    "    return inner_function # Return function without execution\n",
    "\n",
    "def decorator_function(message):\n",
    "    def wrapper_function():\n",
    "        print(message)\n",
    "    return wrapper_function # Return function without execution\n",
    "```"
   ]
  },
  {
   "cell_type": "code",
   "execution_count": 5,
   "metadata": {},
   "outputs": [
    {
     "name": "stdout",
     "output_type": "stream",
     "text": [
      "<function wrapper_function at 0x7f2d34690848>\n",
      "\"display\" function ran\n"
     ]
    }
   ],
   "source": [
    "def decorator_function(original_function):\n",
    "    def wrapper_function():\n",
    "        return original_function()\n",
    "    return wrapper_function\n",
    "\n",
    "def display():\n",
    "    print('\"display\" function ran')\n",
    "    \n",
    "decorated_display = decorator_function(display)\n",
    "print(decorated_display)\n",
    "decorated_display()"
   ]
  },
  {
   "cell_type": "code",
   "execution_count": 6,
   "metadata": {},
   "outputs": [
    {
     "name": "stdout",
     "output_type": "stream",
     "text": [
      "<function wrapper_function at 0x7f2d34690cf8>\n",
      "\"wrapper\" printed this before executing: \"display\"\n",
      "\"display\" function ran\n"
     ]
    }
   ],
   "source": [
    "# Without modifying original \"display\" function in anyway, \"wrapper\" function can be modified \n",
    "# to add functionality to original \"display\" function\n",
    "\n",
    "def decorator_function(original_function):\n",
    "    def wrapper_function():\n",
    "        # Adding functionality to original function\n",
    "        print('\"wrapper\" printed this before executing: \"{}\"'.format(original_function.__name__))\n",
    "        return original_function()\n",
    "    return wrapper_function\n",
    "\n",
    "def display():\n",
    "    print('\"display\" function ran')\n",
    "    \n",
    "decorated_display = decorator_function(display)\n",
    "print(decorated_display)\n",
    "decorated_display()"
   ]
  },
  {
   "cell_type": "code",
   "execution_count": 7,
   "metadata": {},
   "outputs": [
    {
     "name": "stdout",
     "output_type": "stream",
     "text": [
      "\"wrapper\" printed this before executing: \"display\"\n",
      "\"display\" function ran\n"
     ]
    }
   ],
   "source": [
    "@decorator_function\n",
    "def display():\n",
    "    print('\"display\" function ran')\n",
    "    \n",
    "display()"
   ]
  },
  {
   "cell_type": "markdown",
   "metadata": {},
   "source": [
    "**Decorators with `args` and `kwargs`**"
   ]
  },
  {
   "cell_type": "code",
   "execution_count": 8,
   "metadata": {},
   "outputs": [
    {
     "ename": "TypeError",
     "evalue": "wrapper_function() takes no arguments (2 given)",
     "output_type": "error",
     "traceback": [
      "\u001b[0;31m---------------------------------------------------------------------------\u001b[0m",
      "\u001b[0;31mTypeError\u001b[0m                                 Traceback (most recent call last)",
      "\u001b[0;32m<ipython-input-8-5f3a895f69aa>\u001b[0m in \u001b[0;36m<module>\u001b[0;34m()\u001b[0m\n\u001b[1;32m     14\u001b[0m     \u001b[0;32mprint\u001b[0m\u001b[0;34m(\u001b[0m\u001b[0;34m'\"display_info\" function ran with arguments: \"{}\", \"{}\"'\u001b[0m\u001b[0;34m.\u001b[0m\u001b[0mformat\u001b[0m\u001b[0;34m(\u001b[0m\u001b[0mname\u001b[0m\u001b[0;34m,\u001b[0m \u001b[0mgender\u001b[0m\u001b[0;34m)\u001b[0m\u001b[0;34m)\u001b[0m\u001b[0;34m\u001b[0m\u001b[0m\n\u001b[1;32m     15\u001b[0m \u001b[0;34m\u001b[0m\u001b[0m\n\u001b[0;32m---> 16\u001b[0;31m \u001b[0mdisplay_info\u001b[0m\u001b[0;34m(\u001b[0m\u001b[0;34m'Ankoor'\u001b[0m\u001b[0;34m,\u001b[0m \u001b[0;34m'M'\u001b[0m\u001b[0;34m)\u001b[0m\u001b[0;34m\u001b[0m\u001b[0m\n\u001b[0m",
      "\u001b[0;31mTypeError\u001b[0m: wrapper_function() takes no arguments (2 given)"
     ]
    }
   ],
   "source": [
    "def decorator_function(original_function):\n",
    "    def wrapper_function():\n",
    "        # Adding functionality to original function\n",
    "        print('\"wrapper\" printed this before executing: \"{}\"'.format(original_function.__name__))\n",
    "        return original_function()\n",
    "    return wrapper_function\n",
    "\n",
    "@decorator_function\n",
    "def display():\n",
    "    print('\"display\" function ran')\n",
    "\n",
    "@decorator_function\n",
    "def display_info(name, gender):\n",
    "    print('\"display_info\" function ran with arguments: \"{}\", \"{}\"'.format(name, gender))\n",
    "    \n",
    "display_info('Ankoor', 'M')"
   ]
  },
  {
   "cell_type": "code",
   "execution_count": 9,
   "metadata": {},
   "outputs": [
    {
     "name": "stdout",
     "output_type": "stream",
     "text": [
      "\"wrapper\" printed this before executing: \"display_info\"\n",
      "\"display_info\" function ran with arguments: \"Ankoor\", \"M\"\n"
     ]
    }
   ],
   "source": [
    "def decorator_function(original_function):\n",
    "    def wrapper_function(*args, **kwargs):\n",
    "        # Adding functionality to original function\n",
    "        print('\"wrapper\" printed this before executing: \"{}\"'.format(original_function.__name__))\n",
    "        return original_function(*args, **kwargs)\n",
    "    return wrapper_function\n",
    "\n",
    "@decorator_function\n",
    "def display():\n",
    "    print('\"display\" function ran')\n",
    "\n",
    "@decorator_function\n",
    "def display_info(name, gender):\n",
    "    print('\"display_info\" function ran with arguments: \"{}\", \"{}\"'.format(name, gender))\n",
    "    \n",
    "display_info('Ankoor', 'M')"
   ]
  },
  {
   "cell_type": "markdown",
   "metadata": {},
   "source": [
    "**Decorator Class**"
   ]
  },
  {
   "cell_type": "code",
   "execution_count": 10,
   "metadata": {},
   "outputs": [
    {
     "name": "stdout",
     "output_type": "stream",
     "text": [
      "\"__call__\" printed this before executing: \"display_info\"\n",
      "\"display_info\" function ran with arguments: \"Ankoor\", \"M\"\n"
     ]
    }
   ],
   "source": [
    "class DecoratorClass(object):\n",
    "    def __init__(self, original_function):\n",
    "        self.original_function = original_function\n",
    "    \n",
    "    # __call__ - Method mimics adding functionality to original function like \"wrapper\" function\n",
    "    def __call__(self, *args, **kwargs):\n",
    "        print('\"__call__\" printed this before executing: \"{}\"'.format(self.original_function.__name__))\n",
    "        return self.original_function(*args, **kwargs)\n",
    "        \n",
    "@DecoratorClass\n",
    "def display_info(name, gender):\n",
    "    print('\"display_info\" function ran with arguments: \"{}\", \"{}\"'.format(name, gender))\n",
    "    \n",
    "display_info('Ankoor', 'M')"
   ]
  },
  {
   "cell_type": "code",
   "execution_count": 11,
   "metadata": {},
   "outputs": [
    {
     "ename": "TypeError",
     "evalue": "decorator_function() takes at least 1 argument (1 given)",
     "output_type": "error",
     "traceback": [
      "\u001b[0;31m---------------------------------------------------------------------------\u001b[0m",
      "\u001b[0;31mTypeError\u001b[0m                                 Traceback (most recent call last)",
      "\u001b[0;32m<ipython-input-11-225679b8a315>\u001b[0m in \u001b[0;36m<module>\u001b[0;34m()\u001b[0m\n\u001b[1;32m      7\u001b[0m     \u001b[0;32mreturn\u001b[0m \u001b[0mwrapper_function\u001b[0m\u001b[0;34m\u001b[0m\u001b[0m\n\u001b[1;32m      8\u001b[0m \u001b[0;34m\u001b[0m\u001b[0m\n\u001b[0;32m----> 9\u001b[0;31m \u001b[0;34m@\u001b[0m\u001b[0mdecorator_function\u001b[0m\u001b[0;34m(\u001b[0m\u001b[0mmsg\u001b[0m\u001b[0;34m=\u001b[0m\u001b[0;34m\"Ankoor\"\u001b[0m\u001b[0;34m)\u001b[0m\u001b[0;34m\u001b[0m\u001b[0m\n\u001b[0m\u001b[1;32m     10\u001b[0m \u001b[0;32mdef\u001b[0m \u001b[0mdisplay\u001b[0m\u001b[0;34m(\u001b[0m\u001b[0;34m)\u001b[0m\u001b[0;34m:\u001b[0m\u001b[0;34m\u001b[0m\u001b[0m\n\u001b[1;32m     11\u001b[0m     \u001b[0;32mprint\u001b[0m\u001b[0;34m(\u001b[0m\u001b[0;34m'\"display\" function ran'\u001b[0m\u001b[0;34m)\u001b[0m\u001b[0;34m\u001b[0m\u001b[0m\n",
      "\u001b[0;31mTypeError\u001b[0m: decorator_function() takes at least 1 argument (1 given)"
     ]
    }
   ],
   "source": [
    "def decorator_function(original_function, msg=None):\n",
    "    def wrapper_function(*args, **kwargs):\n",
    "        print('This is a kwarg passed to \"decorator\" function: \"{}\"'.format(msg))\n",
    "        # Adding functionality to original function\n",
    "        print('\"wrapper\" printed this before executing: \"{}\"'.format(original_function.__name__))\n",
    "        return original_function(*args, **kwargs)\n",
    "    return wrapper_function\n",
    "\n",
    "@decorator_function(msg=\"Ankoor\")\n",
    "def display():\n",
    "    print('\"display\" function ran')"
   ]
  },
  {
   "cell_type": "code",
   "execution_count": null,
   "metadata": {},
   "outputs": [],
   "source": []
  }
 ],
 "metadata": {
  "kernelspec": {
   "display_name": "Python 2",
   "language": "python",
   "name": "python2"
  },
  "language_info": {
   "codemirror_mode": {
    "name": "ipython",
    "version": 2
   },
   "file_extension": ".py",
   "mimetype": "text/x-python",
   "name": "python",
   "nbconvert_exporter": "python",
   "pygments_lexer": "ipython2",
   "version": "2.7.12"
  }
 },
 "nbformat": 4,
 "nbformat_minor": 2
}
