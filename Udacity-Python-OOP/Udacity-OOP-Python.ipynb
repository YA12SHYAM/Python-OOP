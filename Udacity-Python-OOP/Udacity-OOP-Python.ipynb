{
 "cells": [
  {
   "cell_type": "code",
   "execution_count": 1,
   "metadata": {
    "collapsed": true
   },
   "outputs": [],
   "source": [
    "from __future__ import print_function\n",
    "import os\n",
    "import time\n",
    "import turtle\n",
    "import webbrowser"
   ]
  },
  {
   "cell_type": "markdown",
   "metadata": {},
   "source": [
    "**Open a web-browzer at defined intervals**"
   ]
  },
  {
   "cell_type": "code",
   "execution_count": null,
   "metadata": {
    "collapsed": true
   },
   "outputs": [],
   "source": [
    "for _ in range(3):\n",
    "    time.sleep(3)\n",
    "    webbrowser.open('https://www.youtube.com/watch?v=v4pi1LxuDHc')"
   ]
  },
  {
   "cell_type": "code",
   "execution_count": null,
   "metadata": {
    "collapsed": false
   },
   "outputs": [],
   "source": [
    "total_breaks = 3\n",
    "break_count = 0\n",
    "print('Program Started on: ', time.ctime())\n",
    "while break_count < total_breaks:\n",
    "    time.sleep(1)\n",
    "    print('Take Break!')\n",
    "    break_count += 1"
   ]
  },
  {
   "cell_type": "markdown",
   "metadata": {},
   "source": [
    "**Rename files in a directory**"
   ]
  },
  {
   "cell_type": "code",
   "execution_count": null,
   "metadata": {
    "collapsed": false
   },
   "outputs": [],
   "source": [
    "string = '16los angeles.jpg'\n",
    "string.translate(None,'0123456789') # Second Arg: deletechars"
   ]
  },
  {
   "cell_type": "code",
   "execution_count": null,
   "metadata": {
    "collapsed": false
   },
   "outputs": [],
   "source": [
    "file_list = os.listdir(r'/Users/Ankoor/Desktop/Udacity/prank')\n",
    "saved_path = os.getcwd()\n",
    "os.chdir(r'/Users/Ankoor/Desktop/Udacity/prank')\n",
    "for file_name in file_list:\n",
    "    destination = file_name.translate(None, '0123456789')\n",
    "    os.rename(file_name, destination)\n",
    "os.chdir(saved_path)\n",
    "    \n",
    "os.listdir(r'/Users/Ankoor/Desktop/Udacity/prank')[:3]"
   ]
  },
  {
   "cell_type": "markdown",
   "metadata": {
    "collapsed": true
   },
   "source": [
    "# Use Classes\n",
    "\n",
    "**Draw Square**"
   ]
  },
  {
   "cell_type": "code",
   "execution_count": 14,
   "metadata": {
    "collapsed": false
   },
   "outputs": [],
   "source": [
    "def draw_square():\n",
    "    window = turtle.Screen()\n",
    "    window.bgcolor('red')\n",
    "    try:\n",
    "        ant = turtle.Turtle() # instance of a turtle\n",
    "        ant.shape('turtle')\n",
    "        ant.color('yellow')\n",
    "        ant.speed(2)\n",
    "        ant.forward(100)\n",
    "        ant.right(90)\n",
    "        ant.forward(100)\n",
    "        ant.right(90)\n",
    "        ant.forward(100)\n",
    "        ant.right(90)\n",
    "        ant.forward(100)\n",
    "        ant.right(90)\n",
    "        \n",
    "        cat = turtle.Turtle() # instance of a turtle\n",
    "        cat.shape('turtle')\n",
    "        cat.color('blue')\n",
    "        cat.circle(100)\n",
    "\n",
    "        window.exitonclick()\n",
    "    except Exception:\n",
    "        pass\n",
    "    \n",
    "draw_square() # Code is repetitive (forward, right) and function draw_square should not create circle."
   ]
  },
  {
   "cell_type": "code",
   "execution_count": 18,
   "metadata": {
    "collapsed": false
   },
   "outputs": [],
   "source": [
    "def draw_square(some_turtle):\n",
    "    for _ in range(4):\n",
    "        some_turtle.forward(100)\n",
    "        some_turtle.right(90)\n",
    "        \n",
    "def draw_art():\n",
    "    window = turtle.Screen()\n",
    "    window.bgcolor('red')\n",
    "    try:\n",
    "        ant = turtle.Turtle() # instance of a turtle\n",
    "        ant.shape('turtle')\n",
    "        ant.color('yellow')\n",
    "        ant.speed(2)\n",
    "        draw_square(ant)\n",
    "        \n",
    "        cat = turtle.Turtle() # instance of a turtle\n",
    "        cat.shape('turtle')\n",
    "        cat.color('blue')\n",
    "        cat.circle(100)\n",
    "\n",
    "        window.exitonclick()\n",
    "    except Exception:\n",
    "        pass\n",
    "    \n",
    "draw_art()"
   ]
  },
  {
   "cell_type": "markdown",
   "metadata": {},
   "source": [
    "**Draw Art**"
   ]
  },
  {
   "cell_type": "code",
   "execution_count": 28,
   "metadata": {
    "collapsed": true
   },
   "outputs": [],
   "source": [
    "def draw_square(some_turtle):\n",
    "    for _ in range(4):\n",
    "        some_turtle.forward(100)\n",
    "        some_turtle.right(90)\n",
    "        \n",
    "def draw_art():\n",
    "    window = turtle.Screen()\n",
    "    window.bgcolor('red')\n",
    "    try:\n",
    "        ant = turtle.Turtle() # instance of a turtle\n",
    "        ant.shape('turtle')\n",
    "        ant.color('yellow')\n",
    "        ant.speed(5)\n",
    "        for i in range(36):\n",
    "            draw_square(ant)\n",
    "            ant.right(10)\n",
    "        window.exitonclick()\n",
    "    except Exception:\n",
    "        pass\n",
    "    \n",
    "draw_art()"
   ]
  },
  {
   "cell_type": "markdown",
   "metadata": {
    "collapsed": true
   },
   "source": [
    "**Send Text**"
   ]
  },
  {
   "cell_type": "code",
   "execution_count": 30,
   "metadata": {
    "collapsed": false
   },
   "outputs": [],
   "source": [
    "# !pip install twilio"
   ]
  },
  {
   "cell_type": "code",
   "execution_count": 33,
   "metadata": {
    "collapsed": false
   },
   "outputs": [
    {
     "name": "stdout",
     "output_type": "stream",
     "text": [
      "SMce79edbc2ecd47bfb0322aa6a30cf7d8\n"
     ]
    }
   ],
   "source": [
    "from twilio.rest import Client\n",
    "\n",
    "# Account SID from twilio.com/console\n",
    "account_sid = \"AC3d4xxxxxxx\" \n",
    "\n",
    "# Auth Token from twilio.com/console\n",
    "auth_token  = \"caf31xxxxxxx\"\n",
    "\n",
    "client = Client(account_sid, auth_token)\n",
    "\n",
    "message = client.messages.create(\n",
    "    to=\"+1949xxxxxxx\", # Google Voice Number \n",
    "    from_=\"+1909xxxxxxx\", # Twilio Number\n",
    "    body=\"Hello from Ankoor via Python!\")\n",
    "\n",
    "print(message.sid)"
   ]
  },
  {
   "cell_type": "markdown",
   "metadata": {},
   "source": [
    "**Profanity Editor**\n",
    "\n",
    "http://www.wdylike.appspot.com/?q=shot"
   ]
  },
  {
   "cell_type": "code",
   "execution_count": 49,
   "metadata": {
    "collapsed": false
   },
   "outputs": [
    {
     "name": "stdout",
     "output_type": "stream",
     "text": [
      "-- Houston, we have a problem. (Apollo 13)\n",
      "\n",
      "-- Mama always said, life is like a box of chocolates. You never know what you are going to get. (Forrest Gump)\n",
      "\n",
      "-- You cant handle the truth. (A Few Good Men)\n",
      "\n",
      "-- I believe everything and I believe nothing. (A Shit in the Dark)\n",
      "\n",
      "Profanity Alert!\n"
     ]
    }
   ],
   "source": [
    "from urllib import urlopen\n",
    "\n",
    "def check_profanity(text_to_check):\n",
    "    connection = urlopen('http://www.wdylike.appspot.com/?q=' + text_to_check)\n",
    "    output = connection.read()\n",
    "    connection.close()\n",
    "    if 'true' in output:\n",
    "        print('Profanity Alert!')\n",
    "    elif 'false' in output:\n",
    "        print('Document does not have profanity.')\n",
    "    else:\n",
    "        print('Not able to scan document properly.')\n",
    "\n",
    "def read_text(text_file):\n",
    "    quotes = open(text_file)\n",
    "    content = quotes.read()\n",
    "    print(content)\n",
    "    print()\n",
    "    quotes.close()\n",
    "    check_profanity(content)\n",
    "\n",
    "text_file = r'/Users/Ankoor/Desktop/Udacity/movie_quotes.txt'\n",
    "read_text(text_file)"
   ]
  },
  {
   "cell_type": "markdown",
   "metadata": {},
   "source": [
    "# Making Class\n",
    "\n",
    "**Movie Website**"
   ]
  },
  {
   "cell_type": "code",
   "execution_count": 92,
   "metadata": {
    "collapsed": false
   },
   "outputs": [],
   "source": [
    "class Movie():\n",
    "    \"\"\"This class provides a way to store movie related information.\"\"\"\n",
    "    VALID_RATINGS = ['G', 'PG', 'PG-13', 'R'] # Google Style Guide for Class Variable: ALL CAPS\n",
    "    def __init__(self, movie_title, movie_storyline, movie_poster_image_url,\n",
    "                 movie_trailer_youtube_url):\n",
    "        self.title = movie_title\n",
    "        self.storyline = movie_storyline\n",
    "        self.poster_image_url = movie_poster_image_url\n",
    "        self.trailer_youtube_url = movie_trailer_youtube_url\n",
    "        \n",
    "    def show_trailer(self):\n",
    "        webbrowser.open(self.trailer_youtube_url)"
   ]
  },
  {
   "cell_type": "code",
   "execution_count": 88,
   "metadata": {
    "collapsed": false
   },
   "outputs": [],
   "source": [
    "# Create an instance of Movie class\n",
    "toy_story = Movie('Toy Story',\n",
    "                  'A story of a boy and his toys that come to life.',\n",
    "                  'https://upload.wikimedia.org/wikipedia/en/1/13/Toy_Story.jpg',\n",
    "                  'https://www.youtube.com/watch?v=v-PjgYDrg70')\n",
    "\n",
    "# Create another instance of Movie class\n",
    "avatar = Movie('Avatar',\n",
    "               'A marine on an alien planet.',\n",
    "               'https://upload.wikimedia.org/wikipedia/en/b/b0/Avatar-Teaser-Poster.jpg',\n",
    "               'https://www.youtube.com/watch?v=d1_JBMrrYw8')\n",
    "\n",
    "school_of_rock = Movie('School of Rock', \n",
    "                       'Using rock music to learn.',\n",
    "                       'https://upload.wikimedia.org/wikipedia/en/1/11/School_of_Rock_Poster.jpg',\n",
    "                       'https://www.youtube.com/watch?v=3PsUJFEBC74')\n",
    "\n",
    "ratatouille = Movie('Ratatouille', \n",
    "                    'A rat is a chef in Paris.',\n",
    "                    'https://upload.wikimedia.org/wikipedia/en/5/50/RatatouillePoster.jpg',\n",
    "                    'https://www.youtube.com/watch?v=c3sBBRxDAqk')\n",
    "\n",
    "hunger_games = Movie('Hunger Games',\n",
    "                     'A really real reality show.',\n",
    "                     'https://upload.wikimedia.org/wikipedia/en/4/42/HungerGamesPoster.jpg',\n",
    "                     'https://www.youtube.com/watch?v=mfmrPu43DF8')"
   ]
  },
  {
   "cell_type": "code",
   "execution_count": 89,
   "metadata": {
    "collapsed": false
   },
   "outputs": [
    {
     "data": {
      "text/plain": [
       "['G', 'PG', 'PG-13', 'R']"
      ]
     },
     "execution_count": 89,
     "metadata": {},
     "output_type": "execute_result"
    }
   ],
   "source": [
    "# print(toy_story)\n",
    "# print(toy_story.storyline)\n",
    "# toy_story.show_trailer()\n",
    "# print(avatar.storyline)\n",
    "toy_story.VALID_RATINGS"
   ]
  },
  {
   "cell_type": "code",
   "execution_count": 78,
   "metadata": {
    "collapsed": true
   },
   "outputs": [],
   "source": [
    "import fresh_tomatoes as ft\n",
    "\n",
    "movies = [toy_story, avatar, school_of_rock, ratatouille, hunger_games]\n",
    "ft.open_movies_page(movies)"
   ]
  },
  {
   "cell_type": "markdown",
   "metadata": {},
   "source": [
    "**Advanced Topics**\n",
    "\n",
    "http://www2.lib.uchicago.edu/keith/courses/python/class/5/"
   ]
  },
  {
   "cell_type": "code",
   "execution_count": 93,
   "metadata": {
    "collapsed": false
   },
   "outputs": [
    {
     "data": {
      "text/plain": [
       "'RawTurtle auto-creating (scrolled) canvas.\\n\\n    When a Turtle object is created or a function derived from some\\n    Turtle method is called a TurtleScreen object is automatically created.\\n    '"
      ]
     },
     "execution_count": 93,
     "metadata": {},
     "output_type": "execute_result"
    }
   ],
   "source": [
    "# In Python all classes come with pre-existing class variables\n",
    "# e.g. __doc__\n",
    "turtle.Turtle.__doc__"
   ]
  },
  {
   "cell_type": "code",
   "execution_count": 96,
   "metadata": {
    "collapsed": false
   },
   "outputs": [
    {
     "name": "stdout",
     "output_type": "stream",
     "text": [
      "This class provides a way to store movie related information.\n",
      "Movie\n",
      "__main__\n"
     ]
    }
   ],
   "source": [
    "print(Movie.__doc__)\n",
    "print(Movie.__name__)\n",
    "print(Movie.__module__)"
   ]
  },
  {
   "cell_type": "code",
   "execution_count": 101,
   "metadata": {
    "collapsed": false
   },
   "outputs": [
    {
     "name": "stdout",
     "output_type": "stream",
     "text": [
      "__main__.Movie\n",
      "{'poster_image_url': 'https://upload.wikimedia.org/wikipedia/en/1/13/Toy_Story.jpg', 'storyline': 'A story of a boy and his toys that come to life.', 'trailer_youtube_url': 'https://www.youtube.com/watch?v=v-PjgYDrg70', 'title': 'Toy Story'}\n",
      "None\n"
     ]
    }
   ],
   "source": [
    "# Instance Attributes\n",
    "print(toy_story.__class__)\n",
    "print(toy_story.__dict__)\n",
    "print(toy_story.__doc__) # Class Attribute as well as Instance Attribute"
   ]
  },
  {
   "cell_type": "code",
   "execution_count": 130,
   "metadata": {
    "collapsed": true
   },
   "outputs": [],
   "source": [
    "# Inheritance\n",
    "\n",
    "class Parent():\n",
    "    def __init__(self, last_name, eye_color): # Also called \"Constructor\"\n",
    "        print(\"Parent Constructor Called.\")\n",
    "        self.last_name = last_name\n",
    "        self.eye_color = eye_color\n",
    "        \n",
    "    def show_info(self):\n",
    "        print('Last Name: ', self.last_name)\n",
    "        print('Eye Color: ', self.eye_color)\n",
    "        \n",
    "class Child(Parent): # Child inheriting everything publicly available in class Parent\n",
    "    def __init__(self, last_name, eye_color, num_toys):\n",
    "        print(\"Child Constructor Called.\")\n",
    "        Parent.__init__(self, last_name, eye_color) # Initialize variables inheriting from class Parent\n",
    "        self.num_toys = num_toys\n",
    "        \n",
    "    def show_info(self):\n",
    "        print('Last Name: ', self.last_name)\n",
    "        print('Eye Color: ', self.eye_color)\n",
    "        print('Number of toys: ', str(self.num_toys))"
   ]
  },
  {
   "cell_type": "code",
   "execution_count": 131,
   "metadata": {
    "collapsed": false
   },
   "outputs": [
    {
     "name": "stdout",
     "output_type": "stream",
     "text": [
      "Parent Constructor Called.\n",
      "Child Constructor Called.\n",
      "Parent Constructor Called.\n",
      "Last Name:  Cyrus\n",
      "Eye Color:  Blue\n",
      "Number of toys:  5\n"
     ]
    }
   ],
   "source": [
    "billy_cyrus = Parent('Cyrus', 'Blue')\n",
    "# print(billy_cyrus.last_name)\n",
    "\n",
    "miley_cyrus = Child('Cyrus', 'Blue', 5)\n",
    "# print(miley_cyrus.last_name)\n",
    "# print(miley_cyrus.eye_color)\n",
    "# print(miley_cyrus.num_toys)\n",
    "\n",
    "# billy_cyrus.show_info()\n",
    "miley_cyrus.show_info()"
   ]
  },
  {
   "cell_type": "code",
   "execution_count": 132,
   "metadata": {
    "collapsed": false
   },
   "outputs": [
    {
     "name": "stdout",
     "output_type": "stream",
     "text": [
      "Last Name:  Cyrus\n",
      "Eye Color:  Blue\n"
     ]
    }
   ],
   "source": [
    "billy_cyrus.show_info()"
   ]
  }
 ],
 "metadata": {
  "kernelspec": {
   "display_name": "Python 2",
   "language": "python",
   "name": "python2"
  },
  "language_info": {
   "codemirror_mode": {
    "name": "ipython",
    "version": 2
   },
   "file_extension": ".py",
   "mimetype": "text/x-python",
   "name": "python",
   "nbconvert_exporter": "python",
   "pygments_lexer": "ipython2",
   "version": "2.7.12"
  }
 },
 "nbformat": 4,
 "nbformat_minor": 1
}
