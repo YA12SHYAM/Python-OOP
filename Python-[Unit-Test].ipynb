{
 "cells": [
  {
   "cell_type": "code",
   "execution_count": 2,
   "metadata": {},
   "outputs": [],
   "source": [
    "import unittest"
   ]
  },
  {
   "cell_type": "code",
   "execution_count": 25,
   "metadata": {},
   "outputs": [],
   "source": [
    "# Arithmetic functions\n",
    "\n",
    "def add(x, y):\n",
    "    return x + y\n",
    "\n",
    "def multiply(x, y):\n",
    "    return x * y\n",
    "\n",
    "def divide(x, y):\n",
    "    if y == 0:\n",
    "        raise ValueError('Can not divide by zero!')\n",
    "    return x/y"
   ]
  },
  {
   "cell_type": "markdown",
   "metadata": {},
   "source": [
    "[TestCase Assert Methods](https://docs.python.org/3/library/unittest.html#unittest.TestCase)\n"
   ]
  },
  {
   "cell_type": "code",
   "execution_count": 37,
   "metadata": {},
   "outputs": [],
   "source": [
    "# Create a class and inherit from `unittest.TestCase`\n",
    "class TestCalc(unittest.TestCase):\n",
    "    \n",
    "    def test_add(self):  # Testing methods must start with `test_`\n",
    "        self.assertEqual(add(10, 5), 15)\n",
    "        self.assertEqual(add(-1, 1), 0)\n",
    "        self.assertEqual(add(-1, -1), -2)\n",
    "        \n",
    "    def test_multiply(self):\n",
    "        self.assertEqual(multiply(2, 10), 20)\n",
    "        self.assertEqual(multiply(10, 0), 0)\n",
    "        self.assertEqual(multiply(4, 0.25), 1.0)\n",
    "        \n",
    "    def test_divide(self):\n",
    "        self.assertEqual(divide(10, 2), 5)\n",
    "        self.assertEqual(divide(-1, 1), -1)\n",
    "        self.assertEqual(divide(-1, -1), 1)\n",
    "        \n",
    "        # Checking if dividing by 0 raises ValueError\n",
    "        self.assertRaises(ValueError, divide, 10, 0)\n",
    "        \n",
    "        # With Context Manager (preferred)\n",
    "        with self.assertRaises(ValueError):\n",
    "            divide(10, 0)"
   ]
  },
  {
   "cell_type": "code",
   "execution_count": 38,
   "metadata": {},
   "outputs": [
    {
     "name": "stdout",
     "output_type": "stream",
     "text": [
      "None\n",
      "None\n",
      "None\n"
     ]
    }
   ],
   "source": [
    "print(TestCalc().test_add())\n",
    "print(TestCalc().test_multiply())\n",
    "print(TestCalc().test_divide())"
   ]
  },
  {
   "cell_type": "markdown",
   "metadata": {},
   "source": [
    "**More Difficult Tests**"
   ]
  },
  {
   "cell_type": "code",
   "execution_count": 93,
   "metadata": {},
   "outputs": [],
   "source": [
    "class Employee:\n",
    "    \n",
    "    raise_amt = 1.05\n",
    "    \n",
    "    def __init__(self, first, last, pay):\n",
    "        self.first = first\n",
    "        self.last = last\n",
    "        self.pay = pay\n",
    "        \n",
    "    @property\n",
    "    def email(self):\n",
    "        return '{}.{}@email.com'.format(self.first, self.last)\n",
    "    \n",
    "    @property\n",
    "    def fullname(self):\n",
    "        return '{} {}'.format(self.first, self.last)\n",
    "    \n",
    "    def apply_raise(self):\n",
    "        self.pay = int(self.pay * self.raise_amt)\n",
    "    \n",
    "    # Mocking (e.g. When a website is down our code will fail, \n",
    "    # but code should not fail for this reason)\n",
    "    def monthly_schedule(self, month):\n",
    "        response = requests.get('http://company.com/{self.last}/{month}')\n",
    "        if response.ok:\n",
    "            return response.text\n",
    "        else:\n",
    "            return 'Bad Response'"
   ]
  },
  {
   "cell_type": "code",
   "execution_count": 94,
   "metadata": {},
   "outputs": [],
   "source": [
    "class TestEmployee(unittest.TestCase):\n",
    "    \n",
    "    def test_email(self):\n",
    "        emp_1 = Employee('John', 'Doe', 50000)\n",
    "        emp_2 = Employee('Jane', 'Roe', 60000)\n",
    "        \n",
    "        self.assertEqual(emp_1.email, 'John.Doe@email.com')\n",
    "        self.assertEqual(emp_2.email, 'Jane.Roe@email.com')\n",
    "        \n",
    "        # Changing first name\n",
    "        emp_1.first = 'Jane'\n",
    "        emp_2.first = 'John'\n",
    "        \n",
    "        self.assertEqual(emp_1.email, 'Jane.Doe@email.com')\n",
    "        self.assertEqual(emp_2.email, 'John.Roe@email.com')\n",
    "        \n",
    "    def test_fullname(self):\n",
    "        emp_1 = Employee('John', 'Doe', 50000)\n",
    "        emp_2 = Employee('Jane', 'Roe', 60000)\n",
    "        \n",
    "        self.assertEqual(emp_1.fullname, 'John Doe')\n",
    "        self.assertEqual(emp_2.fullname, 'Jane Roe')\n",
    "        \n",
    "        # Changing first name\n",
    "        emp_1.first = 'Jane'\n",
    "        emp_2.first = 'John'\n",
    "        \n",
    "        self.assertEqual(emp_1.fullname, 'Jane Doe')\n",
    "        self.assertEqual(emp_2.fullname, 'John Roe')\n",
    "        \n",
    "    def test_apply_raise(self):\n",
    "        emp_1 = Employee('John', 'Doe', 50000)\n",
    "        emp_2 = Employee('Jane', 'Roe', 60000)\n",
    "        \n",
    "        emp_1.apply_raise()\n",
    "        emp_2.apply_raise()\n",
    "        \n",
    "        self.assertEqual(emp_1.pay, 52500)\n",
    "        self.assertEqual(emp_2.pay, 63000)"
   ]
  },
  {
   "cell_type": "code",
   "execution_count": 95,
   "metadata": {},
   "outputs": [
    {
     "name": "stdout",
     "output_type": "stream",
     "text": [
      "None\n",
      "None\n",
      "None\n"
     ]
    }
   ],
   "source": [
    "print(TestEmployee().test_email())\n",
    "print(TestEmployee().test_fullname())\n",
    "print(TestEmployee().test_apply_raise())"
   ]
  },
  {
   "cell_type": "markdown",
   "metadata": {},
   "source": [
    "Making code `DRY`\n",
    "\n",
    "If anything in `emp_1 = Employee('John', 'Doe', 50000)` or `emp_2 = Employee('Jane', 'Roe', 60000)` changes then all the tests needs to be changed.\n",
    "\n"
   ]
  },
  {
   "cell_type": "code",
   "execution_count": 96,
   "metadata": {},
   "outputs": [],
   "source": [
    "from unittest.mock import patch \n",
    "\n",
    "class TestEmployee(unittest.TestCase):\n",
    "    \n",
    "    @classmethod\n",
    "    def setUpClass(cls):\n",
    "        print('setUpClass')\n",
    "        \n",
    "    @classmethod\n",
    "    def tearDownClass(cls):\n",
    "        print('tearDownClass')\n",
    "    \n",
    "    def setUp(self):\n",
    "        self.emp_1 = Employee('John', 'Doe', 50000)\n",
    "        self.emp_2 = Employee('Jane', 'Roe', 60000)\n",
    "    \n",
    "    def tearDown(self):\n",
    "        pass\n",
    "    \n",
    "    def test_email(self):\n",
    "        self.setUp()\n",
    "        self.assertEqual(self.emp_1.email, 'John.Doe@email.com')\n",
    "        self.assertEqual(self.emp_2.email, 'Jane.Roe@email.com')\n",
    "        \n",
    "        # Changing first name\n",
    "        self.emp_1.first = 'Jane'\n",
    "        self.emp_2.first = 'John'\n",
    "        \n",
    "        self.assertEqual(self.emp_1.email, 'Jane.Doe@email.com')\n",
    "        self.assertEqual(self.emp_2.email, 'John.Roe@email.com')\n",
    "        \n",
    "    def test_fullname(self):\n",
    "        self.setUp()\n",
    "        self.assertEqual(self.emp_1.fullname, 'John Doe')\n",
    "        self.assertEqual(self.emp_2.fullname, 'Jane Roe')\n",
    "        \n",
    "        # Changing first name\n",
    "        self.emp_1.first = 'Jane'\n",
    "        self.emp_2.first = 'John'\n",
    "        \n",
    "        self.assertEqual(self.emp_1.fullname, 'Jane Doe')\n",
    "        self.assertEqual(self.emp_2.fullname, 'John Roe')\n",
    "        \n",
    "    def test_apply_raise(self):\n",
    "        self.setUp()\n",
    "        self.emp_1.apply_raise()\n",
    "        self.emp_2.apply_raise()\n",
    "        \n",
    "        self.assertEqual(self.emp_1.pay, 52500)\n",
    "        self.assertEqual(self.emp_2.pay, 63000)\n",
    "    \n",
    "    # Mocking not used often\n",
    "    def test_monthly_schedule(self):\n",
    "        with patch('requests.get') as mocked_get:\n",
    "            mocked_get.return_value.ok = True\n",
    "            mocked_get.return_value.text = 'Success'\n",
    "            \n",
    "            schedule = self.emp_1.monthly_schedule('May')\n",
    "            mocked_get.assert_called_with('http://company/Doe/May')\n",
    "            self.assertEqual(schedule, 'Success')\n",
    "            \n",
    "            mocked_get.return_value.ok = False\n",
    "            \n",
    "            schedule = self.emp_2.monthly_schedule('June')\n",
    "            mocked_get.assert_called_with('http://company/Roe/June')\n",
    "            self.assertEqual(schedule, 'Bad Response!')"
   ]
  },
  {
   "cell_type": "code",
   "execution_count": 97,
   "metadata": {},
   "outputs": [
    {
     "name": "stdout",
     "output_type": "stream",
     "text": [
      "None\n",
      "None\n",
      "None\n"
     ]
    },
    {
     "ename": "ImportError",
     "evalue": "No module named 'requests'",
     "output_type": "error",
     "traceback": [
      "\u001b[0;31m---------------------------------------------------------------------------\u001b[0m",
      "\u001b[0;31mImportError\u001b[0m                               Traceback (most recent call last)",
      "\u001b[0;32m<ipython-input-97-98a498f6653a>\u001b[0m in \u001b[0;36m<module>\u001b[0;34m()\u001b[0m\n\u001b[1;32m      2\u001b[0m \u001b[0mprint\u001b[0m\u001b[0;34m(\u001b[0m\u001b[0mTestEmployee\u001b[0m\u001b[0;34m(\u001b[0m\u001b[0;34m)\u001b[0m\u001b[0;34m.\u001b[0m\u001b[0mtest_fullname\u001b[0m\u001b[0;34m(\u001b[0m\u001b[0;34m)\u001b[0m\u001b[0;34m)\u001b[0m\u001b[0;34m\u001b[0m\u001b[0m\n\u001b[1;32m      3\u001b[0m \u001b[0mprint\u001b[0m\u001b[0;34m(\u001b[0m\u001b[0mTestEmployee\u001b[0m\u001b[0;34m(\u001b[0m\u001b[0;34m)\u001b[0m\u001b[0;34m.\u001b[0m\u001b[0mtest_apply_raise\u001b[0m\u001b[0;34m(\u001b[0m\u001b[0;34m)\u001b[0m\u001b[0;34m)\u001b[0m\u001b[0;34m\u001b[0m\u001b[0m\n\u001b[0;32m----> 4\u001b[0;31m \u001b[0mprint\u001b[0m\u001b[0;34m(\u001b[0m\u001b[0mTestEmployee\u001b[0m\u001b[0;34m(\u001b[0m\u001b[0;34m)\u001b[0m\u001b[0;34m.\u001b[0m\u001b[0mtest_monthly_schedule\u001b[0m\u001b[0;34m(\u001b[0m\u001b[0;34m)\u001b[0m\u001b[0;34m)\u001b[0m\u001b[0;34m\u001b[0m\u001b[0m\n\u001b[0m",
      "\u001b[0;32m<ipython-input-96-8cfdc569d9c8>\u001b[0m in \u001b[0;36mtest_monthly_schedule\u001b[0;34m(self)\u001b[0m\n\u001b[1;32m     52\u001b[0m     \u001b[0;31m# Mocking not used often\u001b[0m\u001b[0;34m\u001b[0m\u001b[0;34m\u001b[0m\u001b[0m\n\u001b[1;32m     53\u001b[0m     \u001b[0;32mdef\u001b[0m \u001b[0mtest_monthly_schedule\u001b[0m\u001b[0;34m(\u001b[0m\u001b[0mself\u001b[0m\u001b[0;34m)\u001b[0m\u001b[0;34m:\u001b[0m\u001b[0;34m\u001b[0m\u001b[0m\n\u001b[0;32m---> 54\u001b[0;31m         \u001b[0;32mwith\u001b[0m \u001b[0mpatch\u001b[0m\u001b[0;34m(\u001b[0m\u001b[0;34m'requests.get'\u001b[0m\u001b[0;34m)\u001b[0m \u001b[0;32mas\u001b[0m \u001b[0mmocked_get\u001b[0m\u001b[0;34m:\u001b[0m\u001b[0;34m\u001b[0m\u001b[0m\n\u001b[0m\u001b[1;32m     55\u001b[0m             \u001b[0mmocked_get\u001b[0m\u001b[0;34m.\u001b[0m\u001b[0mreturn_value\u001b[0m\u001b[0;34m.\u001b[0m\u001b[0mok\u001b[0m \u001b[0;34m=\u001b[0m \u001b[0;32mTrue\u001b[0m\u001b[0;34m\u001b[0m\u001b[0m\n\u001b[1;32m     56\u001b[0m             \u001b[0mmocked_get\u001b[0m\u001b[0;34m.\u001b[0m\u001b[0mreturn_value\u001b[0m\u001b[0;34m.\u001b[0m\u001b[0mtext\u001b[0m \u001b[0;34m=\u001b[0m \u001b[0;34m'Success'\u001b[0m\u001b[0;34m\u001b[0m\u001b[0m\n",
      "\u001b[0;32m/usr/lib/python3.5/unittest/mock.py\u001b[0m in \u001b[0;36m__enter__\u001b[0;34m(self)\u001b[0m\n\u001b[1;32m   1203\u001b[0m         \u001b[0mautospec\u001b[0m\u001b[0;34m,\u001b[0m \u001b[0mkwargs\u001b[0m \u001b[0;34m=\u001b[0m \u001b[0mself\u001b[0m\u001b[0;34m.\u001b[0m\u001b[0mautospec\u001b[0m\u001b[0;34m,\u001b[0m \u001b[0mself\u001b[0m\u001b[0;34m.\u001b[0m\u001b[0mkwargs\u001b[0m\u001b[0;34m\u001b[0m\u001b[0m\n\u001b[1;32m   1204\u001b[0m         \u001b[0mnew_callable\u001b[0m \u001b[0;34m=\u001b[0m \u001b[0mself\u001b[0m\u001b[0;34m.\u001b[0m\u001b[0mnew_callable\u001b[0m\u001b[0;34m\u001b[0m\u001b[0m\n\u001b[0;32m-> 1205\u001b[0;31m         \u001b[0mself\u001b[0m\u001b[0;34m.\u001b[0m\u001b[0mtarget\u001b[0m \u001b[0;34m=\u001b[0m \u001b[0mself\u001b[0m\u001b[0;34m.\u001b[0m\u001b[0mgetter\u001b[0m\u001b[0;34m(\u001b[0m\u001b[0;34m)\u001b[0m\u001b[0;34m\u001b[0m\u001b[0m\n\u001b[0m\u001b[1;32m   1206\u001b[0m \u001b[0;34m\u001b[0m\u001b[0m\n\u001b[1;32m   1207\u001b[0m         \u001b[0;31m# normalise False to None\u001b[0m\u001b[0;34m\u001b[0m\u001b[0;34m\u001b[0m\u001b[0m\n",
      "\u001b[0;32m/usr/lib/python3.5/unittest/mock.py\u001b[0m in \u001b[0;36m<lambda>\u001b[0;34m()\u001b[0m\n\u001b[1;32m   1373\u001b[0m         raise TypeError(\"Need a valid target to patch. You supplied: %r\" %\n\u001b[1;32m   1374\u001b[0m                         (target,))\n\u001b[0;32m-> 1375\u001b[0;31m     \u001b[0mgetter\u001b[0m \u001b[0;34m=\u001b[0m \u001b[0;32mlambda\u001b[0m\u001b[0;34m:\u001b[0m \u001b[0m_importer\u001b[0m\u001b[0;34m(\u001b[0m\u001b[0mtarget\u001b[0m\u001b[0;34m)\u001b[0m\u001b[0;34m\u001b[0m\u001b[0m\n\u001b[0m\u001b[1;32m   1376\u001b[0m     \u001b[0;32mreturn\u001b[0m \u001b[0mgetter\u001b[0m\u001b[0;34m,\u001b[0m \u001b[0mattribute\u001b[0m\u001b[0;34m\u001b[0m\u001b[0m\n\u001b[1;32m   1377\u001b[0m \u001b[0;34m\u001b[0m\u001b[0m\n",
      "\u001b[0;32m/usr/lib/python3.5/unittest/mock.py\u001b[0m in \u001b[0;36m_importer\u001b[0;34m(target)\u001b[0m\n\u001b[1;32m   1056\u001b[0m     \u001b[0mcomponents\u001b[0m \u001b[0;34m=\u001b[0m \u001b[0mtarget\u001b[0m\u001b[0;34m.\u001b[0m\u001b[0msplit\u001b[0m\u001b[0;34m(\u001b[0m\u001b[0;34m'.'\u001b[0m\u001b[0;34m)\u001b[0m\u001b[0;34m\u001b[0m\u001b[0m\n\u001b[1;32m   1057\u001b[0m     \u001b[0mimport_path\u001b[0m \u001b[0;34m=\u001b[0m \u001b[0mcomponents\u001b[0m\u001b[0;34m.\u001b[0m\u001b[0mpop\u001b[0m\u001b[0;34m(\u001b[0m\u001b[0;36m0\u001b[0m\u001b[0;34m)\u001b[0m\u001b[0;34m\u001b[0m\u001b[0m\n\u001b[0;32m-> 1058\u001b[0;31m     \u001b[0mthing\u001b[0m \u001b[0;34m=\u001b[0m \u001b[0m__import__\u001b[0m\u001b[0;34m(\u001b[0m\u001b[0mimport_path\u001b[0m\u001b[0;34m)\u001b[0m\u001b[0;34m\u001b[0m\u001b[0m\n\u001b[0m\u001b[1;32m   1059\u001b[0m \u001b[0;34m\u001b[0m\u001b[0m\n\u001b[1;32m   1060\u001b[0m     \u001b[0;32mfor\u001b[0m \u001b[0mcomp\u001b[0m \u001b[0;32min\u001b[0m \u001b[0mcomponents\u001b[0m\u001b[0;34m:\u001b[0m\u001b[0;34m\u001b[0m\u001b[0m\n",
      "\u001b[0;31mImportError\u001b[0m: No module named 'requests'"
     ]
    }
   ],
   "source": [
    "print(TestEmployee().test_email())\n",
    "print(TestEmployee().test_fullname())\n",
    "print(TestEmployee().test_apply_raise())\n",
    "print(TestEmployee().test_monthly_schedule())"
   ]
  },
  {
   "cell_type": "code",
   "execution_count": null,
   "metadata": {},
   "outputs": [],
   "source": []
  }
 ],
 "metadata": {
  "kernelspec": {
   "display_name": "Python 3",
   "language": "python",
   "name": "python3"
  },
  "language_info": {
   "codemirror_mode": {
    "name": "ipython",
    "version": 3
   },
   "file_extension": ".py",
   "mimetype": "text/x-python",
   "name": "python",
   "nbconvert_exporter": "python",
   "pygments_lexer": "ipython3",
   "version": "3.5.2"
  }
 },
 "nbformat": 4,
 "nbformat_minor": 2
}
