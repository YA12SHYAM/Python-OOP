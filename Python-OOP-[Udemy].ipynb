{
 "cells": [
  {
   "cell_type": "markdown",
   "metadata": {},
   "source": [
    "# Classes and Objects"
   ]
  },
  {
   "cell_type": "markdown",
   "metadata": {},
   "source": [
    "**Example:** Check if an employee has achieved his/her weekly target or not"
   ]
  },
  {
   "cell_type": "code",
   "execution_count": 2,
   "metadata": {},
   "outputs": [
    {
     "name": "stdout",
     "output_type": "stream",
     "text": [
      "Employee name:  Ben\n",
      "Target has been achieved!\n",
      "Employee target status:  None\n",
      "\n",
      "<class 'type'>\n",
      "<class '__main__.Employee'>\n"
     ]
    }
   ],
   "source": [
    "# Class\n",
    "class Employee:\n",
    "    # Class Attributes\n",
    "    name = 'Ben'\n",
    "    designation = \"Sales Executive\"\n",
    "    sales_made_this_week = 6\n",
    "    \n",
    "    # Method\n",
    "    def has_achieved_target(self):\n",
    "        if self.sales_made_this_week >= 5:\n",
    "            print('Target has been achieved!')\n",
    "        else:\n",
    "            print('Target has not been achieved!')\n",
    "            \n",
    "# Object/instance\n",
    "employee = Employee()\n",
    "print('Employee name: ', employee.name)\n",
    "print('Employee target status: ', employee.has_achieved_target())\n",
    "print()\n",
    "print(type(Employee))\n",
    "print(type(employee))"
   ]
  },
  {
   "cell_type": "markdown",
   "metadata": {},
   "source": [
    "# Attributes and Methods\n",
    "\n",
    "**Class Attributes**"
   ]
  },
  {
   "cell_type": "code",
   "execution_count": 3,
   "metadata": {},
   "outputs": [
    {
     "name": "stdout",
     "output_type": "stream",
     "text": [
      "Employee-1 working hours:  40\n",
      "Employee-2 working hours:  40\n"
     ]
    }
   ],
   "source": [
    "class Employee:\n",
    "    # Class Attributes\n",
    "    num_working_hrs = 40\n",
    "    \n",
    "employee_1 = Employee()\n",
    "employee_2 = Employee()\n",
    "\n",
    "print('Employee-1 working hours: ', employee_1.num_working_hrs)\n",
    "print('Employee-2 working hours: ', employee_2.num_working_hrs)"
   ]
  },
  {
   "cell_type": "markdown",
   "metadata": {},
   "source": [
    "**Changing Class Attributes**"
   ]
  },
  {
   "cell_type": "code",
   "execution_count": 4,
   "metadata": {},
   "outputs": [
    {
     "name": "stdout",
     "output_type": "stream",
     "text": [
      "Employee-1 working hours:  45\n",
      "Employee-2 working hours:  45\n"
     ]
    }
   ],
   "source": [
    "Employee.num_working_hrs = 45\n",
    "\n",
    "employee_1 = Employee()\n",
    "employee_2 = Employee()\n",
    "\n",
    "print('Employee-1 working hours: ', employee_1.num_working_hrs)\n",
    "print('Employee-2 working hours: ', employee_2.num_working_hrs)"
   ]
  },
  {
   "cell_type": "markdown",
   "metadata": {},
   "source": [
    "**Creating Instance Attributes**"
   ]
  },
  {
   "cell_type": "code",
   "execution_count": 5,
   "metadata": {},
   "outputs": [
    {
     "name": "stdout",
     "output_type": "stream",
     "text": [
      "Employee-1 name:  Jon\n",
      "Employee-2 name:  Doe\n"
     ]
    }
   ],
   "source": [
    "employee_1.name = 'Jon'\n",
    "employee_2.name = 'Doe'\n",
    "\n",
    "print('Employee-1 name: ', employee_1.name)\n",
    "print('Employee-2 name: ', employee_2.name)"
   ]
  },
  {
   "cell_type": "markdown",
   "metadata": {},
   "source": [
    "Python access attributes by checking for attribute with name `<name>` in the following order: (1) `instance attribute` (2) `class attribute`"
   ]
  },
  {
   "cell_type": "code",
   "execution_count": 6,
   "metadata": {},
   "outputs": [
    {
     "name": "stdout",
     "output_type": "stream",
     "text": [
      "Employee-1 working hours:  35\n",
      "Employee-2 working hours:  45\n"
     ]
    }
   ],
   "source": [
    "employee_1.num_working_hrs = 35 # Creates an instance attribute with name num_working_hrs\n",
    "\n",
    "print('Employee-1 working hours: ', employee_1.num_working_hrs)\n",
    "print('Employee-2 working hours: ', employee_2.num_working_hrs)"
   ]
  },
  {
   "cell_type": "markdown",
   "metadata": {},
   "source": [
    "**`self`**"
   ]
  },
  {
   "cell_type": "code",
   "execution_count": 7,
   "metadata": {},
   "outputs": [
    {
     "name": "stdout",
     "output_type": "stream",
     "text": [
      "Name:  Jon\n",
      "Age:  30\n",
      "Name:  Jon\n",
      "Age:  30\n",
      "\n",
      "Printing in another method\n",
      "Name:  Jon\n"
     ]
    },
    {
     "ename": "NameError",
     "evalue": "name 'age' is not defined",
     "output_type": "error",
     "traceback": [
      "\u001b[0;31m---------------------------------------------------------------------------\u001b[0m",
      "\u001b[0;31mNameError\u001b[0m                                 Traceback (most recent call last)",
      "\u001b[0;32m<ipython-input-7-53ff711d089d>\u001b[0m in \u001b[0;36m<module>\u001b[0;34m()\u001b[0m\n\u001b[1;32m     17\u001b[0m \u001b[0;34m\u001b[0m\u001b[0m\n\u001b[1;32m     18\u001b[0m \u001b[0mprint\u001b[0m\u001b[0;34m(\u001b[0m\u001b[0;34m)\u001b[0m\u001b[0;34m\u001b[0m\u001b[0m\n\u001b[0;32m---> 19\u001b[0;31m \u001b[0memployee\u001b[0m\u001b[0;34m.\u001b[0m\u001b[0mprint_employee_details\u001b[0m\u001b[0;34m(\u001b[0m\u001b[0;34m)\u001b[0m\u001b[0;34m\u001b[0m\u001b[0m\n\u001b[0m",
      "\u001b[0;32m<ipython-input-7-53ff711d089d>\u001b[0m in \u001b[0;36mprint_employee_details\u001b[0;34m(self)\u001b[0m\n\u001b[1;32m      9\u001b[0m         \u001b[0mprint\u001b[0m\u001b[0;34m(\u001b[0m\u001b[0;34m'Printing in another method'\u001b[0m\u001b[0;34m)\u001b[0m\u001b[0;34m\u001b[0m\u001b[0m\n\u001b[1;32m     10\u001b[0m         \u001b[0mprint\u001b[0m\u001b[0;34m(\u001b[0m\u001b[0;34m'Name: '\u001b[0m\u001b[0;34m,\u001b[0m \u001b[0mself\u001b[0m\u001b[0;34m.\u001b[0m\u001b[0mname\u001b[0m\u001b[0;34m)\u001b[0m\u001b[0;34m\u001b[0m\u001b[0m\n\u001b[0;32m---> 11\u001b[0;31m         \u001b[0mprint\u001b[0m\u001b[0;34m(\u001b[0m\u001b[0;34m'Age: '\u001b[0m\u001b[0;34m,\u001b[0m \u001b[0mage\u001b[0m\u001b[0;34m)\u001b[0m \u001b[0;31m# NameError because self is needed!\u001b[0m\u001b[0;34m\u001b[0m\u001b[0m\n\u001b[0m\u001b[1;32m     12\u001b[0m \u001b[0;34m\u001b[0m\u001b[0m\n\u001b[1;32m     13\u001b[0m \u001b[0memployee\u001b[0m \u001b[0;34m=\u001b[0m \u001b[0mEmployee\u001b[0m\u001b[0;34m(\u001b[0m\u001b[0;34m)\u001b[0m\u001b[0;34m\u001b[0m\u001b[0m\n",
      "\u001b[0;31mNameError\u001b[0m: name 'age' is not defined"
     ]
    }
   ],
   "source": [
    "class Employee:\n",
    "    def employee_details(self):\n",
    "        self.name = 'Jon'\n",
    "        print('Name: ', self.name)\n",
    "        age = 30\n",
    "        print('Age: ', 30)\n",
    "        \n",
    "    def print_employee_details(self):\n",
    "        print('Printing in another method')\n",
    "        print('Name: ', self.name)\n",
    "        print('Age: ', age) # NameError because self is needed!\n",
    "    \n",
    "employee = Employee()\n",
    "\n",
    "employee.employee_details()\n",
    "Employee.employee_details(employee) # This is how Python internally makes function call\n",
    "\n",
    "print()\n",
    "employee.print_employee_details()"
   ]
  },
  {
   "cell_type": "markdown",
   "metadata": {},
   "source": [
    "**Instance Methods** are methods of a class that make use of `self` parameter to access and modify instance attributes of the class."
   ]
  },
  {
   "cell_type": "code",
   "execution_count": null,
   "metadata": {},
   "outputs": [],
   "source": [
    "class Employee:\n",
    "    def employee_details(self):\n",
    "        self.name = 'Jon'\n",
    "        \n",
    "    def welcome():\n",
    "        print('Welcome!')\n",
    "\n",
    "employee = Employee()\n",
    "\n",
    "employee.employee_details() # Initialize\n",
    "print(employee.name)\n",
    "print(employee.welcome())"
   ]
  },
  {
   "cell_type": "markdown",
   "metadata": {},
   "source": [
    "**Static Methods** - Methods that do not modify the instance attributes of a class. But can be used to modify class attributes."
   ]
  },
  {
   "cell_type": "code",
   "execution_count": 8,
   "metadata": {},
   "outputs": [
    {
     "name": "stdout",
     "output_type": "stream",
     "text": [
      "Jon\n",
      "Welcome!\n",
      "None\n"
     ]
    }
   ],
   "source": [
    "class Employee:\n",
    "    def employee_details(self):\n",
    "        self.name = 'Jon'\n",
    "    \n",
    "    @staticmethod\n",
    "    def welcome(): # No `self`\n",
    "        print('Welcome!')\n",
    "\n",
    "employee = Employee()\n",
    "\n",
    "employee.employee_details() # Initialize\n",
    "print(employee.name)\n",
    "print(employee.welcome())"
   ]
  },
  {
   "cell_type": "markdown",
   "metadata": {},
   "source": [
    "**`__init__` Method** - It is called when an object is instantiated."
   ]
  },
  {
   "cell_type": "code",
   "execution_count": 9,
   "metadata": {},
   "outputs": [
    {
     "ename": "AttributeError",
     "evalue": "'Employee' object has no attribute 'name'",
     "output_type": "error",
     "traceback": [
      "\u001b[0;31m---------------------------------------------------------------------------\u001b[0m",
      "\u001b[0;31mAttributeError\u001b[0m                            Traceback (most recent call last)",
      "\u001b[0;32m<ipython-input-9-d88b4ecb893e>\u001b[0m in \u001b[0;36m<module>\u001b[0;34m()\u001b[0m\n\u001b[1;32m      7\u001b[0m \u001b[0;34m\u001b[0m\u001b[0m\n\u001b[1;32m      8\u001b[0m \u001b[0memployee\u001b[0m \u001b[0;34m=\u001b[0m \u001b[0mEmployee\u001b[0m\u001b[0;34m(\u001b[0m\u001b[0;34m)\u001b[0m\u001b[0;34m\u001b[0m\u001b[0m\n\u001b[0;32m----> 9\u001b[0;31m \u001b[0memployee\u001b[0m\u001b[0;34m.\u001b[0m\u001b[0mdisplay_employee_details\u001b[0m\u001b[0;34m(\u001b[0m\u001b[0;34m)\u001b[0m \u001b[0;31m# AttributeError because instance is not initialized\u001b[0m\u001b[0;34m\u001b[0m\u001b[0m\n\u001b[0m",
      "\u001b[0;32m<ipython-input-9-d88b4ecb893e>\u001b[0m in \u001b[0;36mdisplay_employee_details\u001b[0;34m(self)\u001b[0m\n\u001b[1;32m      4\u001b[0m \u001b[0;34m\u001b[0m\u001b[0m\n\u001b[1;32m      5\u001b[0m     \u001b[0;32mdef\u001b[0m \u001b[0mdisplay_employee_details\u001b[0m\u001b[0;34m(\u001b[0m\u001b[0mself\u001b[0m\u001b[0;34m)\u001b[0m\u001b[0;34m:\u001b[0m\u001b[0;34m\u001b[0m\u001b[0m\n\u001b[0;32m----> 6\u001b[0;31m         \u001b[0mprint\u001b[0m\u001b[0;34m(\u001b[0m\u001b[0;34m'Name: '\u001b[0m\u001b[0;34m,\u001b[0m \u001b[0mself\u001b[0m\u001b[0;34m.\u001b[0m\u001b[0mname\u001b[0m\u001b[0;34m)\u001b[0m\u001b[0;34m\u001b[0m\u001b[0m\n\u001b[0m\u001b[1;32m      7\u001b[0m \u001b[0;34m\u001b[0m\u001b[0m\n\u001b[1;32m      8\u001b[0m \u001b[0memployee\u001b[0m \u001b[0;34m=\u001b[0m \u001b[0mEmployee\u001b[0m\u001b[0;34m(\u001b[0m\u001b[0;34m)\u001b[0m\u001b[0;34m\u001b[0m\u001b[0m\n",
      "\u001b[0;31mAttributeError\u001b[0m: 'Employee' object has no attribute 'name'"
     ]
    }
   ],
   "source": [
    "class Employee:\n",
    "    def enter_employee_details(self):\n",
    "        self.name = 'Jon Doe'\n",
    "    \n",
    "    def display_employee_details(self):\n",
    "        print('Name: ', self.name)\n",
    "        \n",
    "employee = Employee()  \n",
    "employee.display_employee_details() # AttributeError because instance is not initialized"
   ]
  },
  {
   "cell_type": "code",
   "execution_count": 10,
   "metadata": {},
   "outputs": [
    {
     "name": "stdout",
     "output_type": "stream",
     "text": [
      "Name:  Jon Doe\n",
      "Name:  Jon Doe\n"
     ]
    }
   ],
   "source": [
    "class Employee:\n",
    "    def __init__(self): # Special method\n",
    "        self.name = 'Jon Doe'\n",
    "    \n",
    "    def display_employee_details(self):\n",
    "        print('Name: ', self.name)\n",
    "        \n",
    "employee = Employee()  \n",
    "employee.display_employee_details()\n",
    "\n",
    "employee_1 = Employee()\n",
    "employee_1.display_employee_details() # Same name as employee"
   ]
  },
  {
   "cell_type": "code",
   "execution_count": 11,
   "metadata": {},
   "outputs": [
    {
     "name": "stdout",
     "output_type": "stream",
     "text": [
      "Name:  Jon\n",
      "Name:  Doe\n"
     ]
    }
   ],
   "source": [
    "class Employee:\n",
    "    def __init__(self, name):\n",
    "        self.name = name\n",
    "    \n",
    "    def display_employee_details(self):\n",
    "        print('Name: ', self.name)\n",
    "        \n",
    "employee_1 = Employee('Jon')  \n",
    "employee_1.display_employee_details()\n",
    "\n",
    "employee_2 = Employee('Doe')\n",
    "employee_2.display_employee_details() "
   ]
  },
  {
   "cell_type": "markdown",
   "metadata": {},
   "source": [
    "# Abstraction and Encapsulation\n",
    "- Abstraction\n",
    "- Encapsulation: Hiding implementation details from the user. Encapsulation is done to achieve abstraction."
   ]
  },
  {
   "cell_type": "markdown",
   "metadata": {},
   "source": [
    "**Example:** Implement a library management system which will handle the following tasks:\n",
    "- Customer should be able to display all the books available in the library\n",
    "- Handle the process when a customer requests to borrow a book\n",
    "- Update the library collection when the customer returns a book\n",
    "\n",
    "---\n",
    "\n",
    "Class `Library`\n",
    "- Layers of abstraction\n",
    "    - Display available books\n",
    "    - Lend a book\n",
    "    - Add a book\n",
    "    \n",
    "Class `Customer`\n",
    "- Layers of abstraction\n",
    "    - Request a book\n",
    "    - Return a book\n",
    "\n",
    "---\n",
    "\n",
    "**Skeleton**\n",
    "```python\n",
    "class Library:\n",
    "    def display_available_books(self):\n",
    "        pass\n",
    "    \n",
    "    def lend_book(self):\n",
    "        pass\n",
    "    \n",
    "    def add_book(self):\n",
    "        pass\n",
    "    \n",
    "    \n",
    "class Customer:\n",
    "    def request_book(self):\n",
    "        pass\n",
    "    \n",
    "    def return_book(self):\n",
    "        pass\n",
    "```"
   ]
  },
  {
   "cell_type": "code",
   "execution_count": 12,
   "metadata": {
    "scrolled": false
   },
   "outputs": [
    {
     "name": "stdout",
     "output_type": "stream",
     "text": [
      "\n",
      "Enter 1 to display the available books.\n",
      "Enter 2 to request a book.\n",
      "Enter 3 to return a book.\n",
      "Enter 4 to exit.\n",
      "4\n"
     ]
    }
   ],
   "source": [
    "class Library:\n",
    "    def __init__(self, book_list):\n",
    "        self.available_books = book_list\n",
    "        \n",
    "    def display_available_books(self):\n",
    "        print()\n",
    "        print('Available Books: ')\n",
    "        for book in self.available_books:\n",
    "            print(book)\n",
    "    \n",
    "    def lend_book(self, requested_book):\n",
    "        if requested_book in self.available_books:\n",
    "            print('You have now borrowed the book.')\n",
    "            self.available_books.remove(requested_book) # list's remove method\n",
    "        else:\n",
    "            print('Sorry, the book is not available in Library.')\n",
    "    \n",
    "    def add_book(self, returned_book):\n",
    "        self.available_books.append(returned_book)\n",
    "        print('You have returned the book. Thank you.')\n",
    "        \n",
    "    \n",
    "    \n",
    "class Customer:\n",
    "    def request_book(self):\n",
    "        print('Enter the name of a book you would like to borrow: ')\n",
    "        self.book = input() # Scope is just this method\n",
    "        return self.book\n",
    "    \n",
    "    def return_book(self):\n",
    "        print('Enter the name of the book which you are returning: ')\n",
    "        self.book = input() # Scope is just this method\n",
    "        return self.book\n",
    "    \n",
    "library = Library(['Moby Dick', \n",
    "                   'The Lord of the Rings',\n",
    "                   'Hobbit'\n",
    "                   'A Song of Ice and Fire'])\n",
    "\n",
    "customer = Customer()\n",
    "\n",
    "while True:\n",
    "    print()\n",
    "    print('Enter 1 to display the available books.')\n",
    "    print('Enter 2 to request a book.')\n",
    "    print('Enter 3 to return a book.')\n",
    "    print('Enter 4 to exit.')\n",
    "\n",
    "    user_choice = int(input())\n",
    "\n",
    "    if user_choice is 1:\n",
    "        library.display_available_books()\n",
    "    elif user_choice is 2:\n",
    "        requested_book = customer.request_book()\n",
    "        library.lend_book(requested_book)\n",
    "    elif user_choice is 3:\n",
    "        returned_book = customer.return_book()\n",
    "        library.add_book(returned_book)\n",
    "    elif user_choice is 4:\n",
    "        break"
   ]
  },
  {
   "cell_type": "markdown",
   "metadata": {},
   "source": [
    "# Inheritance\n",
    "- Child (Derived) Class has its own methods and attributes and it also inherits attributes and methods from its Parent (Base) Class. \n",
    "- Makes code DRY.\n",
    "- 3 types of inheritance\n",
    "    - Single\n",
    "    - Multiple\n",
    "    - Multi-level\n",
    "    \n",
    "**Single Inheritance**"
   ]
  },
  {
   "cell_type": "code",
   "execution_count": 15,
   "metadata": {},
   "outputs": [
    {
     "name": "stdout",
     "output_type": "stream",
     "text": [
      "This MacBook was manufactured in the year 2018 by Apple Inc.\n",
      "To contact us visit:  www.apple.com/contact\n"
     ]
    }
   ],
   "source": [
    "class Apple:  # Base class\n",
    "    manufacturer = \"Apple Inc.\"\n",
    "    contact_website = \"www.apple.com/contact\"\n",
    "    \n",
    "    def contact_details(self):\n",
    "        print('To contact us visit: ', self.contact_website)\n",
    "        \n",
    "class MacBook(Apple):  # Derived class inheriting from Base class\n",
    "    def __init__(self):\n",
    "        self.year_of_manufacture = 2018\n",
    "        \n",
    "    def manufacture_details(self):\n",
    "        print(\"This MacBook was manufactured in the year {} by {}\".format(self.year_of_manufacture, \n",
    "                                                                          self.manufacturer))\n",
    "        \n",
    "macbook_air = MacBook()\n",
    "macbook_air.manufacture_details() # Derived class attribute and method\n",
    "macbook_air.contact_details() # Base class attribute and method"
   ]
  },
  {
   "cell_type": "markdown",
   "metadata": {},
   "source": [
    "**Multiple Inheritance**"
   ]
  },
  {
   "cell_type": "code",
   "execution_count": 20,
   "metadata": {},
   "outputs": [
    {
     "name": "stdout",
     "output_type": "stream",
     "text": [
      "This is a multi-tasking system. Visit www.apple.com for more details.\n",
      "Name:  Mac OS\n",
      "\n",
      "(<class '__main__.MacBook'>, <class '__main__.OperatingSystem'>, <class '__main__.Apple'>, <class 'object'>)\n"
     ]
    }
   ],
   "source": [
    "class OperatingSystem: # Base class\n",
    "    multitasking = True\n",
    "    name = \"Mac OS\" \n",
    "    \n",
    "class Apple: # Base class\n",
    "    website = \"www.apple.com\"\n",
    "    name = \"Apple\"\n",
    "    \n",
    "class MacBook(OperatingSystem, Apple):  # Derived class inheriting from Base classes\n",
    "    def __init__(self):\n",
    "        if self.multitasking is True:\n",
    "            print('This is a multi-tasking system. Visit {} for more details.'.format(self.website))\n",
    "            print('Name: ', self.name) # name will depend on the order of inheritance\n",
    "            \n",
    "macbook_air = MacBook()\n",
    "print()\n",
    "print(MacBook.__mro__)"
   ]
  },
  {
   "cell_type": "markdown",
   "metadata": {},
   "source": [
    "*Changing the **order of inheritance***"
   ]
  },
  {
   "cell_type": "code",
   "execution_count": 21,
   "metadata": {},
   "outputs": [
    {
     "name": "stdout",
     "output_type": "stream",
     "text": [
      "This is a multi-tasking system. Visit www.apple.com for more details.\n",
      "Name:  Apple\n",
      "\n",
      "(<class '__main__.MacBook'>, <class '__main__.Apple'>, <class '__main__.OperatingSystem'>, <class 'object'>)\n"
     ]
    }
   ],
   "source": [
    "class OperatingSystem: # Base class\n",
    "    multitasking = True\n",
    "    name = \"Mac OS\" \n",
    "    \n",
    "class Apple: # Base class\n",
    "    website = \"www.apple.com\"\n",
    "    name = \"Apple\"\n",
    "    \n",
    "class MacBook(Apple, OperatingSystem):  # Derived class inheriting from Base classes\n",
    "    def __init__(self):\n",
    "        if self.multitasking is True:\n",
    "            print('This is a multi-tasking system. Visit {} for more details.'.format(self.website))\n",
    "            print('Name: ', self.name) # name will depend on the order of inheritance\n",
    "            \n",
    "macbook_air = MacBook()\n",
    "print()\n",
    "print(MacBook.__mro__)"
   ]
  },
  {
   "cell_type": "markdown",
   "metadata": {},
   "source": [
    "**Multi-level Inheritance**"
   ]
  },
  {
   "cell_type": "code",
   "execution_count": 25,
   "metadata": {},
   "outputs": [
    {
     "name": "stdout",
     "output_type": "stream",
     "text": [
      "Guitar Description:\n",
      "\tNumber of strings:  6\n",
      "\tWood type:  Tonewood\n",
      "\tNumber of major keys:  12\n"
     ]
    }
   ],
   "source": [
    "class MusicalInstruments: # Level-1\n",
    "    num_major_keys = 12\n",
    "    \n",
    "class StringInstruments(MusicalInstruments): # Level-2\n",
    "    wood_type = \"Tonewood\"\n",
    "    \n",
    "class Guitar(StringInstruments): # Level-3\n",
    "    def __init__(self):\n",
    "        self.num_strings = 6\n",
    "        print(\"Guitar Description:\")\n",
    "        print(\"\\tNumber of strings: \", self.num_strings)\n",
    "        print(\"\\tWood type: \", self.wood_type)\n",
    "        print(\"\\tNumber of major keys: \", self.num_major_keys)\n",
    "        \n",
    "gibson = Guitar()"
   ]
  },
  {
   "cell_type": "markdown",
   "metadata": {},
   "source": [
    "**Public, Protected, & Private Member (Attributes and Methods) Naming Convention**\n",
    "- Public: **`<member-name>`** \n",
    "- Private: **`_<member-name>`** (accessible within current class and its derived class)\n",
    "- Protected: **`__<member-name>`** (accessible within current class). Name mangling is done to `<member-name>` via `_<class-name>__<member-name>`"
   ]
  },
  {
   "cell_type": "code",
   "execution_count": 36,
   "metadata": {},
   "outputs": [
    {
     "name": "stdout",
     "output_type": "stream",
     "text": [
      "Public attribute \"number of wheels\":  4\n",
      "Protected attribute: \"_color\":  Red\n",
      "Private attribute \"__year_of_manufacture\":  2018\n"
     ]
    },
    {
     "ename": "AttributeError",
     "evalue": "'Car' object has no attribute '__year_of_manufacture'",
     "output_type": "error",
     "traceback": [
      "\u001b[0;31m---------------------------------------------------------------------------\u001b[0m",
      "\u001b[0;31mAttributeError\u001b[0m                            Traceback (most recent call last)",
      "\u001b[0;32m<ipython-input-36-8620afa9474a>\u001b[0m in \u001b[0;36m<module>\u001b[0;34m()\u001b[0m\n\u001b[1;32m     17\u001b[0m \u001b[0;34m\u001b[0m\u001b[0m\n\u001b[1;32m     18\u001b[0m \u001b[0;31m# AttributeError: 'Car' object has no attribute '__year_of_manufacture'\u001b[0m\u001b[0;34m\u001b[0m\u001b[0;34m\u001b[0m\u001b[0m\n\u001b[0;32m---> 19\u001b[0;31m \u001b[0mprint\u001b[0m\u001b[0;34m(\u001b[0m\u001b[0;34m'Private attribute \"__year_of_manufacture\": '\u001b[0m\u001b[0;34m,\u001b[0m \u001b[0mcar\u001b[0m\u001b[0;34m.\u001b[0m\u001b[0m__year_of_manufacture\u001b[0m\u001b[0;34m)\u001b[0m\u001b[0;34m\u001b[0m\u001b[0m\n\u001b[0m",
      "\u001b[0;31mAttributeError\u001b[0m: 'Car' object has no attribute '__year_of_manufacture'"
     ]
    }
   ],
   "source": [
    "class Car:\n",
    "    num_wheels = 4\n",
    "    _color = \"Red\"\n",
    "    __year_of_manufacture = 2018 # Name mangling is being done \n",
    "\n",
    "class Ferrari(Car):\n",
    "    def __init__(self):\n",
    "        print('Protected attribute: \"_color\": ', self._color)\n",
    "    \n",
    "    \n",
    "car = Car()\n",
    "print('Public attribute \"number of wheels\": ', car.num_wheels)\n",
    "\n",
    "enzo = Ferrari()\n",
    "\n",
    "print('Private attribute \"__year_of_manufacture\": ', car._Car__year_of_manufacture)\n",
    "\n",
    "# AttributeError: 'Car' object has no attribute '__year_of_manufacture'\n",
    "print('Private attribute \"__year_of_manufacture\": ', car.__year_of_manufacture) "
   ]
  },
  {
   "cell_type": "markdown",
   "metadata": {},
   "source": [
    "# Polymorphism \n",
    "- Identical twins: They both look the same but they do not behave the same. For example in Python: `addition` of 2 numbers returns the sum of the numbers while `addition` of 2 strings returns a concatenated string\n",
    "- *Overriding* is when a derived class inherits methods from a base class but it might not behave the same way in derived class. Derived class has the ability to change the behavior of how this method works by redifining in the derived class. **Overriding lets you change the behavior of `base class` method within `derived class`**"
   ]
  },
  {
   "cell_type": "code",
   "execution_count": 40,
   "metadata": {},
   "outputs": [
    {
     "name": "stdout",
     "output_type": "stream",
     "text": [
      "Number of working hours of employee: 40\n",
      "Number of working hours of trainee: 45\n"
     ]
    }
   ],
   "source": [
    "class Employee:\n",
    "    def set_num_working_hrs(self):\n",
    "        self.num_working_hrs = 40\n",
    "        \n",
    "    def display_num_working_hrs(self):\n",
    "        print(self.num_working_hrs)\n",
    "\n",
    "class Trainee(Employee):\n",
    "    def set_num_working_hrs(self):\n",
    "        self.num_working_hrs = 45\n",
    "        \n",
    "employee = Employee()\n",
    "employee.set_num_working_hrs()\n",
    "print('Number of working hours of employee:', end=' ') # end helps display in same line\n",
    "employee.display_num_working_hrs()\n",
    "\n",
    "trainee = Trainee()\n",
    "trainee.set_num_working_hrs()\n",
    "print('Number of working hours of trainee:', end=' ') # end helps display in same line\n",
    "trainee.display_num_working_hrs()"
   ]
  },
  {
   "cell_type": "markdown",
   "metadata": {},
   "source": [
    "**`super().<method>`** \n",
    "- `super()` transfers control to base class"
   ]
  },
  {
   "cell_type": "code",
   "execution_count": 44,
   "metadata": {},
   "outputs": [
    {
     "name": "stdout",
     "output_type": "stream",
     "text": [
      "Number of working hours of employee: 40\n",
      "Number of working hours of trainee (overriding): 45\n",
      "Number of working hours of trainee (after reset): 40\n"
     ]
    }
   ],
   "source": [
    "class Employee:\n",
    "    def set_num_working_hrs(self):\n",
    "        self.num_working_hrs = 40\n",
    "        \n",
    "    def display_num_working_hrs(self):\n",
    "        print(self.num_working_hrs)\n",
    "\n",
    "class Trainee(Employee):\n",
    "    def set_num_working_hrs(self):\n",
    "        self.num_working_hrs = 45\n",
    "        \n",
    "    def reset_num_working_hrs(self):\n",
    "        super().set_num_working_hrs()\n",
    "        \n",
    "employee = Employee()\n",
    "employee.set_num_working_hrs()\n",
    "print('Number of working hours of employee:', end=' ') # end helps display in same line\n",
    "employee.display_num_working_hrs()\n",
    "\n",
    "trainee = Trainee()\n",
    "trainee.set_num_working_hrs()\n",
    "print('Number of working hours of trainee (overriding):', end=' ') \n",
    "trainee.display_num_working_hrs()\n",
    "trainee.reset_num_working_hrs()\n",
    "print('Number of working hours of trainee (after reset):', end=' ') \n",
    "trainee.display_num_working_hrs()"
   ]
  },
  {
   "cell_type": "markdown",
   "metadata": {},
   "source": [
    "**Diamond Shape Problem in Multipe Inheritance**\n",
    "```\n",
    "      Class-A\n",
    "     /       \\\n",
    "    /         \\\n",
    " Class-B    Class-C\n",
    "    \\         /\n",
    "     \\       /\n",
    "      Class-D\n",
    "```\n",
    "\n",
    "Cases:\n",
    "1. Class-A `method` will not be overridden in Class-B and Class-C\n",
    "2. Class-A `method` will be overridden in Class-B but not in Class-C\n",
    "3. Class-A `method` will be overridden in Class-C but not in Class-B\n",
    "4. Class-A `method` will not be overridden in both Class-B and Class-C"
   ]
  },
  {
   "cell_type": "code",
   "execution_count": 46,
   "metadata": {},
   "outputs": [
    {
     "name": "stdout",
     "output_type": "stream",
     "text": [
      "This method belongs to Class-A\n"
     ]
    }
   ],
   "source": [
    "# Case-1\n",
    "class A:  # Level-1\n",
    "    def method(self):\n",
    "        print('This method belongs to Class-A')\n",
    "    \n",
    "class B(A):  # Level-2\n",
    "    pass\n",
    "    \n",
    "class C(A):  # Level-2\n",
    "    pass\n",
    "    \n",
    "class D(B, C):  # Level-3\n",
    "    pass\n",
    "\n",
    "d = D()\n",
    "d.method()"
   ]
  },
  {
   "cell_type": "code",
   "execution_count": 47,
   "metadata": {},
   "outputs": [
    {
     "name": "stdout",
     "output_type": "stream",
     "text": [
      "This method belongs to Class-B\n"
     ]
    }
   ],
   "source": [
    "# Case-2\n",
    "class A:  # Level-1\n",
    "    def method(self):\n",
    "        print('This method belongs to Class-A')\n",
    "    \n",
    "class B(A):  # Level-2\n",
    "    def method(self):\n",
    "        print('This method belongs to Class-B')\n",
    "    \n",
    "class C(A):  # Level-2\n",
    "    pass\n",
    "    \n",
    "class D(B, C):  # Level-3\n",
    "    pass\n",
    "\n",
    "d = D()\n",
    "d.method()"
   ]
  },
  {
   "cell_type": "code",
   "execution_count": 48,
   "metadata": {},
   "outputs": [
    {
     "name": "stdout",
     "output_type": "stream",
     "text": [
      "This method belongs to Class-C\n"
     ]
    }
   ],
   "source": [
    "# Case-3\n",
    "class A:  # Level-1\n",
    "    def method(self):\n",
    "        print('This method belongs to Class-A')\n",
    "    \n",
    "class B(A):  # Level-2\n",
    "    pass\n",
    "    \n",
    "class C(A):  # Level-2\n",
    "    def method(self):\n",
    "        print('This method belongs to Class-C')\n",
    "    \n",
    "class D(B, C):  # Level-3\n",
    "    pass\n",
    "\n",
    "d = D()\n",
    "d.method()"
   ]
  },
  {
   "cell_type": "code",
   "execution_count": 51,
   "metadata": {},
   "outputs": [
    {
     "name": "stdout",
     "output_type": "stream",
     "text": [
      "This method belongs to Class-B\n",
      "This method belongs to Class-C\n"
     ]
    }
   ],
   "source": [
    "# Case-4\n",
    "class A:  # Level-1\n",
    "    def method(self):\n",
    "        print('This method belongs to Class-A')\n",
    "    \n",
    "class B(A):  # Level-2\n",
    "    def method(self):\n",
    "        print('This method belongs to Class-B')\n",
    "    \n",
    "class C(A):  # Level-2\n",
    "    def method(self):\n",
    "        print('This method belongs to Class-C')\n",
    "    \n",
    "class D(B, C):  # Level-3\n",
    "    pass\n",
    "\n",
    "d = D()\n",
    "d.method() # Depends on the order of inheritance\n",
    "\n",
    "class D(C, B):  # Level-3\n",
    "    pass\n",
    "\n",
    "d = D()\n",
    "d.method() # Depends on the order of inheritance"
   ]
  },
  {
   "cell_type": "markdown",
   "metadata": {},
   "source": [
    "**Overloading an Operator**\n",
    "\n",
    "**Example:** Overloading `__add__` operator "
   ]
  },
  {
   "cell_type": "code",
   "execution_count": 55,
   "metadata": {},
   "outputs": [
    {
     "name": "stdout",
     "output_type": "stream",
     "text": [
      "Sum of the sides of both the squares:  56\n"
     ]
    }
   ],
   "source": [
    "class Square:\n",
    "    def __init__(self, side):\n",
    "        self.side = side\n",
    "        \n",
    "    def __add__(self, other):\n",
    "        return self.side * 4 + other.side * 4\n",
    "        \n",
    "sq5 = Square(5)  # 5 * 4 = 20\n",
    "sq9 = Square(9)  # 9 * 4 = 36\n",
    "print('Sum of the sides of both the squares: ', sq5 + sq9)"
   ]
  },
  {
   "cell_type": "markdown",
   "metadata": {},
   "source": [
    "**Abstract Base Class (ABC)** - It has abstract methods which forces the implementation in its derived classes"
   ]
  },
  {
   "cell_type": "code",
   "execution_count": 59,
   "metadata": {},
   "outputs": [
    {
     "name": "stdout",
     "output_type": "stream",
     "text": [
      "Area of Square: 100\n",
      "Area of Rectangle: 50\n"
     ]
    }
   ],
   "source": [
    "class Square:\n",
    "    side = 10\n",
    "    def area(self):\n",
    "        print('Area of Square: {}'.format(self.side * self.side))\n",
    "        \n",
    "class Rectangle:\n",
    "    length = 10\n",
    "    width = 5\n",
    "    def area(self):\n",
    "        print('Area of Rectangle: {}'.format(self.length * self.width))\n",
    "        \n",
    "square = Square()\n",
    "rectangle = Rectangle()\n",
    "\n",
    "square.area()\n",
    "rectangle.area()"
   ]
  },
  {
   "cell_type": "markdown",
   "metadata": {},
   "source": [
    "**NOTE:** Observe that the `Square` and `Rectangle` classes (**shape**) should have a method called `area` to calculate its area. How to make sure that for every **shape** there is a method called `area` which computes the area of that shape - This can be achieved by making use of an **Abstract Base Class**"
   ]
  },
  {
   "cell_type": "code",
   "execution_count": 66,
   "metadata": {},
   "outputs": [
    {
     "name": "stdout",
     "output_type": "stream",
     "text": [
      "Area of Square: 100\n",
      "Area of Rectangle: 50\n"
     ]
    },
    {
     "ename": "TypeError",
     "evalue": "Can't instantiate abstract class Shape with abstract methods area",
     "output_type": "error",
     "traceback": [
      "\u001b[0;31m---------------------------------------------------------------------------\u001b[0m",
      "\u001b[0;31mTypeError\u001b[0m                                 Traceback (most recent call last)",
      "\u001b[0;32m<ipython-input-66-babeb512b9fa>\u001b[0m in \u001b[0;36m<module>\u001b[0;34m()\u001b[0m\n\u001b[1;32m     28\u001b[0m \u001b[0;31m# circle = Circle() # TypeError: Can't instantiate abstract class Circle with abstract methods area\u001b[0m\u001b[0;34m\u001b[0m\u001b[0;34m\u001b[0m\u001b[0m\n\u001b[1;32m     29\u001b[0m \u001b[0;34m\u001b[0m\u001b[0m\n\u001b[0;32m---> 30\u001b[0;31m \u001b[0mshape\u001b[0m \u001b[0;34m=\u001b[0m \u001b[0mShape\u001b[0m\u001b[0;34m(\u001b[0m\u001b[0;34m)\u001b[0m \u001b[0;31m# NOTE this error.\u001b[0m\u001b[0;34m\u001b[0m\u001b[0m\n\u001b[0m",
      "\u001b[0;31mTypeError\u001b[0m: Can't instantiate abstract class Shape with abstract methods area"
     ]
    }
   ],
   "source": [
    "from abc import ABCMeta, abstractmethod\n",
    "\n",
    "class Shape(metaclass=ABCMeta):  # Shape is now an ABC\n",
    "    @abstractmethod\n",
    "    def area(self):\n",
    "        pass\n",
    "    \n",
    "class Square(Shape):\n",
    "    side = 10\n",
    "    def area(self):\n",
    "        print('Area of Square: {}'.format(self.side * self.side))\n",
    "        \n",
    "class Rectangle(Shape):\n",
    "    length = 10\n",
    "    width = 5\n",
    "    def area(self):\n",
    "        print('Area of Rectangle: {}'.format(self.length * self.width))\n",
    "        \n",
    "class Circle(Shape):\n",
    "    radius = 5\n",
    "        \n",
    "square = Square()\n",
    "rectangle = Rectangle()\n",
    "\n",
    "square.area()\n",
    "rectangle.area()\n",
    "\n",
    "# circle = Circle() # TypeError: Can't instantiate abstract class Circle with abstract methods area\n",
    "\n",
    "shape = Shape() # NOTE this error."
   ]
  },
  {
   "cell_type": "markdown",
   "metadata": {},
   "source": [
    "## Exercises"
   ]
  },
  {
   "cell_type": "code",
   "execution_count": null,
   "metadata": {},
   "outputs": [],
   "source": []
  },
  {
   "cell_type": "code",
   "execution_count": null,
   "metadata": {},
   "outputs": [],
   "source": []
  },
  {
   "cell_type": "markdown",
   "metadata": {},
   "source": [
    "## Project"
   ]
  },
  {
   "cell_type": "code",
   "execution_count": null,
   "metadata": {},
   "outputs": [],
   "source": []
  }
 ],
 "metadata": {
  "kernelspec": {
   "display_name": "Python 3",
   "language": "python",
   "name": "python3"
  },
  "language_info": {
   "codemirror_mode": {
    "name": "ipython",
    "version": 3
   },
   "file_extension": ".py",
   "mimetype": "text/x-python",
   "name": "python",
   "nbconvert_exporter": "python",
   "pygments_lexer": "ipython3",
   "version": "3.5.2"
  }
 },
 "nbformat": 4,
 "nbformat_minor": 2
}
