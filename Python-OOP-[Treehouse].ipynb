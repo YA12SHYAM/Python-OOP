{
 "cells": [
  {
   "cell_type": "code",
   "execution_count": 1,
   "metadata": {},
   "outputs": [
    {
     "name": "stdout",
     "output_type": "stream",
     "text": [
      "<__main__.Thief object at 0x7f999d7cd828>\n",
      "True\n",
      "True\n"
     ]
    }
   ],
   "source": [
    "class Thief:\n",
    "    # Attribute\n",
    "    sneaky = True \n",
    "    \n",
    "alibaba = Thief()\n",
    "print(alibaba) # instance of class Thief\n",
    "print(alibaba.sneaky)\n",
    "print(Thief.sneaky)"
   ]
  },
  {
   "cell_type": "markdown",
   "metadata": {},
   "source": [
    "### Instances are responsible for their own attribute values so attribute can be changed just on instane"
   ]
  },
  {
   "cell_type": "code",
   "execution_count": 2,
   "metadata": {},
   "outputs": [
    {
     "name": "stdout",
     "output_type": "stream",
     "text": [
      "False\n",
      "True\n"
     ]
    }
   ],
   "source": [
    "alibaba.sneaky = False\n",
    "print(alibaba.sneaky)\n",
    "print(Thief.sneaky)\n",
    "\n",
    "del alibaba # Delete instance\n",
    "# alibaba"
   ]
  },
  {
   "cell_type": "markdown",
   "metadata": {},
   "source": [
    "### Exercise\n",
    "\n",
    "Alright, it's time create your first class all on your own! Make a new class named Student. Give it an attribute name and put your own name, as a string, into the attribute."
   ]
  },
  {
   "cell_type": "code",
   "execution_count": 3,
   "metadata": {},
   "outputs": [],
   "source": [
    "class Student:\n",
    "    name = \"Ankoor\""
   ]
  },
  {
   "cell_type": "markdown",
   "metadata": {},
   "source": [
    "Now, make an instance of your class named me. Then print() out the name attribute of your instance."
   ]
  },
  {
   "cell_type": "code",
   "execution_count": 4,
   "metadata": {},
   "outputs": [
    {
     "name": "stdout",
     "output_type": "stream",
     "text": [
      "Ankoor\n"
     ]
    }
   ],
   "source": [
    "class Student:\n",
    "    name = \"Ankoor\"\n",
    "    \n",
    "me = Student()\n",
    "print(me.name)"
   ]
  },
  {
   "cell_type": "markdown",
   "metadata": {},
   "source": [
    "### Methods are used by an instance not by the actual class, because of this methods always take at least one parameter which represents the instance that is using the method, by convention that parameter is called \"self\""
   ]
  },
  {
   "cell_type": "code",
   "execution_count": 5,
   "metadata": {},
   "outputs": [
    {
     "name": "stdout",
     "output_type": "stream",
     "text": [
      "False\n"
     ]
    },
    {
     "ename": "TypeError",
     "evalue": "pickpocket() missing 1 required positional argument: 'self'",
     "output_type": "error",
     "traceback": [
      "\u001b[0;31m---------------------------------------------------------------------------\u001b[0m",
      "\u001b[0;31mTypeError\u001b[0m                                 Traceback (most recent call last)",
      "\u001b[0;32m<ipython-input-5-74bb2bf4497d>\u001b[0m in \u001b[0;36m<module>\u001b[0;34m()\u001b[0m\n\u001b[1;32m     12\u001b[0m \u001b[0mprint\u001b[0m\u001b[0;34m(\u001b[0m\u001b[0malibaba\u001b[0m\u001b[0;34m.\u001b[0m\u001b[0mpickpocket\u001b[0m\u001b[0;34m(\u001b[0m\u001b[0;34m)\u001b[0m\u001b[0;34m)\u001b[0m\u001b[0;34m\u001b[0m\u001b[0m\n\u001b[1;32m     13\u001b[0m \u001b[0;34m\u001b[0m\u001b[0m\n\u001b[0;32m---> 14\u001b[0;31m \u001b[0mThief\u001b[0m\u001b[0;34m.\u001b[0m\u001b[0mpickpocket\u001b[0m\u001b[0;34m(\u001b[0m\u001b[0;34m)\u001b[0m \u001b[0;31m# Error: missing 1 required positional argument\u001b[0m\u001b[0;34m\u001b[0m\u001b[0m\n\u001b[0m",
      "\u001b[0;31mTypeError\u001b[0m: pickpocket() missing 1 required positional argument: 'self'"
     ]
    }
   ],
   "source": [
    "import random\n",
    "\n",
    "class Thief:\n",
    "    # Attribute\n",
    "    sneaky = True\n",
    "    \n",
    "    # Method\n",
    "    def pickpocket(self): \n",
    "        return bool(random.randint(0, 1))\n",
    "    \n",
    "alibaba = Thief()\n",
    "print(alibaba.pickpocket())\n",
    "\n",
    "Thief.pickpocket() # Error: missing 1 required positional argument"
   ]
  },
  {
   "cell_type": "code",
   "execution_count": 6,
   "metadata": {},
   "outputs": [
    {
     "data": {
      "text/plain": [
       "False"
      ]
     },
     "execution_count": 6,
     "metadata": {},
     "output_type": "execute_result"
    }
   ],
   "source": [
    "Thief.pickpocket(alibaba)"
   ]
  },
  {
   "cell_type": "code",
   "execution_count": 7,
   "metadata": {},
   "outputs": [
    {
     "name": "stdout",
     "output_type": "stream",
     "text": [
      "Called by: <__main__.Thief object at 0x7f99a51059b0>\n",
      "False\n",
      "Called by: <__main__.Thief object at 0x7f99a51059b0>\n",
      "False\n"
     ]
    }
   ],
   "source": [
    "import random\n",
    "\n",
    "class Thief:\n",
    "    # Attribute\n",
    "    sneaky = True\n",
    "    \n",
    "    # Method\n",
    "    def pickpocket(self): \n",
    "        print('Called by: {}'.format(self))\n",
    "        return bool(random.randint(0, 1))\n",
    "    \n",
    "alibaba = Thief()\n",
    "print(alibaba.pickpocket())\n",
    "print(Thief.pickpocket(alibaba)) # Both print will show same memory address"
   ]
  },
  {
   "cell_type": "code",
   "execution_count": 8,
   "metadata": {},
   "outputs": [
    {
     "name": "stdout",
     "output_type": "stream",
     "text": [
      "False\n",
      "False\n"
     ]
    }
   ],
   "source": [
    "import random\n",
    "\n",
    "class Thief:\n",
    "    # Attribute\n",
    "    sneaky = True\n",
    "    \n",
    "    # Method\n",
    "    def pickpocket(self): \n",
    "        if self.sneaky:\n",
    "            return bool(random.randint(0, 1))\n",
    "        else:\n",
    "            return False\n",
    "    \n",
    "alibaba = Thief()\n",
    "print(alibaba.pickpocket())\n",
    "alibaba.sneaky = False\n",
    "print(alibaba.pickpocket())"
   ]
  },
  {
   "cell_type": "markdown",
   "metadata": {},
   "source": [
    "### Exercise\n",
    "\n",
    "I need you to add a method name praise. The method should return a positive message about the student which includes the name attribute. As an example, it could say \"You're doing a great job, Jacinta!\" or \"I really like your hair today, Michael!\". Feel free to change the name attribute to your own name, too!"
   ]
  },
  {
   "cell_type": "code",
   "execution_count": 9,
   "metadata": {},
   "outputs": [
    {
     "data": {
      "text/plain": [
       "\"You're doing a great job, Ankoor!\""
      ]
     },
     "execution_count": 9,
     "metadata": {},
     "output_type": "execute_result"
    }
   ],
   "source": [
    "class Student:\n",
    "    name = \"Ankoor\"\n",
    "    \n",
    "    def praise(self):\n",
    "        return \"You're doing a great job, {}!\".format(self.name)\n",
    "    \n",
    "ank = Student()\n",
    "ank.praise()"
   ]
  },
  {
   "cell_type": "markdown",
   "metadata": {},
   "source": [
    "Alright, I need you make a new method named feedback. It should take an argument named grade. Methods take arguments just like functions do. You'll still need self in there, though. If grade is above 50, return the result of the praise method. If it's 50 or below, return the reassurance method's result."
   ]
  },
  {
   "cell_type": "code",
   "execution_count": 10,
   "metadata": {},
   "outputs": [],
   "source": [
    "class Student:\n",
    "    name = \"Your Name\"\n",
    "    \n",
    "    def praise(self):\n",
    "        return \"You inspire me, {}\".format(self.name)\n",
    "    \n",
    "    def reassurance(self):\n",
    "        return \"Chin up, {}. You'll get it next time!\".format(self.name)\n",
    "    \n",
    "    def feedback(self, grade):\n",
    "        if grade > 50:\n",
    "            return self.praise()\n",
    "        else:\n",
    "            return self.reassurance()"
   ]
  },
  {
   "cell_type": "markdown",
   "metadata": {},
   "source": [
    "### Methods taking parameters other than `self`"
   ]
  },
  {
   "cell_type": "code",
   "execution_count": 11,
   "metadata": {},
   "outputs": [
    {
     "name": "stdout",
     "output_type": "stream",
     "text": [
      "True\n",
      "False\n"
     ]
    }
   ],
   "source": [
    "import random\n",
    "\n",
    "class Thief:\n",
    "    # Attribute\n",
    "    sneaky = True\n",
    "    \n",
    "    # Method\n",
    "    def pickpocket(self): \n",
    "        return self.sneaky and bool(random.randint(0, 1))\n",
    "        \n",
    "    def hide(self, light_level):\n",
    "        return self.sneaky and light_level < 10\n",
    "    \n",
    "alibaba = Thief()\n",
    "print(alibaba.sneaky)\n",
    "print(alibaba.hide(10))"
   ]
  },
  {
   "cell_type": "markdown",
   "metadata": {},
   "source": [
    "### `__init__` method - Method to override to change what happens when a class instance is created"
   ]
  },
  {
   "cell_type": "code",
   "execution_count": 12,
   "metadata": {},
   "outputs": [
    {
     "name": "stdout",
     "output_type": "stream",
     "text": [
      "alibaba\n",
      "False\n",
      "False\n",
      "False\n"
     ]
    }
   ],
   "source": [
    "import random\n",
    "\n",
    "class Thief:\n",
    "    # Attribute\n",
    "    sneaky = True\n",
    "    \n",
    "    def __init__(self, name, sneaky=True, **kwargs):\n",
    "        self.name = name\n",
    "        self.sneaky = sneaky # overriding sneaky\n",
    "    \n",
    "    # Method\n",
    "    def pickpocket(self): \n",
    "        return self.sneaky and bool(random.randint(0, 1))\n",
    "        \n",
    "    def hide(self, light_level):\n",
    "        return self.sneaky and light_level < 10\n",
    "    \n",
    "alibaba = Thief('alibaba', False)\n",
    "print(alibaba.name)\n",
    "print(alibaba.sneaky)\n",
    "print(alibaba.pickpocket())\n",
    "print(alibaba.hide(10))"
   ]
  },
  {
   "cell_type": "markdown",
   "metadata": {},
   "source": [
    "### Assign key, value pairs from `kwargs` to instance using `setattr()` in `__init__` method"
   ]
  },
  {
   "cell_type": "code",
   "execution_count": 13,
   "metadata": {},
   "outputs": [
    {
     "name": "stdout",
     "output_type": "stream",
     "text": [
      "alibaba\n",
      "Face\n",
      "Wit\n"
     ]
    }
   ],
   "source": [
    "import random\n",
    "\n",
    "class Thief:\n",
    "    # Attribute\n",
    "    sneaky = True\n",
    "    \n",
    "    def __init__(self, name, sneaky=True, **kwargs): # **kwargs is a dict\n",
    "        self.name = name\n",
    "        self.sneaky = sneaky\n",
    "        \n",
    "        # Assign key, value pairs from kwargs to instance\n",
    "        for key, value in kwargs.items():\n",
    "            setattr(self, key, value)\n",
    "    \n",
    "    # Method\n",
    "    def pickpocket(self): \n",
    "        return self.sneaky and bool(random.randint(0, 1))\n",
    "        \n",
    "    def hide(self, light_level):\n",
    "        return self.sneaky and light_level < 10\n",
    "    \n",
    "alibaba = Thief('alibaba', scars='Face', favorite_weapon='Wit')\n",
    "print(alibaba.name)\n",
    "print(alibaba.scars)\n",
    "print(alibaba.favorite_weapon)"
   ]
  },
  {
   "cell_type": "markdown",
   "metadata": {},
   "source": [
    "### How and why `setattr` works"
   ]
  },
  {
   "cell_type": "code",
   "execution_count": 14,
   "metadata": {},
   "outputs": [
    {
     "name": "stdout",
     "output_type": "stream",
     "text": [
      "Canus Lupus\n"
     ]
    },
    {
     "ename": "AttributeError",
     "evalue": "'Animal' object has no attribute 'color'",
     "output_type": "error",
     "traceback": [
      "\u001b[0;31m---------------------------------------------------------------------------\u001b[0m",
      "\u001b[0;31mAttributeError\u001b[0m                            Traceback (most recent call last)",
      "\u001b[0;32m<ipython-input-14-9a500b25bbfc>\u001b[0m in \u001b[0;36m<module>\u001b[0;34m()\u001b[0m\n\u001b[1;32m      7\u001b[0m \u001b[0mwolf\u001b[0m \u001b[0;34m=\u001b[0m \u001b[0mAnimal\u001b[0m\u001b[0;34m(\u001b[0m\u001b[0mspecies\u001b[0m\u001b[0;34m=\u001b[0m\u001b[0;34m\"Canus Lupus\"\u001b[0m\u001b[0;34m,\u001b[0m \u001b[0mage\u001b[0m\u001b[0;34m=\u001b[0m\u001b[0;36m5\u001b[0m\u001b[0;34m,\u001b[0m \u001b[0msound\u001b[0m\u001b[0;34m=\u001b[0m\u001b[0;34m\"howl\"\u001b[0m\u001b[0;34m,\u001b[0m \u001b[0mcolor\u001b[0m\u001b[0;34m=\u001b[0m\u001b[0;34m\"gray\"\u001b[0m\u001b[0;34m)\u001b[0m \u001b[0;31m# color attribute is not assigned to self\u001b[0m\u001b[0;34m\u001b[0m\u001b[0m\n\u001b[1;32m      8\u001b[0m \u001b[0mprint\u001b[0m\u001b[0;34m(\u001b[0m\u001b[0mwolf\u001b[0m\u001b[0;34m.\u001b[0m\u001b[0mspecies\u001b[0m\u001b[0;34m)\u001b[0m\u001b[0;34m\u001b[0m\u001b[0m\n\u001b[0;32m----> 9\u001b[0;31m \u001b[0mprint\u001b[0m\u001b[0;34m(\u001b[0m\u001b[0mwolf\u001b[0m\u001b[0;34m.\u001b[0m\u001b[0mcolor\u001b[0m\u001b[0;34m)\u001b[0m  \u001b[0;31m# AttributeError: 'Animal' object has no attribute 'color'\u001b[0m\u001b[0;34m\u001b[0m\u001b[0m\n\u001b[0m",
      "\u001b[0;31mAttributeError\u001b[0m: 'Animal' object has no attribute 'color'"
     ]
    }
   ],
   "source": [
    "class Animal:\n",
    "    def __init__(self, **kwargs):\n",
    "        self.species = kwargs.get(\"species\")\n",
    "        self.age = kwargs.get(\"age\")\n",
    "        self.sound = kwargs.get(\"sound\")\n",
    "        \n",
    "wolf = Animal(species=\"Canus Lupus\", age=5, sound=\"howl\", color=\"gray\") # color attribute is not assigned to self\n",
    "print(wolf.species)\n",
    "print(wolf.color)  # AttributeError: 'Animal' object has no attribute 'color'"
   ]
  },
  {
   "cell_type": "code",
   "execution_count": 15,
   "metadata": {},
   "outputs": [
    {
     "name": "stdout",
     "output_type": "stream",
     "text": [
      "Canus Lupus\n",
      "gray\n"
     ]
    }
   ],
   "source": [
    "class Animal:\n",
    "    def __init__(self, **kwargs):\n",
    "        for attribute, value in kwargs.items():\n",
    "            setattr(self, attribute, value)\n",
    "            \n",
    "wolf = Animal(species=\"Canus Lupus\", age=5, sound=\"howl\", color=\"gray\")\n",
    "print(wolf.species)\n",
    "print(wolf.color)  # No error          "
   ]
  },
  {
   "cell_type": "markdown",
   "metadata": {},
   "source": [
    "### Exercise\n",
    "\n",
    "Our Student class is coming along nicely! I'd like to be able to set the name attribute at the same time that I create an instance. Can you add the code for doing that? Remember, you'll need to override the `__init__` method."
   ]
  },
  {
   "cell_type": "code",
   "execution_count": 16,
   "metadata": {},
   "outputs": [
    {
     "data": {
      "text/plain": [
       "'Ankoor'"
      ]
     },
     "execution_count": 16,
     "metadata": {},
     "output_type": "execute_result"
    }
   ],
   "source": [
    "class Student:\n",
    "    name = \"Your Name\"\n",
    "    \n",
    "    def __init__(self, name):\n",
    "        self.name = name\n",
    "    \n",
    "    def praise(self):\n",
    "        return \"You inspire me, {}\".format(self.name)\n",
    "    \n",
    "    def reassurance(self):\n",
    "        return \"Chin up, {}. You'll get it next time!\".format(self.name)\n",
    "    \n",
    "    def feedback(self, grade):\n",
    "        if grade > 50:\n",
    "            return self.praise()\n",
    "        return self.reassurance()\n",
    "    \n",
    "ank = Student('Ankoor')\n",
    "ank.name"
   ]
  },
  {
   "cell_type": "markdown",
   "metadata": {},
   "source": [
    "Sometimes I have other attributes I need to store on a Student instance, though. Can you use **kwargs and setattr to add attributes for any other key/value pairs I want to send to the instance when I create it?"
   ]
  },
  {
   "cell_type": "code",
   "execution_count": 17,
   "metadata": {},
   "outputs": [
    {
     "data": {
      "text/plain": [
       "'A.I.'"
      ]
     },
     "execution_count": 17,
     "metadata": {},
     "output_type": "execute_result"
    }
   ],
   "source": [
    "class Student:\n",
    "    name = \"Your Name\"\n",
    "    \n",
    "    def __init__(self, name, **kwargs):\n",
    "        self.name = name\n",
    "        for key, value in kwargs.items():\n",
    "            setattr(self, key, value)\n",
    "    \n",
    "    def praise(self):\n",
    "        return \"You inspire me, {}\".format(self.name)\n",
    "    \n",
    "    def reassurance(self):\n",
    "        return \"Chin up, {}. You'll get it next time!\".format(self.name)\n",
    "    \n",
    "    def feedback(self, grade):\n",
    "        if grade > 50:\n",
    "            return self.praise()\n",
    "        return self.reassurance()\n",
    "    \n",
    "ank = Student('Ankoor', role='A.I.')\n",
    "ank.role"
   ]
  },
  {
   "cell_type": "markdown",
   "metadata": {},
   "source": [
    "### Design\n",
    "- Keep your code as simple as possible\n",
    "- Don't repeat yourself (DRY)\n",
    "- Your code should have only the bells and whistles that it needs (YAGNI - You Ain't Gonna Need It)"
   ]
  },
  {
   "cell_type": "markdown",
   "metadata": {},
   "source": [
    "### Exercise\n",
    "\n",
    "OK, let's combine everything we've done so far into one challenge!\n",
    "\n",
    "First, create a class named RaceCar. In the `__init__` for the class, take arguments for color and fuel_remaining. Be sure to set these as attributes on the instance.\n",
    "\n",
    "Also, use setattr to take any other keyword arguments that come in."
   ]
  },
  {
   "cell_type": "code",
   "execution_count": 18,
   "metadata": {},
   "outputs": [
    {
     "name": "stdout",
     "output_type": "stream",
     "text": [
      "Red\n",
      "100\n",
      "120\n"
     ]
    }
   ],
   "source": [
    "class RaceCar:\n",
    "    def __init__(self, color, fuel_remaining, **kwargs):\n",
    "        self.color = color\n",
    "        self.fuel_remaining = fuel_remaining\n",
    "        for key, value in kwargs.items():\n",
    "            setattr(self, key, value)\n",
    "            \n",
    "ferrari = RaceCar('Red', 100, speed=120)\n",
    "print(ferrari.color)\n",
    "print(ferrari.fuel_remaining)\n",
    "print(ferrari.speed)"
   ]
  },
  {
   "cell_type": "markdown",
   "metadata": {},
   "source": [
    "Vrroom!\n",
    "\n",
    "OK, now let's add a method named run_lap. It'll take a length argument. It should reduce the fuel_remaining attribute by length multiplied by 0.125.\n",
    "\n",
    "Oh, and add a laps attribute to the class, set to 0, and increment it each time the run_lap method is called."
   ]
  },
  {
   "cell_type": "code",
   "execution_count": 19,
   "metadata": {},
   "outputs": [
    {
     "name": "stdout",
     "output_type": "stream",
     "text": [
      "Red\n",
      "120\n",
      "98.75\n",
      "1\n",
      "96.25\n",
      "2\n"
     ]
    }
   ],
   "source": [
    "class RaceCar:\n",
    "    laps = 0\n",
    "    def __init__(self, color, fuel_remaining, **kwargs):\n",
    "        self.color = color\n",
    "        self.fuel_remaining = fuel_remaining\n",
    "        for key, value in kwargs.items():\n",
    "            setattr(self, key, value)\n",
    "            \n",
    "    def run_lap(self, length):\n",
    "        self.fuel_remaining -= length * 0.125\n",
    "        self.laps += 1\n",
    "        return self.fuel_remaining\n",
    "        \n",
    "ferrari = RaceCar('Red', 100, speed=120)\n",
    "print(ferrari.color)\n",
    "print(ferrari.speed)\n",
    "print(ferrari.run_lap(10))\n",
    "print(ferrari.laps)\n",
    "print(ferrari.run_lap(20))\n",
    "print(ferrari.laps)"
   ]
  },
  {
   "cell_type": "markdown",
   "metadata": {},
   "source": [
    "Great! One last thing.\n",
    "\n",
    "**In Python, attributes defined on the class, but not an instance, are universal.** So if you change the value of the attribute, any instance that doesn't have it set explicitly will have its value changed, too!\n",
    "\n",
    "For example, right now, if we made a RaceCar instance named red_car, then did RaceCar.laps = 10, red_car.laps would be 10!\n",
    "\n",
    "To prevent this, be sure to set the laps attribute inside of your `__init__` method (it doesn't have to be a keyword argument, though). If you already did it, just hit that \"run\" button and you're good to go!"
   ]
  },
  {
   "cell_type": "code",
   "execution_count": 20,
   "metadata": {},
   "outputs": [
    {
     "name": "stdout",
     "output_type": "stream",
     "text": [
      "Red\n",
      "120\n",
      "98.75\n",
      "1\n",
      "96.25\n",
      "2\n"
     ]
    }
   ],
   "source": [
    "class RaceCar:\n",
    "    def __init__(self, color, fuel_remaining, **kwargs):\n",
    "        self.color = color\n",
    "        self.fuel_remaining = fuel_remaining\n",
    "        self.laps = 0\n",
    "        for key, value in kwargs.items():\n",
    "            setattr(self, key, value)\n",
    "            \n",
    "    def run_lap(self, length):\n",
    "        self.fuel_remaining -= length * 0.125\n",
    "        self.laps += 1\n",
    "        return self.fuel_remaining\n",
    "        \n",
    "ferrari = RaceCar('Red', 100, speed=120)\n",
    "print(ferrari.color)\n",
    "print(ferrari.speed)\n",
    "print(ferrari.run_lap(10))\n",
    "print(ferrari.laps)\n",
    "print(ferrari.run_lap(20))\n",
    "print(ferrari.laps)"
   ]
  },
  {
   "cell_type": "markdown",
   "metadata": {},
   "source": [
    "### Inheritance - Makes code DRY"
   ]
  },
  {
   "cell_type": "code",
   "execution_count": 21,
   "metadata": {},
   "outputs": [
    {
     "name": "stdout",
     "output_type": "stream",
     "text": [
      "Alibaba\n",
      "False\n",
      "False\n",
      "False\n",
      "arm\n"
     ]
    }
   ],
   "source": [
    "class Character:\n",
    "    def __init__(self, name, **kwargs):\n",
    "        self.name = name\n",
    "        for key, value in kwargs.items():\n",
    "            setattr(self, key, value)\n",
    "            \n",
    "class Thief(Character):\n",
    "    # Attribute\n",
    "    sneaky = True\n",
    "        \n",
    "    # Method\n",
    "    def pickpocket(self): \n",
    "        return self.sneaky and bool(random.randint(0, 1))\n",
    "        \n",
    "    def hide(self, light_level):\n",
    "        return self.sneaky and light_level < 10\n",
    "    \n",
    "alibaba = Thief('Alibaba', scar='arm')\n",
    "print(alibaba.name)  # From Character class\n",
    "print(alibaba.pickpocket())\n",
    "alibaba.sneaky = False\n",
    "print(alibaba.pickpocket())\n",
    "print(alibaba.hide(10))\n",
    "print(alibaba.scar)  # From Character class"
   ]
  },
  {
   "cell_type": "markdown",
   "metadata": {},
   "source": [
    "### `super()` - Lets us call code from superclass (parent class) inside subclass (child class). It is helpful when overriding a method from the superclass\n",
    "\n",
    "- When we use `super()` we have to **include the method name and its required arguments**. It is like creating instance of parent class so **no `self`**\n",
    "\n",
    "- [Python’s `super()` considered super!](https://rhettinger.wordpress.com/2011/05/26/super-considered-super/)"
   ]
  },
  {
   "cell_type": "code",
   "execution_count": 22,
   "metadata": {},
   "outputs": [
    {
     "name": "stdout",
     "output_type": "stream",
     "text": [
      "Alibaba\n",
      "False\n",
      "False\n",
      "True\n"
     ]
    }
   ],
   "source": [
    "class Character:\n",
    "    def __init__(self, name, **kwargs):\n",
    "        self.name = name\n",
    "        for key, value in kwargs.items():\n",
    "            setattr(self, key, value)\n",
    "            \n",
    "class Thief(Character):\n",
    "    # Attribute\n",
    "    sneaky = True\n",
    "    \n",
    "    def __init__(self, name, sneaky=True, **kwargs):\n",
    "        super().__init__(name, **kwargs) # It is like creating instance of parent class so no self\n",
    "        # NOTE: sneaky parameter is not passed to superclass's init but to child class's init\n",
    "        \n",
    "        \n",
    "        # Better to have after super() to prevent overriding sneaky if sneaky is passed in kwargs\n",
    "        self.sneaky = sneaky\n",
    "        \n",
    "    # Method\n",
    "    def pickpocket(self): \n",
    "        return self.sneaky and bool(random.randint(0, 1))\n",
    "        \n",
    "    def hide(self, light_level):\n",
    "        return self.sneaky and light_level < 10\n",
    "    \n",
    "alibaba = Thief('Alibaba', sneaky=False, clever=True)\n",
    "print(alibaba.name)\n",
    "print(alibaba.sneaky) \n",
    "print(alibaba.pickpocket())\n",
    "print(alibaba.clever)"
   ]
  },
  {
   "cell_type": "markdown",
   "metadata": {},
   "source": [
    "### Exercise\n",
    "\n",
    "I've made you a super-simple `Inventory` class that would let someone store items in it. Not the most useful class, but we'll build something better in a few videos.\n",
    "\n",
    "For now, though, I need you to create a new class, `SortedInventory` that should be a subclass of Inventory.\n",
    "\n",
    "You can just put `pass` in the body of your class for this step."
   ]
  },
  {
   "cell_type": "code",
   "execution_count": 23,
   "metadata": {},
   "outputs": [],
   "source": [
    "class Inventory:\n",
    "    def __init__(self):\n",
    "        self.slots = []\n",
    "\n",
    "    def add_item(self, item):\n",
    "        self.slots.append(item)\n",
    "        \n",
    "class SortedInventory(Inventory):\n",
    "    pass"
   ]
  },
  {
   "cell_type": "markdown",
   "metadata": {},
   "source": [
    "Great! Now override the add_item method. Use super() in it to make sure the item still gets added to the list."
   ]
  },
  {
   "cell_type": "code",
   "execution_count": 24,
   "metadata": {},
   "outputs": [
    {
     "name": "stdout",
     "output_type": "stream",
     "text": [
      "[]\n",
      "['c']\n"
     ]
    }
   ],
   "source": [
    "class Inventory:\n",
    "    def __init__(self):\n",
    "        self.slots = []\n",
    "\n",
    "    def add_item(self, item):\n",
    "        self.slots.append(item)\n",
    "        \n",
    "class SortedInventory(Inventory):\n",
    "    def add_item(self, item):\n",
    "        super().add_item(item)\n",
    "        \n",
    "inventory = SortedInventory()\n",
    "print(inventory.slots)\n",
    "inventory.add_item('c')\n",
    "print(inventory.slots)"
   ]
  },
  {
   "cell_type": "markdown",
   "metadata": {},
   "source": [
    "Sorted inventories should be just that: sorted. Right now, we just add an item onto the slots list whenever our add_item method is called. Use the list.sort() method to make sure the slots list gets sorted after an item is added. Only do this in the SortedInventory class."
   ]
  },
  {
   "cell_type": "code",
   "execution_count": 25,
   "metadata": {},
   "outputs": [
    {
     "name": "stdout",
     "output_type": "stream",
     "text": [
      "[]\n",
      "['b', 'c']\n",
      "['a', 'b', 'c']\n"
     ]
    }
   ],
   "source": [
    "# Method override example\n",
    "class Inventory:\n",
    "    def __init__(self):\n",
    "        self.slots = []\n",
    "        \n",
    "    def add_item(self, item):\n",
    "        self.slots.append(item)\n",
    "        \n",
    "class SortedInventory(Inventory):\n",
    "    # Method overriding\n",
    "    def add_item(self, item):\n",
    "        super().add_item(item) \n",
    "        self.slots.sort() \n",
    "        \n",
    "        \n",
    "inventory = SortedInventory()\n",
    "print(inventory.slots)\n",
    "inventory.add_item('c')\n",
    "inventory.add_item('b')\n",
    "print(inventory.slots)\n",
    "inventory.add_item('a')\n",
    "print(inventory.slots)"
   ]
  },
  {
   "cell_type": "markdown",
   "metadata": {},
   "source": [
    "### Multiple Superclasses"
   ]
  },
  {
   "cell_type": "code",
   "execution_count": 26,
   "metadata": {},
   "outputs": [],
   "source": [
    "class Character:\n",
    "    def __init__(self, name, **kwargs):\n",
    "        self.name = name\n",
    "        for key, value in kwargs.items():\n",
    "            setattr(self, key, value)"
   ]
  },
  {
   "cell_type": "code",
   "execution_count": 27,
   "metadata": {},
   "outputs": [],
   "source": [
    "import random\n",
    "\n",
    "class Sneaky:\n",
    "    sneaky = True\n",
    "    \n",
    "    def __init__(self, sneaky=True, *args, **kwargs):\n",
    "        super().__init__(*args, **kwargs)\n",
    "        self.sneaky = sneaky\n",
    "        \n",
    "    def hide(self, light_level):\n",
    "        return self.sneaky and light_level < 10\n",
    "    \n",
    "class Agile:\n",
    "    agile = True\n",
    "    \n",
    "    def __init__(self, agile=True, *args, **kwargs):\n",
    "        super().__init__(*args, **kwargs)\n",
    "        self.agile = agile\n",
    "        \n",
    "    def evade(self):\n",
    "        return self.agile and random.randint(0, 1)"
   ]
  },
  {
   "cell_type": "code",
   "execution_count": 28,
   "metadata": {},
   "outputs": [
    {
     "name": "stdout",
     "output_type": "stream",
     "text": [
      "True\n",
      "False\n",
      "False\n"
     ]
    }
   ],
   "source": [
    "class Thief(Character, Agile, Sneaky):\n",
    "    \n",
    "    def pickpocket(self):\n",
    "        return self.sneaky and bool(random.randint(0, 1))\n",
    "    \n",
    "alibaba = Thief('Alibaba', sneaky=False)\n",
    "print(alibaba.agile)\n",
    "print(alibaba.sneaky)\n",
    "print(alibaba.hide(12))"
   ]
  },
  {
   "cell_type": "markdown",
   "metadata": {},
   "source": [
    "**Changing Inheritance Order**"
   ]
  },
  {
   "cell_type": "code",
   "execution_count": 29,
   "metadata": {},
   "outputs": [
    {
     "name": "stdout",
     "output_type": "stream",
     "text": [
      "(<class '__main__.Thief'>, <class '__main__.Character'>, <class '__main__.Agile'>, <class '__main__.Sneaky'>, <class 'object'>)\n"
     ]
    }
   ],
   "source": [
    "# Check Class's Method Resolution Order (MRO)\n",
    "print(Thief.__mro__)"
   ]
  },
  {
   "cell_type": "code",
   "execution_count": 30,
   "metadata": {},
   "outputs": [
    {
     "ename": "TypeError",
     "evalue": "__init__() missing 1 required positional argument: 'name'",
     "output_type": "error",
     "traceback": [
      "\u001b[0;31m---------------------------------------------------------------------------\u001b[0m",
      "\u001b[0;31mTypeError\u001b[0m                                 Traceback (most recent call last)",
      "\u001b[0;32m<ipython-input-30-514158c5527e>\u001b[0m in \u001b[0;36m<module>\u001b[0;34m()\u001b[0m\n\u001b[1;32m      5\u001b[0m         \u001b[0;32mreturn\u001b[0m \u001b[0mself\u001b[0m\u001b[0;34m.\u001b[0m\u001b[0msneaky\u001b[0m \u001b[0;32mand\u001b[0m \u001b[0mbool\u001b[0m\u001b[0;34m(\u001b[0m\u001b[0mrandom\u001b[0m\u001b[0;34m.\u001b[0m\u001b[0mrandint\u001b[0m\u001b[0;34m(\u001b[0m\u001b[0;36m0\u001b[0m\u001b[0;34m,\u001b[0m \u001b[0;36m1\u001b[0m\u001b[0;34m)\u001b[0m\u001b[0;34m)\u001b[0m\u001b[0;34m\u001b[0m\u001b[0m\n\u001b[1;32m      6\u001b[0m \u001b[0;34m\u001b[0m\u001b[0m\n\u001b[0;32m----> 7\u001b[0;31m \u001b[0malibaba\u001b[0m \u001b[0;34m=\u001b[0m \u001b[0mThief\u001b[0m\u001b[0;34m(\u001b[0m\u001b[0;34m'Alibaba'\u001b[0m\u001b[0;34m,\u001b[0m \u001b[0msneaky\u001b[0m\u001b[0;34m=\u001b[0m\u001b[0;32mFalse\u001b[0m\u001b[0;34m)\u001b[0m\u001b[0;34m\u001b[0m\u001b[0m\n\u001b[0m\u001b[1;32m      8\u001b[0m \u001b[0mprint\u001b[0m\u001b[0;34m(\u001b[0m\u001b[0malibaba\u001b[0m\u001b[0;34m.\u001b[0m\u001b[0magile\u001b[0m\u001b[0;34m)\u001b[0m\u001b[0;34m\u001b[0m\u001b[0m\n\u001b[1;32m      9\u001b[0m \u001b[0mprint\u001b[0m\u001b[0;34m(\u001b[0m\u001b[0malibaba\u001b[0m\u001b[0;34m.\u001b[0m\u001b[0msneaky\u001b[0m\u001b[0;34m)\u001b[0m\u001b[0;34m\u001b[0m\u001b[0m\n",
      "\u001b[0;32m<ipython-input-27-92e3f4114668>\u001b[0m in \u001b[0;36m__init__\u001b[0;34m(self, agile, *args, **kwargs)\u001b[0m\n\u001b[1;32m     15\u001b[0m \u001b[0;34m\u001b[0m\u001b[0m\n\u001b[1;32m     16\u001b[0m     \u001b[0;32mdef\u001b[0m \u001b[0m__init__\u001b[0m\u001b[0;34m(\u001b[0m\u001b[0mself\u001b[0m\u001b[0;34m,\u001b[0m \u001b[0magile\u001b[0m\u001b[0;34m=\u001b[0m\u001b[0;32mTrue\u001b[0m\u001b[0;34m,\u001b[0m \u001b[0;34m*\u001b[0m\u001b[0margs\u001b[0m\u001b[0;34m,\u001b[0m \u001b[0;34m**\u001b[0m\u001b[0mkwargs\u001b[0m\u001b[0;34m)\u001b[0m\u001b[0;34m:\u001b[0m\u001b[0;34m\u001b[0m\u001b[0m\n\u001b[0;32m---> 17\u001b[0;31m         \u001b[0msuper\u001b[0m\u001b[0;34m(\u001b[0m\u001b[0;34m)\u001b[0m\u001b[0;34m.\u001b[0m\u001b[0m__init__\u001b[0m\u001b[0;34m(\u001b[0m\u001b[0;34m*\u001b[0m\u001b[0margs\u001b[0m\u001b[0;34m,\u001b[0m \u001b[0;34m**\u001b[0m\u001b[0mkwargs\u001b[0m\u001b[0;34m)\u001b[0m\u001b[0;34m\u001b[0m\u001b[0m\n\u001b[0m\u001b[1;32m     18\u001b[0m         \u001b[0mself\u001b[0m\u001b[0;34m.\u001b[0m\u001b[0magile\u001b[0m \u001b[0;34m=\u001b[0m \u001b[0magile\u001b[0m\u001b[0;34m\u001b[0m\u001b[0m\n\u001b[1;32m     19\u001b[0m \u001b[0;34m\u001b[0m\u001b[0m\n",
      "\u001b[0;32m<ipython-input-27-92e3f4114668>\u001b[0m in \u001b[0;36m__init__\u001b[0;34m(self, sneaky, *args, **kwargs)\u001b[0m\n\u001b[1;32m      5\u001b[0m \u001b[0;34m\u001b[0m\u001b[0m\n\u001b[1;32m      6\u001b[0m     \u001b[0;32mdef\u001b[0m \u001b[0m__init__\u001b[0m\u001b[0;34m(\u001b[0m\u001b[0mself\u001b[0m\u001b[0;34m,\u001b[0m \u001b[0msneaky\u001b[0m\u001b[0;34m=\u001b[0m\u001b[0;32mTrue\u001b[0m\u001b[0;34m,\u001b[0m \u001b[0;34m*\u001b[0m\u001b[0margs\u001b[0m\u001b[0;34m,\u001b[0m \u001b[0;34m**\u001b[0m\u001b[0mkwargs\u001b[0m\u001b[0;34m)\u001b[0m\u001b[0;34m:\u001b[0m\u001b[0;34m\u001b[0m\u001b[0m\n\u001b[0;32m----> 7\u001b[0;31m         \u001b[0msuper\u001b[0m\u001b[0;34m(\u001b[0m\u001b[0;34m)\u001b[0m\u001b[0;34m.\u001b[0m\u001b[0m__init__\u001b[0m\u001b[0;34m(\u001b[0m\u001b[0;34m*\u001b[0m\u001b[0margs\u001b[0m\u001b[0;34m,\u001b[0m \u001b[0;34m**\u001b[0m\u001b[0mkwargs\u001b[0m\u001b[0;34m)\u001b[0m\u001b[0;34m\u001b[0m\u001b[0m\n\u001b[0m\u001b[1;32m      8\u001b[0m         \u001b[0mself\u001b[0m\u001b[0;34m.\u001b[0m\u001b[0msneaky\u001b[0m \u001b[0;34m=\u001b[0m \u001b[0msneaky\u001b[0m\u001b[0;34m\u001b[0m\u001b[0m\n\u001b[1;32m      9\u001b[0m \u001b[0;34m\u001b[0m\u001b[0m\n",
      "\u001b[0;31mTypeError\u001b[0m: __init__() missing 1 required positional argument: 'name'"
     ]
    }
   ],
   "source": [
    "# Changing inheritance order\n",
    "class Thief(Agile, Sneaky, Character):\n",
    "    \n",
    "    def pickpocket(self):\n",
    "        return self.sneaky and bool(random.randint(0, 1))\n",
    "    \n",
    "alibaba = Thief('Alibaba', sneaky=False)\n",
    "print(alibaba.agile)\n",
    "print(alibaba.sneaky)\n",
    "print(alibaba.hide(12))"
   ]
  },
  {
   "cell_type": "code",
   "execution_count": 31,
   "metadata": {},
   "outputs": [],
   "source": [
    "# Changing how \"name\" argument in Character class is defined\n",
    "class Character:\n",
    "    def __init__(self, name=\"\", **kwargs): # Make \"name\" a keyword argument\n",
    "        # Make sure name is not set\n",
    "        if not name:\n",
    "            raise ValueError('\"name\" is required!')\n",
    "        self.name = name\n",
    "        for key, value in kwargs.items():\n",
    "            setattr(self, key, value)"
   ]
  },
  {
   "cell_type": "code",
   "execution_count": 32,
   "metadata": {},
   "outputs": [
    {
     "name": "stdout",
     "output_type": "stream",
     "text": [
      "True\n",
      "False\n",
      "False\n"
     ]
    }
   ],
   "source": [
    "class Thief(Agile, Sneaky, Character): \n",
    "    def pickpocket(self):\n",
    "        return self.sneaky and bool(random.randint(0, 1))\n",
    "    \n",
    "alibaba = Thief(name='Alibaba', sneaky=False) # Explicitly set \"name\" \n",
    "print(alibaba.agile)\n",
    "print(alibaba.sneaky)\n",
    "print(alibaba.hide(12))"
   ]
  },
  {
   "cell_type": "markdown",
   "metadata": {},
   "source": [
    "### Identifying object classes and types\n",
    "\n",
    "- **`isinstance(<object>, <class>)`** or **`isinstance(<object>, (<class-1>, <class-2>, ...))`** \n",
    "- **`issubclass(<class>, <class>)`** or **`issubclass(<class>, (<class-1>, <class-2>, ...))`** \n",
    "- **`type(<instance>)`** -  Returns the class for an instance"
   ]
  },
  {
   "cell_type": "code",
   "execution_count": 33,
   "metadata": {},
   "outputs": [
    {
     "name": "stdout",
     "output_type": "stream",
     "text": [
      "True\n",
      "True\n",
      "<class '__main__.Thief'>\n",
      "<class 'type'>\n"
     ]
    }
   ],
   "source": [
    "print(isinstance(alibaba, (Thief, Character)))\n",
    "print(issubclass(Thief, Character))\n",
    "print(type(alibaba))\n",
    "print(type(Thief))"
   ]
  },
  {
   "cell_type": "markdown",
   "metadata": {},
   "source": [
    "### `__class__` attribute - Tells what `class` an instance is"
   ]
  },
  {
   "cell_type": "code",
   "execution_count": 34,
   "metadata": {},
   "outputs": [
    {
     "name": "stdout",
     "output_type": "stream",
     "text": [
      "<class '__main__.Thief'>\n",
      "Thief\n"
     ]
    }
   ],
   "source": [
    "print(alibaba.__class__)\n",
    "print(alibaba.__class__.__name__)"
   ]
  },
  {
   "cell_type": "markdown",
   "metadata": {},
   "source": [
    "### Exercise\n",
    "\n",
    "Create a function named `combiner` that takes a single argument, which will be a list made up of strings and numbers.\n",
    "\n",
    "Return a single string that is a combination of all of the strings in the list and then the sum of all of the numbers. For example, with the input `[\"apple\", 5.2, \"dog\", 8]`, `combiner` would return `\"appledog13.2\"`. Be sure to use `isinstance` to solve this as I might try to trick you."
   ]
  },
  {
   "cell_type": "code",
   "execution_count": 35,
   "metadata": {},
   "outputs": [
    {
     "data": {
      "text/plain": [
       "'appledog13.2'"
      ]
     },
     "execution_count": 35,
     "metadata": {},
     "output_type": "execute_result"
    }
   ],
   "source": [
    "series = ['apple', 5.2, 'dog', 8]\n",
    "def combiner(series):\n",
    "    strings = ''.join([s for s in series if isinstance(s, str)])\n",
    "    numbers = str(sum([n for n in series if isinstance(n, (int, float))]))\n",
    "    return strings + numbers\n",
    "\n",
    "combiner(series)"
   ]
  },
  {
   "cell_type": "markdown",
   "metadata": {},
   "source": [
    "### Controlling Conversions Between `types` - Using Magic Methods\n",
    "\n",
    "- NOTE: Magic methods are often implemented in base classes"
   ]
  },
  {
   "cell_type": "code",
   "execution_count": 36,
   "metadata": {},
   "outputs": [
    {
     "name": "stdout",
     "output_type": "stream",
     "text": [
      "<__main__.Thief object at 0x7f999cf72278>\n"
     ]
    }
   ],
   "source": [
    "alibaba = Thief(name='Alibaba', sneaky=False) \n",
    "print(alibaba) # Shows the location of object stored in memory"
   ]
  },
  {
   "cell_type": "markdown",
   "metadata": {},
   "source": [
    "`__str__` method: Convert object into a string (mostly used for debugging). NOTE: `__repr__` method: Officially gives string representation of an instance."
   ]
  },
  {
   "cell_type": "code",
   "execution_count": 37,
   "metadata": {},
   "outputs": [
    {
     "name": "stdout",
     "output_type": "stream",
     "text": [
      "Thief: Alibaba\n"
     ]
    }
   ],
   "source": [
    "class Character:\n",
    "    def __init__(self, name=\"\", **kwargs): # Make \"name\" a keyword argument\n",
    "        # Make sure name is not set\n",
    "        if not name:\n",
    "            raise ValueError('\"name\" is required!')\n",
    "        self.name = name\n",
    "        for key, value in kwargs.items():\n",
    "            setattr(self, key, value)\n",
    "    \n",
    "    # Method to return a string for identifying object whenever it is turned to a string\n",
    "    def __str__(self):\n",
    "        return \"{}: {}\".format(self.__class__.__name__, self.name)\n",
    "    \n",
    "class Thief(Agile, Sneaky, Character): \n",
    "    def pickpocket(self):\n",
    "        return self.sneaky and bool(random.randint(0, 1))\n",
    "    \n",
    "alibaba = Thief(name='Alibaba', sneaky=False)  \n",
    "print(alibaba)"
   ]
  },
  {
   "cell_type": "markdown",
   "metadata": {},
   "source": [
    "`__int__` and `__float__` methods: Converts objects into ints and floats."
   ]
  },
  {
   "cell_type": "code",
   "execution_count": 38,
   "metadata": {},
   "outputs": [
    {
     "name": "stdout",
     "output_type": "stream",
     "text": [
      "7\n"
     ]
    },
    {
     "data": {
      "text/plain": [
       "(<__main__.NumString at 0x7f999cefd9e8>, '7', 7, 7.0)"
      ]
     },
     "execution_count": 38,
     "metadata": {},
     "output_type": "execute_result"
    }
   ],
   "source": [
    "# Class that holds a number (int or float) as a string and lets us turn it into an int\n",
    "class NumString:\n",
    "    def __init__(self, value):\n",
    "        self.value = str(value)\n",
    "        \n",
    "    def __str__(self):\n",
    "        return self.value\n",
    "    \n",
    "    def __int__(self):\n",
    "        return int(self.value)\n",
    "    \n",
    "    def __float__(self):\n",
    "        return float(self.value)\n",
    "    \n",
    "alpha = NumString(7)\n",
    "print(alpha)\n",
    "alpha, str(alpha), int(alpha), float(alpha)"
   ]
  },
  {
   "cell_type": "markdown",
   "metadata": {},
   "source": [
    "### Exercise\n",
    "\n",
    "Let's use `__str__` to turn Python code into Morse code! OK, not really, but we can turn class instances into a representation of their Morse code counterparts.\n",
    "\n",
    "I want you to add a `__str__` method to the Letter class that loops through the pattern attribute of an instance and returns \"dot\" for every \"`.`\" (period) and \"dash\" for every \"`_`\" (underscore). Join them with a hyphen.\n",
    "\n",
    "I've included an S class as an example (I'll generate the others when I test your code) and it's `__str__` output should be \"dot-dot-dot\"."
   ]
  },
  {
   "cell_type": "code",
   "execution_count": 39,
   "metadata": {},
   "outputs": [
    {
     "name": "stdout",
     "output_type": "stream",
     "text": [
      "dot-dot-dot-dash-dot-dash\n"
     ]
    }
   ],
   "source": [
    "class Letter:\n",
    "    def __init__(self, pattern=None):\n",
    "        self.pattern = pattern\n",
    "        \n",
    "    def __str__(self):\n",
    "        return '-'.join(['dot' if p == '.' else 'dash' for p in self.pattern])\n",
    "    \n",
    "class S(Letter):\n",
    "    def __init__(self):\n",
    "        pattern = ['.', '.', '.', '_', '.', '_']\n",
    "        super().__init__(pattern)\n",
    "        \n",
    "string = S()\n",
    "print(string)"
   ]
  },
  {
   "cell_type": "markdown",
   "metadata": {},
   "source": [
    "`__add__` method"
   ]
  },
  {
   "cell_type": "code",
   "execution_count": 40,
   "metadata": {},
   "outputs": [
    {
     "name": "stdout",
     "output_type": "stream",
     "text": [
      "12\n",
      "12.5\n"
     ]
    },
    {
     "ename": "TypeError",
     "evalue": "unsupported operand type(s) for +: 'int' and 'NumString'",
     "output_type": "error",
     "traceback": [
      "\u001b[0;31m---------------------------------------------------------------------------\u001b[0m",
      "\u001b[0;31mTypeError\u001b[0m                                 Traceback (most recent call last)",
      "\u001b[0;32m<ipython-input-40-60bff76a6b70>\u001b[0m in \u001b[0;36m<module>\u001b[0;34m()\u001b[0m\n\u001b[1;32m     22\u001b[0m \u001b[0mprint\u001b[0m\u001b[0;34m(\u001b[0m\u001b[0malpha\u001b[0m \u001b[0;34m+\u001b[0m \u001b[0;36m5\u001b[0m\u001b[0;34m)\u001b[0m\u001b[0;34m\u001b[0m\u001b[0m\n\u001b[1;32m     23\u001b[0m \u001b[0mprint\u001b[0m\u001b[0;34m(\u001b[0m\u001b[0malpha\u001b[0m \u001b[0;34m+\u001b[0m \u001b[0;36m5.5\u001b[0m\u001b[0;34m)\u001b[0m\u001b[0;34m\u001b[0m\u001b[0m\n\u001b[0;32m---> 24\u001b[0;31m \u001b[0mprint\u001b[0m\u001b[0;34m(\u001b[0m\u001b[0;36m3\u001b[0m \u001b[0;34m+\u001b[0m \u001b[0malpha\u001b[0m\u001b[0;34m)\u001b[0m \u001b[0;31m# TypeError when instance is on the RHS of +, need to implement __radd__\u001b[0m\u001b[0;34m\u001b[0m\u001b[0m\n\u001b[0m",
      "\u001b[0;31mTypeError\u001b[0m: unsupported operand type(s) for +: 'int' and 'NumString'"
     ]
    }
   ],
   "source": [
    "# More magic methods\n",
    "# Class that holds a number (int or float) as a string and lets us turn it into an int\n",
    "class NumString:\n",
    "    def __init__(self, value):\n",
    "        self.value = str(value)\n",
    "        \n",
    "    def __str__(self):\n",
    "        return self.value\n",
    "    \n",
    "    def __int__(self):\n",
    "        return int(self.value)\n",
    "    \n",
    "    def __float__(self):\n",
    "        return float(self.value)\n",
    "    \n",
    "    def __add__(self, other):\n",
    "        if '.' in self.value:\n",
    "            return float(self.value) + other\n",
    "        return int(self.value) + other\n",
    "    \n",
    "alpha = NumString(7)\n",
    "print(alpha + 5)\n",
    "print(alpha + 5.5)\n",
    "print(3 + alpha) # TypeError when instance is on the RHS of +, need to implement __radd__"
   ]
  },
  {
   "cell_type": "markdown",
   "metadata": {},
   "source": [
    "**Reflected and Inplace Methods** \n",
    "- `__radd__` - When instance is on R.H.S of `+` sign\n",
    "- `__iadd__` for `+=` usage"
   ]
  },
  {
   "cell_type": "code",
   "execution_count": 41,
   "metadata": {},
   "outputs": [
    {
     "name": "stdout",
     "output_type": "stream",
     "text": [
      "107\n",
      "17\n"
     ]
    }
   ],
   "source": [
    "class NumString:\n",
    "    def __init__(self, value):\n",
    "        self.value = str(value)\n",
    "        \n",
    "    def __str__(self):\n",
    "        return self.value\n",
    "    \n",
    "    def __int__(self):\n",
    "        return int(self.value)\n",
    "    \n",
    "    def __float__(self):\n",
    "        return float(self.value)\n",
    "    \n",
    "    def __add__(self, other):\n",
    "        if '.' in self.value:\n",
    "            return float(self.value) + other\n",
    "        return int(self.value) + other\n",
    "    \n",
    "    # 'r' is for reflected\n",
    "    def __radd__(self, other): \n",
    "        return self + other # calls __add__ so self is used instead of self.value\n",
    "    \n",
    "    # 'i' is for inplace for += usage\n",
    "    def __iadd__(self, other):\n",
    "        self.value = self + other\n",
    "        return self.value\n",
    "    \n",
    "alpha = NumString(7)\n",
    "print(100 + alpha) \n",
    "alpha += 10\n",
    "print(alpha)"
   ]
  },
  {
   "cell_type": "markdown",
   "metadata": {},
   "source": [
    "### Exercise\n",
    "\n",
    "This class should look familiar!\n",
    "\n",
    "I need to you add `__mul__` to NumString so we can multiply our number string by a number. Go ahead and add `__rmul__`, too. Now wrap it up by adding in `__imul__`, which does in-place multiplication. Be sure to update self.value!"
   ]
  },
  {
   "cell_type": "code",
   "execution_count": 42,
   "metadata": {},
   "outputs": [
    {
     "name": "stdout",
     "output_type": "stream",
     "text": [
      "7\n",
      "73.5\n",
      "35.0\n"
     ]
    }
   ],
   "source": [
    "class NumString:\n",
    "    def __init__(self, value):\n",
    "        self.value = str(value)\n",
    "        \n",
    "    def __str__(self):\n",
    "        return self.value\n",
    "    \n",
    "    def __int__(self):\n",
    "        return int(self.value)\n",
    "    \n",
    "    def __float__(self):\n",
    "        return float(self.value)\n",
    "    \n",
    "    def __add__(self, other):\n",
    "        if '.' in self.value:\n",
    "            return float(self.value) + other\n",
    "        return int(self.value) + other\n",
    "    \n",
    "    # 'r' is for reflected\n",
    "    def __radd__(self, other): \n",
    "        return self + other # calls __add__ so self is used instead of self.value\n",
    "    \n",
    "    # 'i' is for inplace for += usage\n",
    "    def __iadd__(self, other):\n",
    "        self.value = self + other\n",
    "        return self.value\n",
    "    \n",
    "    def __mul__(self, other):\n",
    "        if '.' in self.value:\n",
    "            return float(self.value) * other\n",
    "        return int(self.value) * other\n",
    "    \n",
    "    def __rmul__(self, other):\n",
    "        return self * other\n",
    "    \n",
    "    def __imul__(self, other):\n",
    "        self.value = self * other\n",
    "        return self.value\n",
    "    \n",
    "alpha = NumString(7)\n",
    "print(alpha)\n",
    "print(alpha *10.5)\n",
    "alpha *= 2\n",
    "print(2.5 * alpha)"
   ]
  },
  {
   "cell_type": "markdown",
   "metadata": {},
   "source": [
    "### Emulating Built-ins\n",
    "\n",
    "Example of a class that acts like a **`list`**"
   ]
  },
  {
   "cell_type": "code",
   "execution_count": 43,
   "metadata": {},
   "outputs": [],
   "source": [
    "class Item:\n",
    "    def __init__(self, name, description):\n",
    "        self.name = name\n",
    "        self.description = description\n",
    "        \n",
    "    def __str__(self):\n",
    "        return \"{}: {}\".format(self.name, self.description)\n",
    "    \n",
    "class Weapon(Item):\n",
    "    def __init__(self, name, description, power):\n",
    "        super().__init__(name, description)\n",
    "        self.power = power"
   ]
  },
  {
   "cell_type": "code",
   "execution_count": 44,
   "metadata": {},
   "outputs": [
    {
     "name": "stdout",
     "output_type": "stream",
     "text": [
      "Sword in inventory:  True\n",
      "\n",
      "coin a gold coin\n",
      "sword a sharp metal weapon\n",
      "spear a pointed stick\n"
     ]
    }
   ],
   "source": [
    "# Class that acts like a list\n",
    "class Inventory:\n",
    "    def __init__(self):\n",
    "        self.slots = []\n",
    "        \n",
    "    def add(self, item):\n",
    "        self.slots.append(item)\n",
    "        \n",
    "    def __len__(self):\n",
    "        return len(self.slots)\n",
    "    \n",
    "    # Checking if an item is in the slot. \n",
    "    # __iter__ or __getitem__ can be used also but not used to check membership\n",
    "    def __contains__(self, item): # __contains__ magic method\n",
    "        return item in self.slots\n",
    "        \n",
    "    def __iter__(self):\n",
    "        for item in self.slots: # or use `yield from self.slots`\n",
    "            yield item\n",
    "\n",
    "\n",
    "# Create an instance of Inventory\n",
    "inventory = Inventory()\n",
    "\n",
    "coin = Item('coin', 'a gold coin')\n",
    "inventory.add(coin)\n",
    "sword = Item('sword', 'a sharp metal weapon')\n",
    "inventory.add(sword)\n",
    "print('Sword in inventory: ', sword in inventory)  # __contains__ \n",
    "print()\n",
    "\n",
    "spear = Weapon('spear', 'a pointed stick', 50)\n",
    "inventory.add(spear)\n",
    "for item in inventory:\n",
    "    print(item.name, item.description)"
   ]
  },
  {
   "cell_type": "markdown",
   "metadata": {},
   "source": [
    "### Generator (`yield`)"
   ]
  },
  {
   "cell_type": "code",
   "execution_count": 45,
   "metadata": {},
   "outputs": [
    {
     "name": "stdout",
     "output_type": "stream",
     "text": [
      "<class 'generator'>\n",
      "2\n",
      "4\n",
      "6\n"
     ]
    }
   ],
   "source": [
    "def get_numbers():\n",
    "    numbers = [2, 4, 6, 8, 10, 12, 14, 16, 18, 20]\n",
    "    for number in numbers:\n",
    "        yield number\n",
    "        \n",
    "numbers = get_numbers() # numbers is a generator object\n",
    "print(type(numbers))\n",
    "print(next(numbers))\n",
    "print(next(numbers))\n",
    "print(next(numbers))"
   ]
  },
  {
   "cell_type": "code",
   "execution_count": 46,
   "metadata": {},
   "outputs": [
    {
     "name": "stdout",
     "output_type": "stream",
     "text": [
      "2\n",
      "4\n"
     ]
    }
   ],
   "source": [
    "# Since we are just returning values from an iteriable we can just use `yield from` to skip the entire for loop\n",
    "def get_numbers():\n",
    "    numbers = [2, 4, 6, 8, 10, 12, 14, 16, 18, 20]\n",
    "    yield from numbers\n",
    "    \n",
    "nums = get_numbers()\n",
    "print(next(nums))\n",
    "print(next(nums))"
   ]
  },
  {
   "cell_type": "markdown",
   "metadata": {},
   "source": [
    "### Exercise\n",
    "\n",
    "Let's make our Letter class better for our Morse code challenge. Add an `__iter__` method to the Letter class so the letter's pattern can be iterated through. You'll want to use yield or yield from."
   ]
  },
  {
   "cell_type": "code",
   "execution_count": 47,
   "metadata": {},
   "outputs": [
    {
     "name": "stdout",
     "output_type": "stream",
     "text": [
      ".\n",
      ".\n",
      "-\n",
      ".\n",
      "-\n",
      "dot-dot-dash-dot-dash\n"
     ]
    }
   ],
   "source": [
    "class Letter:\n",
    "    def __init__(self, pattern=None):\n",
    "        self.pattern = pattern\n",
    "      \n",
    "    def __str__(self):\n",
    "        output = []\n",
    "        for blip in self.pattern:\n",
    "            if blip == '.':\n",
    "                output.append('dot')\n",
    "            else:\n",
    "                output.append('dash')\n",
    "        return '-'.join(output)\n",
    "    \n",
    "    def __iter__(self):\n",
    "        for p in self.pattern: # yield from self.pattern\n",
    "            yield p\n",
    "        \n",
    "class S(Letter):\n",
    "    def __init__(self):\n",
    "        pattern = ['.', '.', '-', '.', '-']\n",
    "        super().__init__(pattern)\n",
    "        \n",
    "s = S()\n",
    "for i in s:\n",
    "    print(i)\n",
    "    \n",
    "print(s)"
   ]
  },
  {
   "cell_type": "markdown",
   "metadata": {},
   "source": [
    "### Subclassing Built-ins\n",
    "\n",
    "- `__init__` - It is used when we want to customize how a new instance of a class is created. If you are **customizing a mutable data type** like list, you **override `__init__`**\n",
    "- `__new__` - If you are **customizing an immutable data type**, you **use `__new__`**. NOTE: `__new__` is a class method so it does not take `self`"
   ]
  },
  {
   "cell_type": "markdown",
   "metadata": {},
   "source": [
    "A subclass of `str` (immutable) that is reversed: Need to use/override `__new__`"
   ]
  },
  {
   "cell_type": "code",
   "execution_count": 48,
   "metadata": {},
   "outputs": [
    {
     "name": "stdout",
     "output_type": "stream",
     "text": [
      "olleh\n"
     ]
    }
   ],
   "source": [
    "class ReversedStr(str):\n",
    "    def __new__(*args, **kwargs):\n",
    "        temp = str.__new__(*args, **kwargs)  # __new__ is a class method so it does not take 'self'\n",
    "        temp = temp[::-1]\n",
    "        return temp  # Unlike __init__, __new__ returns\n",
    "    \n",
    "    # NOTE: super() is not used because with immutable types it is unsafe to use it inside __new__\n",
    "        \n",
    "\n",
    "rs = ReversedStr('hello')\n",
    "print(rs)"
   ]
  },
  {
   "cell_type": "markdown",
   "metadata": {},
   "source": [
    "A subclass of `list` (mutable) that is pre-filled with a certain number of numbers: Need to override `__init__`"
   ]
  },
  {
   "cell_type": "code",
   "execution_count": 49,
   "metadata": {},
   "outputs": [
    {
     "name": "stdout",
     "output_type": "stream",
     "text": [
      "4\n",
      "[2, 2, 2, 2]\n",
      "2\n",
      "[[1, 2, 3], [1, 2, 3]]\n",
      "[[1, 5, 3], [1, 2, 3]]\n",
      "3\n",
      "[['a', 'b', 'c'], ['a', 'b', 'c'], ['a', 'b', 'c']]\n"
     ]
    }
   ],
   "source": [
    "import copy\n",
    "\n",
    "class FilledList(list):\n",
    "    def __init__(self, count, value, *args, **kwargs):\n",
    "        \"\"\"\n",
    "        count - How many\n",
    "        value - what value\n",
    "        \"\"\"\n",
    "        super().__init__() # \n",
    "        for _ in range(count):\n",
    "            self.append(copy.copy(value)) # copy.copy - If mutable is passed, then avoid changes to all if one is changed\n",
    "            \n",
    "fl = FilledList(4, 2)\n",
    "print(len(fl))\n",
    "print(fl)\n",
    "\n",
    "fll = FilledList(2, [1, 2, 3])\n",
    "print(len(fll))\n",
    "print(fll)\n",
    "fll[0][1] = 5 # copy.copy\n",
    "print(fll)\n",
    "\n",
    "flll = FilledList(3, ['a', 'b', 'c'])\n",
    "print(len(flll))\n",
    "print(flll)"
   ]
  },
  {
   "cell_type": "markdown",
   "metadata": {},
   "source": [
    "Change some of the abilities of a `class`"
   ]
  },
  {
   "cell_type": "code",
   "execution_count": 50,
   "metadata": {},
   "outputs": [
    {
     "name": "stdout",
     "output_type": "stream",
     "text": [
      "JavaScript\n",
      "Python\n"
     ]
    },
    {
     "ename": "AttributeError",
     "evalue": "'JavaScriptObject' object has no attribute 'age'",
     "output_type": "error",
     "traceback": [
      "\u001b[0;31m---------------------------------------------------------------------------\u001b[0m",
      "\u001b[0;31mKeyError\u001b[0m                                  Traceback (most recent call last)",
      "\u001b[0;32m<ipython-input-50-de21a7f19b88>\u001b[0m in \u001b[0;36m__getattribute__\u001b[0;34m(self, item)\u001b[0m\n\u001b[1;32m      6\u001b[0m         \u001b[0;32mtry\u001b[0m\u001b[0;34m:\u001b[0m\u001b[0;34m\u001b[0m\u001b[0m\n\u001b[0;32m----> 7\u001b[0;31m             \u001b[0;32mreturn\u001b[0m \u001b[0mself\u001b[0m\u001b[0;34m[\u001b[0m\u001b[0mitem\u001b[0m\u001b[0;34m]\u001b[0m \u001b[0;31m# If key exists return value\u001b[0m\u001b[0;34m\u001b[0m\u001b[0m\n\u001b[0m\u001b[1;32m      8\u001b[0m         \u001b[0;32mexcept\u001b[0m \u001b[0mKeyError\u001b[0m\u001b[0;34m:\u001b[0m\u001b[0;34m\u001b[0m\u001b[0m\n",
      "\u001b[0;31mKeyError\u001b[0m: 'age'",
      "\nDuring handling of the above exception, another exception occurred:\n",
      "\u001b[0;31mAttributeError\u001b[0m                            Traceback (most recent call last)",
      "\u001b[0;32m<ipython-input-50-de21a7f19b88>\u001b[0m in \u001b[0;36m<module>\u001b[0;34m()\u001b[0m\n\u001b[1;32m     13\u001b[0m \u001b[0mprint\u001b[0m\u001b[0;34m(\u001b[0m\u001b[0mjso\u001b[0m\u001b[0;34m.\u001b[0m\u001b[0mname\u001b[0m\u001b[0;34m)\u001b[0m\u001b[0;34m\u001b[0m\u001b[0m\n\u001b[1;32m     14\u001b[0m \u001b[0mprint\u001b[0m\u001b[0;34m(\u001b[0m\u001b[0mjso\u001b[0m\u001b[0;34m.\u001b[0m\u001b[0mlanguage\u001b[0m\u001b[0;34m)\u001b[0m\u001b[0;34m\u001b[0m\u001b[0m\n\u001b[0;32m---> 15\u001b[0;31m \u001b[0mprint\u001b[0m\u001b[0;34m(\u001b[0m\u001b[0mjso\u001b[0m\u001b[0;34m.\u001b[0m\u001b[0mage\u001b[0m\u001b[0;34m)\u001b[0m \u001b[0;31m# KeyError first then AttributeError\u001b[0m\u001b[0;34m\u001b[0m\u001b[0m\n\u001b[0m",
      "\u001b[0;32m<ipython-input-50-de21a7f19b88>\u001b[0m in \u001b[0;36m__getattribute__\u001b[0;34m(self, item)\u001b[0m\n\u001b[1;32m      7\u001b[0m             \u001b[0;32mreturn\u001b[0m \u001b[0mself\u001b[0m\u001b[0;34m[\u001b[0m\u001b[0mitem\u001b[0m\u001b[0;34m]\u001b[0m \u001b[0;31m# If key exists return value\u001b[0m\u001b[0;34m\u001b[0m\u001b[0m\n\u001b[1;32m      8\u001b[0m         \u001b[0;32mexcept\u001b[0m \u001b[0mKeyError\u001b[0m\u001b[0;34m:\u001b[0m\u001b[0;34m\u001b[0m\u001b[0m\n\u001b[0;32m----> 9\u001b[0;31m             \u001b[0;32mreturn\u001b[0m \u001b[0msuper\u001b[0m\u001b[0;34m(\u001b[0m\u001b[0;34m)\u001b[0m\u001b[0;34m.\u001b[0m\u001b[0m__getattribute__\u001b[0m\u001b[0;34m(\u001b[0m\u001b[0mitem\u001b[0m\u001b[0;34m)\u001b[0m \u001b[0;31m# Fallback to dict version of getattribute\u001b[0m\u001b[0;34m\u001b[0m\u001b[0m\n\u001b[0m\u001b[1;32m     10\u001b[0m \u001b[0;34m\u001b[0m\u001b[0m\n\u001b[1;32m     11\u001b[0m \u001b[0mjso\u001b[0m \u001b[0;34m=\u001b[0m \u001b[0mJavaScriptObject\u001b[0m\u001b[0;34m(\u001b[0m\u001b[0;34m{\u001b[0m\u001b[0;34m'name'\u001b[0m\u001b[0;34m:\u001b[0m \u001b[0;34m'JavaScript'\u001b[0m\u001b[0;34m}\u001b[0m\u001b[0;34m)\u001b[0m\u001b[0;34m\u001b[0m\u001b[0m\n",
      "\u001b[0;31mAttributeError\u001b[0m: 'JavaScriptObject' object has no attribute 'age'"
     ]
    }
   ],
   "source": [
    "class JavaScriptObject(dict):\n",
    "    \"\"\"\n",
    "    Extending dict with ability to look up keys with \".\"\n",
    "    \"\"\"\n",
    "    def __getattribute__(self, item):\n",
    "        try:\n",
    "            return self[item] # If key exists return value\n",
    "        except KeyError:\n",
    "            return super().__getattribute__(item) # Fallback to dict version of getattribute\n",
    "        \n",
    "jso = JavaScriptObject({'name': 'JavaScript'})\n",
    "jso.language = 'Python'\n",
    "print(jso.name)\n",
    "print(jso.language)\n",
    "print(jso.age) # KeyError first then AttributeError"
   ]
  },
  {
   "cell_type": "markdown",
   "metadata": {},
   "source": [
    "### Exercise\n",
    "\n",
    "Alright, time to subclass int. Make a class named Double that extends `int`.  Now override `__new__`. Create a new int instance from whatever is passed in as arguments and keyword arguments. Return that instance. And, finally, double (multiply by two) the int that you created in `__new__`. Return the new, doubled value. For example, Double(5) would return a 10."
   ]
  },
  {
   "cell_type": "code",
   "execution_count": 51,
   "metadata": {},
   "outputs": [
    {
     "data": {
      "text/plain": [
       "20"
      ]
     },
     "execution_count": 51,
     "metadata": {},
     "output_type": "execute_result"
    }
   ],
   "source": [
    "class Double(int):\n",
    "    def __new__(*args, **kwargs):\n",
    "        return int.__new__(*args, **kwargs) * 2\n",
    "    \n",
    "Double(10)"
   ]
  },
  {
   "cell_type": "markdown",
   "metadata": {},
   "source": [
    "Make a subclass of `list`. Name it Liar. Override the `__len__` method so that it always returns the wrong number of items in the list. For example, if a list has 5 members, the Liar class might say it has 8 or 2."
   ]
  },
  {
   "cell_type": "code",
   "execution_count": 52,
   "metadata": {},
   "outputs": [
    {
     "name": "stdout",
     "output_type": "stream",
     "text": [
      "Correct length:  0\n",
      "7\n"
     ]
    }
   ],
   "source": [
    "import random\n",
    "\n",
    "class Liar(list):\n",
    "    def __init__(self, *args, **kwargs):\n",
    "        super().__init__()\n",
    "        \n",
    "    def __len__(self):\n",
    "        length = super().__len__() # Assign super().__len__() to a variable to get length\n",
    "        print('Correct length: ', length)\n",
    "        return length + int(random.random() * 10)\n",
    "    \n",
    "liar = Liar()\n",
    "print(len(liar))"
   ]
  },
  {
   "cell_type": "markdown",
   "metadata": {},
   "source": [
    "### Class Methods\n",
    "- Class Methods - Does not take `self` or the instance as their first argument. Instead they take the class that they are being called on. The word `class` can not be used as it is a reserved keyword so the word `cls` is used.\n",
    "- `@` symbol marks `classmethod` as a `decorator`\n",
    "- `decorator` - A function that take another function, does something with it and then usually returns that function."
   ]
  },
  {
   "cell_type": "code",
   "execution_count": 53,
   "metadata": {},
   "outputs": [
    {
     "name": "stdout",
     "output_type": "stream",
     "text": [
      "[<__main__.Book object at 0x7f999cf0c3c8>, <__main__.Book object at 0x7f999cf5d978>]\n",
      "\"Moby Dick\" by Herman Melville\n",
      "\"Jungle Book\" by Rudyard Kipling\n"
     ]
    }
   ],
   "source": [
    "class Book:\n",
    "    def __init__(self, title, author):\n",
    "        self.title = title\n",
    "        self.author = author\n",
    "        \n",
    "    def __str__(self):\n",
    "        return '\"{}\" by {}'.format(self.title, self.author)\n",
    "\n",
    "class Bookcase:\n",
    "    def __init__(self, books=None): \n",
    "        \"\"\"\n",
    "        books : list\n",
    "            NOTE: Do not provide a mutable object (e.g. list) as a default value \n",
    "            for an argument.\n",
    "        \"\"\"\n",
    "        self.books = books\n",
    "        \n",
    "    @classmethod\n",
    "    def create_bookcase(cls, book_list):\n",
    "        books = []\n",
    "        for title, author in book_list:\n",
    "            books.append(Book(title, author)) # Appends instance of `Book` to the books list\n",
    "        return cls(books) # Creates a new instance of `Bookcase`, and books is a list\n",
    "    \n",
    "books = [('Moby Dick', 'Herman Melville'), ('Jungle Book', 'Rudyard Kipling')]\n",
    "bc = Bookcase.create_bookcase(books)\n",
    "print(bc.books)\n",
    "print(bc.books[0])\n",
    "print(str(bc.books[1]))"
   ]
  },
  {
   "cell_type": "code",
   "execution_count": 54,
   "metadata": {},
   "outputs": [
    {
     "data": {
      "text/plain": [
       "'[<__main__.Book object at 0x7f999cf0c3c8>, <__main__.Book object at 0x7f999cf5d978>]'"
      ]
     },
     "execution_count": 54,
     "metadata": {},
     "output_type": "execute_result"
    }
   ],
   "source": [
    "str(bc.books)"
   ]
  },
  {
   "cell_type": "markdown",
   "metadata": {},
   "source": [
    "### Exercise\n",
    "Let's practice using `@classmethod`! Create a class method in Letter named from_string that takes a string like \"dash-dot\" and creates an instance with the correct pattern (['__', '.'])."
   ]
  },
  {
   "cell_type": "code",
   "execution_count": 55,
   "metadata": {},
   "outputs": [
    {
     "data": {
      "text/plain": [
       "(['_', '.'], 'dash-dot')"
      ]
     },
     "execution_count": 55,
     "metadata": {},
     "output_type": "execute_result"
    }
   ],
   "source": [
    "class Letter:\n",
    "    def __init__(self, pattern=None):\n",
    "        self.pattern = pattern\n",
    "      \n",
    "    def __iter__(self):\n",
    "        yield from self.pattern\n",
    "      \n",
    "    def __str__(self):\n",
    "        output = []\n",
    "        for blip in self:\n",
    "            if blip == '.':\n",
    "                output.append('dot')\n",
    "            else:\n",
    "                output.append('dash')\n",
    "        return '-'.join(output)\n",
    "    \n",
    "    @classmethod\n",
    "    def from_string(cls, string):\n",
    "        return cls(['.' if s == 'dot' else '_' for s in string.split('-')])\n",
    "    \n",
    "\n",
    "class S(Letter):\n",
    "    def __init__(self):\n",
    "        pattern = ['.', '.', '.']\n",
    "        super().__init__(pattern)\n",
    "        \n",
    "string = 'dash-dot'\n",
    "l = Letter.from_string(string)\n",
    "l.pattern, str(l)"
   ]
  },
  {
   "cell_type": "markdown",
   "metadata": {},
   "source": [
    "### Special Methods\n",
    "- `__` makes things pretty much inaccessible outside of the class"
   ]
  },
  {
   "cell_type": "code",
   "execution_count": 56,
   "metadata": {},
   "outputs": [
    {
     "name": "stdout",
     "output_type": "stream",
     "text": [
      "['_Protected__method', '_Protected__name', '__class__', '__delattr__', '__dict__', '__dir__', '__doc__', '__eq__', '__format__', '__ge__', '__getattribute__', '__gt__', '__hash__', '__init__', '__le__', '__lt__', '__module__', '__ne__', '__new__', '__reduce__', '__reduce_ex__', '__repr__', '__setattr__', '__sizeof__', '__str__', '__subclasshook__', '__weakref__']\n"
     ]
    },
    {
     "data": {
      "text/plain": [
       "('Security', 'Security')"
      ]
     },
     "execution_count": 56,
     "metadata": {},
     "output_type": "execute_result"
    }
   ],
   "source": [
    "class Protected:\n",
    "    __name = \"Security\"\n",
    "    \n",
    "    def __method(self):\n",
    "        return self.__name\n",
    "    \n",
    "p = Protected()\n",
    "# p.__name # AttributeError\n",
    "# p.__method() # AttributeError\n",
    "\n",
    "print(dir(p))\n",
    "p._Protected__name, p._Protected__method()"
   ]
  },
  {
   "cell_type": "code",
   "execution_count": 57,
   "metadata": {},
   "outputs": [
    {
     "name": "stdout",
     "output_type": "stream",
     "text": [
      "Test\n"
     ]
    }
   ],
   "source": [
    "class Test:\n",
    "    __name = \"Test\"\n",
    "    \n",
    "t = Test()\n",
    "print(t._Test__name)"
   ]
  },
  {
   "cell_type": "markdown",
   "metadata": {},
   "source": [
    "### `@property`\n",
    "- Protecting how an attribute is set or how it is retrieved because you have things that need to be calculated.\n",
    "- Properties act like attributes\n",
    "- Setter to set attribute that property represents. Decorator: `@<getter-method-name>.setter`\n"
   ]
  },
  {
   "cell_type": "code",
   "execution_count": 58,
   "metadata": {},
   "outputs": [
    {
     "name": "stdout",
     "output_type": "stream",
     "text": [
      "Diameter:  10\n",
      "radius method:  <bound method Circle.radius of <__main__.Circle object at 0x7f999cf5d0b8>>\n",
      "Calling radius method:  5.0\n",
      "RADIUS property:  5.0\n",
      "\n",
      "Diameter:  20\n",
      "radius method:  <bound method Circle.radius of <__main__.Circle object at 0x7f999cf5d0b8>>\n",
      "Calling radius method:  10.0\n",
      "RADIUS property:  10.0\n",
      "\n"
     ]
    }
   ],
   "source": [
    "class Circle:\n",
    "    def __init__(self, diameter):\n",
    "        self.diameter = diameter\n",
    "        \n",
    "    def radius(self):\n",
    "        return self.diameter * 0.5 # Calculation\n",
    "    \n",
    "    # Getter\n",
    "    @property \n",
    "    def RADIUS(self):\n",
    "        return self.diameter * 0.5 # Calculation \n",
    "    \n",
    "    # Setter\n",
    "    @RADIUS.setter # What property we are decorating and setter method for doing that\n",
    "    def RADIUS(self, radius): # Same name as getter method\n",
    "        self.diameter = radius * 2\n",
    "    \n",
    "c = Circle(10)\n",
    "print('Diameter: ', c.diameter)\n",
    "print('radius method: ', c.radius)\n",
    "print('Calling radius method: ', c.radius()) # Calling radius method\n",
    "print('RADIUS property: ', c.RADIUS) # RADIUS is a property of Circle class\n",
    "print()\n",
    "\n",
    "c.diameter = 20\n",
    "print('Diameter: ', c.diameter)\n",
    "print('radius method: ', c.radius)\n",
    "print('Calling radius method: ', c.radius()) # Calling radius method\n",
    "print('RADIUS property: ', c.RADIUS) # RADIUS is a property of Circle class\n",
    "print()"
   ]
  },
  {
   "cell_type": "code",
   "execution_count": 59,
   "metadata": {},
   "outputs": [
    {
     "name": "stdout",
     "output_type": "stream",
     "text": [
      "RADIUS property:  20.0\n",
      "Diameter:  40\n"
     ]
    }
   ],
   "source": [
    "c.RADIUS = 20 # AttributeError: can't set attribute setter is not used\n",
    "print('RADIUS property: ', c.RADIUS)\n",
    "print('Diameter: ', c.diameter)"
   ]
  },
  {
   "cell_type": "markdown",
   "metadata": {},
   "source": [
    "### Example\n",
    "\n",
    "Add a new property to the Rectangle class named area. It should calculate and return the area of the Rectangle instance (width x length). Let's add one more property to our Rectangle class. This time, add a perimeter property that returns the perimeter of the rectangle (length x 2 + width x 2)"
   ]
  },
  {
   "cell_type": "code",
   "execution_count": 60,
   "metadata": {},
   "outputs": [
    {
     "data": {
      "text/plain": [
       "(120, 44)"
      ]
     },
     "execution_count": 60,
     "metadata": {},
     "output_type": "execute_result"
    }
   ],
   "source": [
    "class Rectangle:\n",
    "    def __init__(self, width, length):\n",
    "        self.width = width\n",
    "        self.length = length\n",
    "    \n",
    "    @property\n",
    "    def area(self):\n",
    "        return self.width * self.length\n",
    "    \n",
    "    @property\n",
    "    def perimeter(self):\n",
    "        return self.width * 2 + self.length * 2\n",
    "    \n",
    "r = Rectangle(10, 12)\n",
    "r.area, r.perimeter"
   ]
  },
  {
   "cell_type": "markdown",
   "metadata": {},
   "source": [
    "We need to be able to set the price of a product through a property setter. Add a new setter (`@price.setter`) method to the Product class that updates the `_price` attribute."
   ]
  },
  {
   "cell_type": "code",
   "execution_count": 61,
   "metadata": {},
   "outputs": [
    {
     "name": "stdout",
     "output_type": "stream",
     "text": [
      "11.2\n",
      "10\n",
      "112.0\n",
      "100\n"
     ]
    }
   ],
   "source": [
    "class Product:\n",
    "    _price = 0.0\n",
    "    tax_rate = 0.12\n",
    "  \n",
    "    def __init__(self, base_price):\n",
    "        self._price = base_price\n",
    "    \n",
    "    @property\n",
    "    def price(self):\n",
    "        return self._price + (self._price * self.tax_rate)\n",
    "    \n",
    "    @price.setter\n",
    "    def price(self, price):\n",
    "        self._price = price\n",
    "        return self._price\n",
    "    \n",
    "p = Product(10)\n",
    "print(p.price)\n",
    "print(p._price)\n",
    "p.price = 100\n",
    "print(p.price)\n",
    "print(p._price)"
   ]
  },
  {
   "cell_type": "markdown",
   "metadata": {},
   "source": [
    "# Dice Roller Project"
   ]
  },
  {
   "cell_type": "code",
   "execution_count": 62,
   "metadata": {},
   "outputs": [],
   "source": [
    "import random\n",
    "\n",
    "class Die:\n",
    "    def __init__(self, sides=2, value=0):\n",
    "        if not sides >= 2:\n",
    "            raise ValueError('Die must have at least 2 sides.')\n",
    "            \n",
    "        if not isinstance(sides, int):\n",
    "            raise ValueError('Sides must be an integer.')\n",
    "            \n",
    "        if not isinstance(value, int):\n",
    "            raise ValueError('Value must be an integer.')\n",
    "            \n",
    "        self.value = value or random.randint(1, sides)\n",
    "\n",
    "class D6(Die):\n",
    "    \"\"\"\n",
    "    6-sided die.\n",
    "    \"\"\"\n",
    "    def __init__(self, value=0):\n",
    "        super().__init__(sides=6, value=value)"
   ]
  },
  {
   "cell_type": "code",
   "execution_count": 63,
   "metadata": {},
   "outputs": [
    {
     "name": "stdout",
     "output_type": "stream",
     "text": [
      "1\n",
      "6\n",
      "3\n"
     ]
    }
   ],
   "source": [
    "d = Die()\n",
    "print(d.value)\n",
    "d6 = Die(sides=6)\n",
    "print(d6.value)\n",
    "\n",
    "d6 = D6()\n",
    "print(d6.value)"
   ]
  },
  {
   "cell_type": "markdown",
   "metadata": {},
   "source": [
    "### Exercise\n",
    "\n",
    "Create a new Board subclass named TicTacToe. Have it automatically be a 3x3 board by automatically setting values in the `__init__`. Now make all Board instances iterable so we can loop through their cells attribute."
   ]
  },
  {
   "cell_type": "code",
   "execution_count": 64,
   "metadata": {},
   "outputs": [
    {
     "name": "stdout",
     "output_type": "stream",
     "text": [
      "[(0, 0), (1, 0), (2, 0), (0, 1), (1, 1), (2, 1), (0, 2), (1, 2), (2, 2)]\n"
     ]
    }
   ],
   "source": [
    "class Board:\n",
    "    def __init__(self, width, height):\n",
    "        self.width = width\n",
    "        self.height = height\n",
    "        self.cells = []\n",
    "        for j in range(self.height):\n",
    "            for i in range(self.width):\n",
    "                self.cells.append((i, j))\n",
    "                \n",
    "    def __iter__(self):\n",
    "        yield from self.cells\n",
    "                \n",
    "class TicTacToe(Board):\n",
    "    def __init__(self, width=3, height=3):\n",
    "        super().__init__(width=width, height=height)\n",
    "        \n",
    "ttt = TicTacToe()\n",
    "print([t for t in ttt])"
   ]
  },
  {
   "cell_type": "markdown",
   "metadata": {},
   "source": [
    "### Comparing and Combining Dice\n",
    "\n",
    "If you want to get a lot of magic method goodies easily, check out [attrs](https://attrs.readthedocs.io/en/stable/). It's a solid library and makes a lot of common usages much easier."
   ]
  },
  {
   "cell_type": "code",
   "execution_count": 65,
   "metadata": {},
   "outputs": [],
   "source": [
    "import random\n",
    "\n",
    "class Die:\n",
    "    def __init__(self, sides=2, value=0):\n",
    "        if not sides >= 2:\n",
    "            raise ValueError('Die must have at least 2 sides.')\n",
    "            \n",
    "        if not isinstance(sides, int):\n",
    "            raise ValueError('Sides must be an integer.')\n",
    "            \n",
    "        if not isinstance(value, int):\n",
    "            raise ValueError('Value must be an integer.')\n",
    "            \n",
    "        self.value = value or random.randint(1, sides)\n",
    "        \n",
    "    # Magic methods for comparision\n",
    "    def __int__(self):\n",
    "        return self.value\n",
    "    \n",
    "    def __eq__(self, other):\n",
    "        return int(self.value) == other\n",
    "    \n",
    "    def __ne__(self, other):\n",
    "        return int(self) != other\n",
    "    \n",
    "    def __gt__(self, other):\n",
    "        return int(self) > other\n",
    "    \n",
    "    def __lt__(self, other):\n",
    "        return int(self) < other\n",
    "    \n",
    "    def __ge__(self, other):\n",
    "        return int(self) > other or int(self) == other\n",
    "    \n",
    "    def __le__(self, other):\n",
    "        return int(self) < other or int(self) == other\n",
    "    \n",
    "    # Magic methods for combining\n",
    "    def __add__(self, other):\n",
    "        return int(self) + other\n",
    "    \n",
    "    def __radd__(self, other):\n",
    "        return int(self) + other\n",
    "    \n",
    "    def __repr__(self):\n",
    "        return str(self.value)\n",
    "\n",
    "class D6(Die):\n",
    "    \"\"\"\n",
    "    6-sided die.\n",
    "    \"\"\"\n",
    "    def __init__(self, value=0):\n",
    "        super().__init__(sides=6, value=value)"
   ]
  },
  {
   "cell_type": "code",
   "execution_count": 66,
   "metadata": {},
   "outputs": [
    {
     "name": "stdout",
     "output_type": "stream",
     "text": [
      "True\n",
      "True\n",
      "False\n",
      "True\n",
      "False\n",
      "1\n",
      "2\n",
      "3\n"
     ]
    },
    {
     "data": {
      "text/plain": [
       "3"
      ]
     },
     "execution_count": 66,
     "metadata": {},
     "output_type": "execute_result"
    }
   ],
   "source": [
    "d6 = D6()\n",
    "print(d6 < 2)\n",
    "print(d6 <= 2)\n",
    "print(d6 > 1)\n",
    "print(d6 != 4)\n",
    "print(d6 == 6)\n",
    "\n",
    "d1 = D6()\n",
    "d2 = D6()\n",
    "print(int(d1))\n",
    "print(int(d2))\n",
    "print(int(d1) + int(d2))\n",
    "d1 + d2 # Works on terminal but not on notebook!"
   ]
  },
  {
   "cell_type": "markdown",
   "metadata": {},
   "source": [
    "### Exercise\n",
    "\n",
    "I'd like to compare songs by their length (measured in whole seconds). Add the required methods for ==, <, >, <=, and >= comparisons. Probably a good idea to be able to convert Songs to ints, too, huh?"
   ]
  },
  {
   "cell_type": "code",
   "execution_count": 67,
   "metadata": {},
   "outputs": [],
   "source": [
    "class Song:\n",
    "    def __init__(self, artist, title, length):\n",
    "        self.artist = artist\n",
    "        self.title = title\n",
    "        self.length = length\n",
    "        \n",
    "    def __eq__(self, other):\n",
    "        return self.length == other\n",
    "    \n",
    "    def __ne__(self, other):\n",
    "        return self.length != other\n",
    "    \n",
    "    def __gt__(self, other):\n",
    "        return self.length > other\n",
    "    \n",
    "    def __lt__(self, other):\n",
    "        return self.length < other\n",
    "    \n",
    "    def __ge__(self, other):\n",
    "        return self.length >= other\n",
    "    \n",
    "    def __le__(self, other):\n",
    "        return self.length <= other"
   ]
  },
  {
   "cell_type": "markdown",
   "metadata": {},
   "source": [
    "### Hand"
   ]
  },
  {
   "cell_type": "code",
   "execution_count": 68,
   "metadata": {},
   "outputs": [],
   "source": [
    "class Hand(list):\n",
    "    def __init__(self, size=0, die_class=None, *args, **kwargs):\n",
    "        if not die_class:\n",
    "            raise ValueError(\"die_class must be provided.\")\n",
    "        super().__init__()\n",
    "        \n",
    "        for _ in range(size):\n",
    "            self.append(die_class()) # Creating instances of die_class\n",
    "            \n",
    "        # Sorting\n",
    "        self.sort()\n",
    "        \n",
    "class YatzyHand(Hand):\n",
    "    def __init__(self, *args, **kwargs):\n",
    "        super().__init__(size=5, die_class=D6, *args, **kwargs)"
   ]
  },
  {
   "cell_type": "code",
   "execution_count": 69,
   "metadata": {},
   "outputs": [
    {
     "name": "stdout",
     "output_type": "stream",
     "text": [
      "5\n",
      "2\n",
      "2\n",
      "[1, 1, 1, 4, 4]\n"
     ]
    }
   ],
   "source": [
    "hand = Hand(size=5, die_class=D6)\n",
    "print(len(hand))\n",
    "print(hand[0])\n",
    "print(hand[0].value)\n",
    "\n",
    "yh = YatzyHand()\n",
    "print(yh)"
   ]
  },
  {
   "cell_type": "markdown",
   "metadata": {},
   "source": [
    "Functions and classes are first-class citizens in Python which means we can pass them around and use them as values just like we would any other variable. "
   ]
  },
  {
   "cell_type": "code",
   "execution_count": 70,
   "metadata": {},
   "outputs": [
    {
     "name": "stdout",
     "output_type": "stream",
     "text": [
      "<__main__.Car object at 0x7f999cf45d68>\n",
      "<__main__.Car object at 0x7f999cf45a90>\n",
      "<__main__.Car object at 0x7f999cf45d68>\n"
     ]
    }
   ],
   "source": [
    "class Car:\n",
    "    pass\n",
    "\n",
    "def vehicle_factory(cls, count):\n",
    "    for _ in range(count):\n",
    "        yield cls()\n",
    "        \n",
    "cars = vehicle_factory(Car, 3)\n",
    "for c in cars:\n",
    "    print(c)"
   ]
  },
  {
   "cell_type": "markdown",
   "metadata": {},
   "source": [
    "### Exercise\n",
    "\n",
    "Create a new class named D20 that extends Die. It should automatically have 20 sides and shouldn't require any arguments to create."
   ]
  },
  {
   "cell_type": "code",
   "execution_count": 71,
   "metadata": {},
   "outputs": [],
   "source": [
    "class D20(Die):\n",
    "    def __init__(self):\n",
    "        super().__init__(sides=20)"
   ]
  },
  {
   "cell_type": "markdown",
   "metadata": {},
   "source": [
    "Now update `Hand`. I'm going to use code similar to `Hand.roll(2)` and I want to get back an instance of Hand with two D20s rolled in it. I should then be able to call `.total` on the instance to get the total of the two dice.\n",
    "\n",
    "I'll leave the implementation of all of that up to you. I don't care how you do it, I only care that it works."
   ]
  },
  {
   "cell_type": "code",
   "execution_count": 72,
   "metadata": {},
   "outputs": [
    {
     "name": "stdout",
     "output_type": "stream",
     "text": [
      "Length:  2\n",
      "Hand:  [4, 14]\n",
      "Total:  18\n"
     ]
    }
   ],
   "source": [
    "class Hand(list):\n",
    "    def __init__(self, size=0, die_class=None, *args, **kwargs):\n",
    "        if not die_class:\n",
    "            raise ValueError(\"die_class must be provided.\")\n",
    "        super().__init__()\n",
    "        \n",
    "        for _ in range(size):\n",
    "            self.append(die_class()) # Creating instances of die_class\n",
    "            \n",
    "        # Sorting\n",
    "        self.sort()\n",
    "    \n",
    "    @classmethod\n",
    "    def roll(cls, size, die_class=D20):\n",
    "        return cls(size=size, die_class=die_class)\n",
    "    \n",
    "    @property\n",
    "    def total(self):\n",
    "        return sum(self)\n",
    "    \n",
    "h = Hand.roll(2)\n",
    "print('Length: ', len(h))\n",
    "print('Hand: ', h)\n",
    "print('Total: ', h.total)"
   ]
  },
  {
   "cell_type": "markdown",
   "metadata": {},
   "source": [
    "**This works in the exercise**\n",
    "```python\n",
    "from dice import D20\n",
    "\n",
    "class Hand(list):\n",
    "    def __init__(self, size=0, die_class=D20, *args, **kwargs):\n",
    "        super().__init__()\n",
    "        for _ in range(size):\n",
    "            self.append(die_class())\n",
    "\n",
    "    @classmethod\n",
    "    def roll(cls, size):\n",
    "        return cls(size)\n",
    "\n",
    "    @property\n",
    "    def total(self):\n",
    "        return sum(self)\n",
    "```"
   ]
  },
  {
   "cell_type": "markdown",
   "metadata": {},
   "source": [
    "### Yatzy Scoring"
   ]
  },
  {
   "cell_type": "code",
   "execution_count": 73,
   "metadata": {},
   "outputs": [
    {
     "name": "stdout",
     "output_type": "stream",
     "text": [
      "hand:  [1, 2, 4, 6, 6]\n",
      "hand:  [1, 3, 3, 4, 4]\n"
     ]
    },
    {
     "data": {
      "text/plain": [
       "8"
      ]
     },
     "execution_count": 73,
     "metadata": {},
     "output_type": "execute_result"
    }
   ],
   "source": [
    "class Hand(list):\n",
    "    def __init__(self, size=0, die_class=None, *args, **kwargs):\n",
    "        if not die_class:\n",
    "            raise ValueError(\"die_class must be provided.\")\n",
    "        super().__init__()\n",
    "        \n",
    "        for _ in range(size):\n",
    "            self.append(die_class()) # Creating instances of die_class\n",
    "            \n",
    "        # Sorting\n",
    "        self.sort()\n",
    "        \n",
    "    def _by_value(self, value):\n",
    "        dice = []\n",
    "        for die in self: # Because Hand is inheriting from list\n",
    "            if die == value:\n",
    "                dice.append(die)\n",
    "        return dice\n",
    "            \n",
    "        \n",
    "class YatzyHand(Hand):\n",
    "    def __init__(self, *args, **kwargs):\n",
    "        super().__init__(size=5, die_class=D6, *args, **kwargs)\n",
    "        \n",
    "    @property\n",
    "    def ones(self):\n",
    "        return self._by_value(1)\n",
    "    \n",
    "    @property\n",
    "    def twos(self):\n",
    "        return self._by_value(2)\n",
    "    \n",
    "    @property\n",
    "    def threes(self):\n",
    "        return self._by_value(3)\n",
    "    \n",
    "    @property\n",
    "    def fours(self):\n",
    "        return self._by_value(4)\n",
    "    \n",
    "    @property\n",
    "    def fives(self):\n",
    "        return self._by_value(5)\n",
    "    \n",
    "    @property\n",
    "    def sixes(self):\n",
    "        return self._by_value(6)\n",
    "    \n",
    "    @property\n",
    "    def _sets(self):\n",
    "        return {\n",
    "            1: len(self.ones),\n",
    "            2: len(self.twos),\n",
    "            3: len(self.threes),\n",
    "            4: len(self.fours),\n",
    "            5: len(self.fives),\n",
    "            6: len(self.sixes)\n",
    "        }\n",
    "    \n",
    "class YatzeeScoresheet:\n",
    "    def score_ones(self, hand):\n",
    "        return sum(hand.ones)\n",
    "    \n",
    "    def score_twos(self, hand):\n",
    "        return sum(hand.twos)\n",
    "    \n",
    "    def score_threes(self, hand):\n",
    "        return sum(hand.threes)\n",
    "    \n",
    "    def score_fours(self, hand):\n",
    "        return sum(hand.fours)\n",
    "    \n",
    "    def score_fives(self, hand):\n",
    "        return sum(hand.fives)\n",
    "    \n",
    "    def score_sixes(self, hand):\n",
    "        return sum(hand.sixes)\n",
    "    \n",
    "    def _score_set(self, hand, set_size):\n",
    "        scores = [0]\n",
    "        for worth, count in hand._sets.items():\n",
    "            if count == set_size:\n",
    "                scores.append(worth * set_size)   \n",
    "        return max(scores)\n",
    "    \n",
    "    def score_one_pair(self, hand):\n",
    "        return self._score_set(hand, 2)\n",
    "    \n",
    "    \n",
    "hand = YatzyHand()\n",
    "print('hand: ', hand)\n",
    "three = D6(value=3)\n",
    "four = D6(value=4)\n",
    "one = D6(value=1)\n",
    "hand[:] = [one, three, three, four, four]  # Why replace?\n",
    "print('hand: ', hand)\n",
    "\n",
    "YatzeeScoresheet().score_one_pair(hand)"
   ]
  },
  {
   "cell_type": "markdown",
   "metadata": {},
   "source": [
    "### Exercise\n",
    "\n",
    "I've set you up with all of the code you've seen in the course. I want you to add a `score_chance` method to the `YatzyScoresheet`. It should take a hand argument. Return the sum total of the dice in the hand. For example, a Hand of [1, 2, 2, 3, 4] would return a score of 12."
   ]
  },
  {
   "cell_type": "code",
   "execution_count": 74,
   "metadata": {},
   "outputs": [
    {
     "name": "stdout",
     "output_type": "stream",
     "text": [
      "[1, 3, 4, 4, 5]\n"
     ]
    },
    {
     "data": {
      "text/plain": [
       "17"
      ]
     },
     "execution_count": 74,
     "metadata": {},
     "output_type": "execute_result"
    }
   ],
   "source": [
    "class YatzeeScoresheet:\n",
    "    def score_ones(self, hand):\n",
    "        return sum(hand.ones)\n",
    "    \n",
    "    def _score_set(self, hand, set_size):\n",
    "        scores = [0]\n",
    "        for worth, count in hand._sets.items():\n",
    "            if count == set_size:\n",
    "                scores.append(worth * set_size)   \n",
    "        return max(scores)\n",
    "    \n",
    "    def score_one_pair(self, hand):\n",
    "        return self._score_set(hand, 2)\n",
    "    \n",
    "    def score_chance(self, hand):\n",
    "        return sum(hand)\n",
    "    \n",
    "hand = YatzyHand()\n",
    "print(hand)\n",
    "yss = YatzeeScoresheet()\n",
    "yss.score_chance(hand)"
   ]
  },
  {
   "cell_type": "markdown",
   "metadata": {},
   "source": [
    "Great! Let's make one more scoring method! Create a `score_yatzy` method. If there are five dice with the same value, return 50. Otherwise, return 0."
   ]
  },
  {
   "cell_type": "code",
   "execution_count": 75,
   "metadata": {},
   "outputs": [
    {
     "name": "stdout",
     "output_type": "stream",
     "text": [
      "[2, 3, 4, 5, 6]\n"
     ]
    },
    {
     "data": {
      "text/plain": [
       "0"
      ]
     },
     "execution_count": 75,
     "metadata": {},
     "output_type": "execute_result"
    }
   ],
   "source": [
    "class YatzeeScoresheet:\n",
    "    def score_ones(self, hand):\n",
    "        return sum(hand.ones)\n",
    "    \n",
    "    def _score_set(self, hand, set_size):\n",
    "        scores = [0]\n",
    "        for worth, count in hand._sets.items():\n",
    "            if count == set_size:\n",
    "                scores.append(worth * set_size)   \n",
    "        return max(scores)\n",
    "    \n",
    "    def score_one_pair(self, hand):\n",
    "        return self._score_set(hand, 2)\n",
    "    \n",
    "    def score_chance(self, hand):\n",
    "        return sum(hand)\n",
    "    \n",
    "    def score_yatzy(self, hand):\n",
    "        if all([h == hand[0] for h in hand]):\n",
    "            return 50\n",
    "        else:\n",
    "            return 0\n",
    "        \n",
    "hand = YatzyHand()\n",
    "print(hand)\n",
    "yss = YatzeeScoresheet()\n",
    "yss.score_yatzy(hand)"
   ]
  },
  {
   "cell_type": "markdown",
   "metadata": {},
   "source": [
    "We're playing a popular board game about snatching up real estate in Atlantic City. I need you finish out the `CapitalismHand` class. First off, make sure it always rolls two `D6`s."
   ]
  },
  {
   "cell_type": "code",
   "execution_count": 76,
   "metadata": {},
   "outputs": [
    {
     "name": "stdout",
     "output_type": "stream",
     "text": [
      "[4, 5]\n"
     ]
    }
   ],
   "source": [
    "class CapitalismHand(Hand):\n",
    "    def __init__(self, *args, **kwargs):\n",
    "        super().__init__(size=2, die_class=D6, *args, **kwargs)\n",
    "        \n",
    "    @property\n",
    "    def ones(self):\n",
    "        return self._by_value(1)\n",
    "    \n",
    "    @property\n",
    "    def twos(self):\n",
    "        return self._by_value(2)\n",
    "    \n",
    "    @property\n",
    "    def threes(self):\n",
    "        return self._by_value(3)\n",
    "    \n",
    "    @property\n",
    "    def fours(self):\n",
    "        return self._by_value(4)\n",
    "    \n",
    "    @property\n",
    "    def fives(self):\n",
    "        return self._by_value(5)\n",
    "    \n",
    "    @property\n",
    "    def sixes(self):\n",
    "        return self._by_value(6)\n",
    "    \n",
    "    @property\n",
    "    def _sets(self):\n",
    "        return {\n",
    "            1: len(self.ones),\n",
    "            2: len(self.twos),\n",
    "            3: len(self.threes),\n",
    "            4: len(self.fours),\n",
    "            5: len(self.fives),\n",
    "            6: len(self.sixes)\n",
    "        }\n",
    "    \n",
    "c_hand = CapitalismHand()\n",
    "print(c_hand)"
   ]
  },
  {
   "cell_type": "markdown",
   "metadata": {},
   "source": [
    "Alright! Now I need you to add a new `property` called `doubles`. It should return True if both of the dice have the same value. Otherwise, return False."
   ]
  },
  {
   "cell_type": "code",
   "execution_count": 77,
   "metadata": {},
   "outputs": [
    {
     "name": "stdout",
     "output_type": "stream",
     "text": [
      "[3, 4]\n",
      "False\n"
     ]
    }
   ],
   "source": [
    "class CapitalismHand(Hand):\n",
    "    def __init__(self, *args, **kwargs):\n",
    "        super().__init__(size=2, die_class=D6, *args, **kwargs)\n",
    "        \n",
    "    @property\n",
    "    def ones(self):\n",
    "        return self._by_value(1)\n",
    "    \n",
    "    @property\n",
    "    def twos(self):\n",
    "        return self._by_value(2)\n",
    "    \n",
    "    @property\n",
    "    def threes(self):\n",
    "        return self._by_value(3)\n",
    "    \n",
    "    @property\n",
    "    def fours(self):\n",
    "        return self._by_value(4)\n",
    "    \n",
    "    @property\n",
    "    def fives(self):\n",
    "        return self._by_value(5)\n",
    "    \n",
    "    @property\n",
    "    def sixes(self):\n",
    "        return self._by_value(6)\n",
    "    \n",
    "    @property\n",
    "    def _sets(self):\n",
    "        return {\n",
    "            1: len(self.ones),\n",
    "            2: len(self.twos),\n",
    "            3: len(self.threes),\n",
    "            4: len(self.fours),\n",
    "            5: len(self.fives),\n",
    "            6: len(self.sixes)\n",
    "        }\n",
    "    \n",
    "    @property\n",
    "    def doubles(self):\n",
    "        if self[0] == self[1]:\n",
    "            return True\n",
    "        else:\n",
    "            return False\n",
    "        \n",
    "c_hand = CapitalismHand()\n",
    "print(c_hand)\n",
    "print(c_hand.doubles)"
   ]
  },
  {
   "cell_type": "markdown",
   "metadata": {},
   "source": [
    "And, finally, if I have doubles, I want to `reroll` the hand. Add a classmethod to CapitalismHand named reroll that returns a new instance of the class, effectively rerolling the hand."
   ]
  },
  {
   "cell_type": "code",
   "execution_count": 78,
   "metadata": {},
   "outputs": [
    {
     "name": "stdout",
     "output_type": "stream",
     "text": [
      "[1, 5]\n",
      "False\n",
      "[3, 4]\n"
     ]
    }
   ],
   "source": [
    "class CapitalismHand(Hand):\n",
    "    def __init__(self, *args, **kwargs):\n",
    "        super().__init__(size=2, die_class=D6, *args, **kwargs)\n",
    "        \n",
    "    @property\n",
    "    def ones(self):\n",
    "        return self._by_value(1)\n",
    "    \n",
    "    @property\n",
    "    def twos(self):\n",
    "        return self._by_value(2)\n",
    "    \n",
    "    @property\n",
    "    def threes(self):\n",
    "        return self._by_value(3)\n",
    "    \n",
    "    @property\n",
    "    def fours(self):\n",
    "        return self._by_value(4)\n",
    "    \n",
    "    @property\n",
    "    def fives(self):\n",
    "        return self._by_value(5)\n",
    "    \n",
    "    @property\n",
    "    def sixes(self):\n",
    "        return self._by_value(6)\n",
    "    \n",
    "    @property\n",
    "    def _sets(self):\n",
    "        return {\n",
    "            1: len(self.ones),\n",
    "            2: len(self.twos),\n",
    "            3: len(self.threes),\n",
    "            4: len(self.fours),\n",
    "            5: len(self.fives),\n",
    "            6: len(self.sixes)\n",
    "        }\n",
    "    \n",
    "    @property\n",
    "    def doubles(self):\n",
    "        if self[0] == self[1]:\n",
    "            return True\n",
    "        else:\n",
    "            return False\n",
    "    \n",
    "    @classmethod\n",
    "    def reroll(cls):\n",
    "        return cls()\n",
    "        \n",
    "c_hand = CapitalismHand()\n",
    "print(c_hand)\n",
    "print(c_hand.doubles)\n",
    "print(c_hand.reroll())"
   ]
  },
  {
   "cell_type": "code",
   "execution_count": null,
   "metadata": {},
   "outputs": [],
   "source": []
  },
  {
   "cell_type": "markdown",
   "metadata": {},
   "source": [
    "# Python Useful"
   ]
  },
  {
   "cell_type": "markdown",
   "metadata": {},
   "source": [
    "**`Pandas.DataFrame.pipe()`** Example"
   ]
  },
  {
   "cell_type": "code",
   "execution_count": 79,
   "metadata": {},
   "outputs": [
    {
     "data": {
      "text/html": [
       "<div>\n",
       "<style scoped>\n",
       "    .dataframe tbody tr th:only-of-type {\n",
       "        vertical-align: middle;\n",
       "    }\n",
       "\n",
       "    .dataframe tbody tr th {\n",
       "        vertical-align: top;\n",
       "    }\n",
       "\n",
       "    .dataframe thead th {\n",
       "        text-align: right;\n",
       "    }\n",
       "</style>\n",
       "<table border=\"1\" class=\"dataframe\">\n",
       "  <thead>\n",
       "    <tr style=\"text-align: right;\">\n",
       "      <th></th>\n",
       "      <th>A</th>\n",
       "      <th>B</th>\n",
       "      <th>C</th>\n",
       "    </tr>\n",
       "  </thead>\n",
       "  <tbody>\n",
       "    <tr>\n",
       "      <th>0</th>\n",
       "      <td>10100</td>\n",
       "      <td>50.5</td>\n",
       "      <td>250.0</td>\n",
       "    </tr>\n",
       "    <tr>\n",
       "      <th>1</th>\n",
       "      <td>10200</td>\n",
       "      <td>51.0</td>\n",
       "      <td>200.0</td>\n",
       "    </tr>\n",
       "    <tr>\n",
       "      <th>2</th>\n",
       "      <td>10300</td>\n",
       "      <td>51.5</td>\n",
       "      <td>150.0</td>\n",
       "    </tr>\n",
       "  </tbody>\n",
       "</table>\n",
       "</div>"
      ],
      "text/plain": [
       "       A     B      C\n",
       "0  10100  50.5  250.0\n",
       "1  10200  51.0  200.0\n",
       "2  10300  51.5  150.0"
      ]
     },
     "execution_count": 79,
     "metadata": {},
     "output_type": "execute_result"
    }
   ],
   "source": [
    "import numpy as np\n",
    "import pandas as pd\n",
    "\n",
    "### Apply 3 functions to data: \n",
    "# 1. Subtract a number from df columns\n",
    "# 2. Divide df columns by a given number\n",
    "# 3. Multiply df columns by a given number\n",
    "\n",
    "df = pd.DataFrame({'A': [1, 2, 3, 4, 5], \n",
    "                   'B': [1, 2, 3, 4, 5],\n",
    "                   'C': [5, 4, 3, 2, 1]})\n",
    "\n",
    "def adder(df, add):\n",
    "    cols = ['A', 'B']\n",
    "    addition = df[cols].apply(lambda x: x + add)\n",
    "    df[cols] = addition\n",
    "    return df\n",
    "    \n",
    "def divider(df, div):\n",
    "    cols = ['B', 'C']\n",
    "    division = df[cols].apply(lambda x: x/float(div))\n",
    "    df[cols] = division\n",
    "    return df\n",
    "\n",
    "def multiplier(df, mul):\n",
    "    cols = ['A', 'C']\n",
    "    multiply = df[cols].apply(lambda x: x * mul)\n",
    "    df[cols] = multiply\n",
    "    return df\n",
    "\n",
    "df.pipe(adder, 100).pipe(divider, 2).pipe(multiplier, 100).head(3)"
   ]
  },
  {
   "cell_type": "markdown",
   "metadata": {},
   "source": [
    "**`Pandas Multi-Index` Example**"
   ]
  },
  {
   "cell_type": "code",
   "execution_count": 80,
   "metadata": {},
   "outputs": [
    {
     "data": {
      "text/html": [
       "<div>\n",
       "<style scoped>\n",
       "    .dataframe tbody tr th:only-of-type {\n",
       "        vertical-align: middle;\n",
       "    }\n",
       "\n",
       "    .dataframe tbody tr th {\n",
       "        vertical-align: top;\n",
       "    }\n",
       "\n",
       "    .dataframe thead tr th {\n",
       "        text-align: left;\n",
       "    }\n",
       "\n",
       "    .dataframe thead tr:last-of-type th {\n",
       "        text-align: right;\n",
       "    }\n",
       "</style>\n",
       "<table border=\"1\" class=\"dataframe\">\n",
       "  <thead>\n",
       "    <tr>\n",
       "      <th></th>\n",
       "      <th colspan=\"2\" halign=\"left\">a</th>\n",
       "      <th>b</th>\n",
       "      <th colspan=\"2\" halign=\"left\">c</th>\n",
       "      <th>d</th>\n",
       "    </tr>\n",
       "    <tr>\n",
       "      <th></th>\n",
       "      <th>df1</th>\n",
       "      <th>df2</th>\n",
       "      <th>df1</th>\n",
       "      <th>df1</th>\n",
       "      <th>df2</th>\n",
       "      <th>df2</th>\n",
       "    </tr>\n",
       "    <tr>\n",
       "      <th>index</th>\n",
       "      <th></th>\n",
       "      <th></th>\n",
       "      <th></th>\n",
       "      <th></th>\n",
       "      <th></th>\n",
       "      <th></th>\n",
       "    </tr>\n",
       "  </thead>\n",
       "  <tbody>\n",
       "    <tr>\n",
       "      <th>0</th>\n",
       "      <td>0</td>\n",
       "      <td>5</td>\n",
       "      <td>1</td>\n",
       "      <td>2</td>\n",
       "      <td>1</td>\n",
       "      <td>3</td>\n",
       "    </tr>\n",
       "    <tr>\n",
       "      <th>1</th>\n",
       "      <td>9</td>\n",
       "      <td>4</td>\n",
       "      <td>9</td>\n",
       "      <td>4</td>\n",
       "      <td>2</td>\n",
       "      <td>1</td>\n",
       "    </tr>\n",
       "    <tr>\n",
       "      <th>2</th>\n",
       "      <td>6</td>\n",
       "      <td>6</td>\n",
       "      <td>7</td>\n",
       "      <td>1</td>\n",
       "      <td>8</td>\n",
       "      <td>8</td>\n",
       "    </tr>\n",
       "    <tr>\n",
       "      <th>3</th>\n",
       "      <td>1</td>\n",
       "      <td>7</td>\n",
       "      <td>6</td>\n",
       "      <td>5</td>\n",
       "      <td>1</td>\n",
       "      <td>6</td>\n",
       "    </tr>\n",
       "    <tr>\n",
       "      <th>4</th>\n",
       "      <td>5</td>\n",
       "      <td>2</td>\n",
       "      <td>9</td>\n",
       "      <td>2</td>\n",
       "      <td>0</td>\n",
       "      <td>8</td>\n",
       "    </tr>\n",
       "  </tbody>\n",
       "</table>\n",
       "</div>"
      ],
      "text/plain": [
       "        a       b   c       d\n",
       "      df1 df2 df1 df1 df2 df2\n",
       "index                        \n",
       "0       0   5   1   2   1   3\n",
       "1       9   4   9   4   2   1\n",
       "2       6   6   7   1   8   8\n",
       "3       1   7   6   5   1   6\n",
       "4       5   2   9   2   0   8"
      ]
     },
     "execution_count": 80,
     "metadata": {},
     "output_type": "execute_result"
    }
   ],
   "source": [
    "df1 = pd.DataFrame([dict(index=i, **dict(zip('abc', np.random.randint(0,10, size=3)))) for i in range(0,5)]).set_index('index')\n",
    "df2 = pd.DataFrame([dict(index=i, **dict(zip('acd', np.random.randint(0,10, size=3)))) for i in range(0,5)]).set_index('index')\n",
    "dfs = {'df1': df1, 'df2': df2}\n",
    "pd.concat(dfs.values(), keys=dfs.keys(), axis=1).swaplevel(0,1, axis=1).sort_index(axis=1)"
   ]
  },
  {
   "cell_type": "markdown",
   "metadata": {},
   "source": [
    "**`logging`**\n",
    "- Levels\n",
    "    - CRITICAL\n",
    "    - ERROR\n",
    "    - WARNING\n",
    "    - INFO\n",
    "    - DEBUG\n",
    "    - NOTSET (not used very often)"
   ]
  },
  {
   "cell_type": "code",
   "execution_count": 81,
   "metadata": {},
   "outputs": [
    {
     "name": "stderr",
     "output_type": "stream",
     "text": [
      "/home/ankoor/.virtualenvs/AI27/lib/python3.5/site-packages/ipykernel_launcher.py:5: DeprecationWarning: The 'warn' function is deprecated, use 'warning' instead\n",
      "  \"\"\"\n",
      "WARNING:root:Oh no!\n"
     ]
    }
   ],
   "source": [
    "import logging\n",
    "\n",
    "# It will print directly to screen\n",
    "logging.info('You would not see this')\n",
    "logging.warn('Oh no!')\n",
    "\n",
    "# Print log to a file\n",
    "logging.basicConfig(filename='./test.log', level=logging.DEBUG) \n",
    "# Level tells the logger what level to start paying attenten to messages, it will ignore messages with lower levels\n",
    "\n",
    "\n",
    "logging.info('This is a test!')"
   ]
  },
  {
   "cell_type": "code",
   "execution_count": null,
   "metadata": {},
   "outputs": [],
   "source": []
  }
 ],
 "metadata": {
  "kernelspec": {
   "display_name": "Python 3",
   "language": "python",
   "name": "python3"
  },
  "language_info": {
   "codemirror_mode": {
    "name": "ipython",
    "version": 3
   },
   "file_extension": ".py",
   "mimetype": "text/x-python",
   "name": "python",
   "nbconvert_exporter": "python",
   "pygments_lexer": "ipython3",
   "version": "3.5.2"
  }
 },
 "nbformat": 4,
 "nbformat_minor": 2
}
