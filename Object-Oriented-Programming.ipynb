{
 "cells": [
  {
   "cell_type": "markdown",
   "metadata": {},
   "source": [
    "### class & object\n",
    "- A blueprint with data and methods"
   ]
  },
  {
   "cell_type": "code",
   "execution_count": 7,
   "metadata": {
    "collapsed": false
   },
   "outputs": [
    {
     "name": "stdout",
     "output_type": "stream",
     "text": [
      "__main__.example_class\n",
      "<__main__.example_class instance at 0x1045f6098>\n",
      "brown\n",
      "32\n",
      "<bound method example_class.Method of <__main__.example_class instance at 0x1045f6098>>\n",
      "This method works!\n"
     ]
    }
   ],
   "source": [
    "# Class\n",
    "class example_class:\n",
    "    eyes=\"brown\"\n",
    "    age=32\n",
    "    def Method(self):\n",
    "        return 'This method works!'\n",
    "\n",
    "print example_class\n",
    "\n",
    "# Object\n",
    "example_object = example_class()\n",
    "print example_object\n",
    "print example_object.eyes\n",
    "print example_object.age\n",
    "print example_object.Method\n",
    "print example_object.Method()"
   ]
  },
  {
   "cell_type": "code",
   "execution_count": 8,
   "metadata": {
    "collapsed": false
   },
   "outputs": [
    {
     "name": "stdout",
     "output_type": "stream",
     "text": [
      "__main__.C\n",
      "<__main__.C instance at 0x1045f6710>\n",
      "10\n",
      "Test\n"
     ]
    }
   ],
   "source": [
    "class C:\n",
    "    variable = 10\n",
    "    def f(self):\n",
    "        return 'Test'\n",
    "    \n",
    "c = C()\n",
    "print C\n",
    "print c\n",
    "print c.variable\n",
    "print c.f()"
   ]
  },
  {
   "cell_type": "markdown",
   "metadata": {},
   "source": [
    "### self\n",
    "- Every method inside a class needs to take *self* as first parameter, then other parameters.\n",
    "- *self* - It is a temporary placeholder for the object. "
   ]
  },
  {
   "cell_type": "code",
   "execution_count": 13,
   "metadata": {
    "collapsed": false
   },
   "outputs": [
    {
     "data": {
      "text/plain": [
       "<class __main__.Name at 0x104603738>"
      ]
     },
     "execution_count": 13,
     "metadata": {},
     "output_type": "execute_result"
    }
   ],
   "source": [
    "# Class\n",
    "class Name:\n",
    "    def create(self, name): \n",
    "        self.name = name\n",
    "    def display(self):\n",
    "        return self.name\n",
    "    def say(self):\n",
    "        print 'Hello %s' % self.name\n",
    "        \n",
    "Name"
   ]
  },
  {
   "cell_type": "code",
   "execution_count": 14,
   "metadata": {
    "collapsed": true
   },
   "outputs": [],
   "source": [
    "# Objects\n",
    "first_object = Name()\n",
    "second_object = Name()"
   ]
  },
  {
   "cell_type": "code",
   "execution_count": 30,
   "metadata": {
    "collapsed": false
   },
   "outputs": [
    {
     "name": "stdout",
     "output_type": "stream",
     "text": [
      "Ankoor Allie\n",
      "Hello Ankoor\n",
      "Hello Allie\n",
      "Ankoor\n",
      "Allie\n"
     ]
    }
   ],
   "source": [
    "first_object.create('Ankoor')\n",
    "second_object.create('Allie')\n",
    "print first_object.display(), second_object.display()\n",
    "first_object.say(), second_object.say()\n",
    "print first_object.name\n",
    "print second_object.name"
   ]
  },
  {
   "cell_type": "markdown",
   "metadata": {},
   "source": [
    "### Subclasses and Superclasses"
   ]
  },
  {
   "cell_type": "code",
   "execution_count": 32,
   "metadata": {
    "collapsed": true
   },
   "outputs": [],
   "source": [
    "class Parent:\n",
    "    variable = \"variable\"\n",
    "    constant = \"constant\"\n",
    "    \n",
    "class Child(Parent): # Inherit characteristics of Parent class\n",
    "    pass"
   ]
  },
  {
   "cell_type": "code",
   "execution_count": 38,
   "metadata": {
    "collapsed": false
   },
   "outputs": [
    {
     "name": "stdout",
     "output_type": "stream",
     "text": [
      "variable\n",
      "constant\n",
      "variable\n",
      "constant\n"
     ]
    }
   ],
   "source": [
    "# Accessing variables from parent and child classes\n",
    "parent_object = Parent()\n",
    "print parent_object.variable\n",
    "print parent_object.constant\n",
    "\n",
    "child_object = Child()\n",
    "print child_object.variable\n",
    "print child_object.constant"
   ]
  },
  {
   "cell_type": "markdown",
   "metadata": {},
   "source": [
    "### Overwrite variables in Subclass"
   ]
  },
  {
   "cell_type": "code",
   "execution_count": 40,
   "metadata": {
    "collapsed": false
   },
   "outputs": [],
   "source": [
    "class Parent:\n",
    "    food = \"salmon\"\n",
    "    drink = \"water\"\n",
    "        \n",
    "class Child(Parent):\n",
    "    food = \"avocado\""
   ]
  },
  {
   "cell_type": "code",
   "execution_count": 41,
   "metadata": {
    "collapsed": false
   },
   "outputs": [
    {
     "name": "stdout",
     "output_type": "stream",
     "text": [
      "salmon\n",
      "water\n",
      "avocado\n",
      "water\n"
     ]
    }
   ],
   "source": [
    "parent_object = Parent()\n",
    "print parent_object.food\n",
    "print parent_object.drink\n",
    "\n",
    "child_object = Child()\n",
    "print child_object.food\n",
    "print child_object.drink"
   ]
  },
  {
   "cell_type": "markdown",
   "metadata": {},
   "source": [
    "### Multiple-Parent Classes"
   ]
  },
  {
   "cell_type": "code",
   "execution_count": 43,
   "metadata": {
    "collapsed": true
   },
   "outputs": [],
   "source": [
    "class Mom:\n",
    "    variable_1 = \"I am mom\"\n",
    "    \n",
    "class Dad:\n",
    "    variable_2 = \"I am dad\"\n",
    "    \n",
    "class Child(Mom, Dad):\n",
    "    variable_3 = \"I am child\""
   ]
  },
  {
   "cell_type": "code",
   "execution_count": 45,
   "metadata": {
    "collapsed": false
   },
   "outputs": [
    {
     "name": "stdout",
     "output_type": "stream",
     "text": [
      "I am mom\n",
      "I am dad\n",
      "I am child\n"
     ]
    }
   ],
   "source": [
    "child_object = Child()\n",
    "print child_object.variable_1\n",
    "print child_object.variable_2\n",
    "print child_object.variable_3"
   ]
  },
  {
   "cell_type": "markdown",
   "metadata": {},
   "source": [
    "### Constructors"
   ]
  },
  {
   "cell_type": "code",
   "execution_count": 47,
   "metadata": {
    "collapsed": false
   },
   "outputs": [
    {
     "name": "stdout",
     "output_type": "stream",
     "text": [
      "Cute Puppy!\n"
     ]
    }
   ],
   "source": [
    "class Dog:\n",
    "    def puppy(self):\n",
    "        print \"Cute Puppy!\"\n",
    "        \n",
    "dog_object = Dog() # Create an object\n",
    "dog_object.puppy() # Need to call method after creating object. Automate this process"
   ]
  },
  {
   "cell_type": "code",
   "execution_count": 50,
   "metadata": {
    "collapsed": false
   },
   "outputs": [
    {
     "name": "stdout",
     "output_type": "stream",
     "text": [
      "This is a constructor\n",
      "This also prints!\n"
     ]
    }
   ],
   "source": [
    "# Constructor: Automatically perform instructions once an object is created\n",
    "class Constructor:\n",
    "    def __init__(self): # Initialize method\n",
    "        print \"This is a constructor\"\n",
    "        print \"This also prints!\"\n",
    "        \n",
    "example_object = Constructor()"
   ]
  },
  {
   "cell_type": "markdown",
   "metadata": {},
   "source": [
    "### Module"
   ]
  },
  {
   "cell_type": "code",
   "execution_count": 58,
   "metadata": {
    "collapsed": true
   },
   "outputs": [],
   "source": [
    "!touch module.py"
   ]
  },
  {
   "cell_type": "code",
   "execution_count": 59,
   "metadata": {
    "collapsed": false
   },
   "outputs": [],
   "source": [
    "import module"
   ]
  },
  {
   "cell_type": "code",
   "execution_count": 60,
   "metadata": {
    "collapsed": false
   },
   "outputs": [
    {
     "name": "stdout",
     "output_type": "stream",
     "text": [
      "This Module Works!\n"
     ]
    }
   ],
   "source": [
    "module.test_module()"
   ]
  },
  {
   "cell_type": "code",
   "execution_count": 61,
   "metadata": {
    "collapsed": false
   },
   "outputs": [
    {
     "name": "stdout",
     "output_type": "stream",
     "text": [
      "This Module Works!\n"
     ]
    }
   ],
   "source": [
    "temp = module.test_module\n",
    "temp()"
   ]
  },
  {
   "cell_type": "code",
   "execution_count": 62,
   "metadata": {
    "collapsed": false
   },
   "outputs": [
    {
     "data": {
      "text/plain": [
       "<module 'module' from 'module.py'>"
      ]
     },
     "execution_count": 62,
     "metadata": {},
     "output_type": "execute_result"
    }
   ],
   "source": [
    "reload(module)"
   ]
  },
  {
   "cell_type": "code",
   "execution_count": 63,
   "metadata": {
    "collapsed": false
   },
   "outputs": [
    {
     "name": "stdout",
     "output_type": "stream",
     "text": [
      "This Module Works and now updated!\n"
     ]
    }
   ],
   "source": [
    "module.test_module()"
   ]
  },
  {
   "cell_type": "code",
   "execution_count": 64,
   "metadata": {
    "collapsed": false
   },
   "outputs": [
    {
     "data": {
      "text/plain": [
       "['__builtins__',\n",
       " '__doc__',\n",
       " '__file__',\n",
       " '__name__',\n",
       " '__package__',\n",
       " 'test_module']"
      ]
     },
     "execution_count": 64,
     "metadata": {},
     "output_type": "execute_result"
    }
   ],
   "source": [
    "dir(module)"
   ]
  },
  {
   "cell_type": "code",
   "execution_count": 66,
   "metadata": {
    "collapsed": false
   },
   "outputs": [
    {
     "name": "stdout",
     "output_type": "stream",
     "text": [
      "Help on module module:\n",
      "\n",
      "NAME\n",
      "    module\n",
      "\n",
      "FILE\n",
      "    /Users/Ankoor/Desktop/Data Projects/OOP/module.py\n",
      "\n",
      "FUNCTIONS\n",
      "    test_module()\n",
      "\n",
      "\n"
     ]
    }
   ],
   "source": [
    "help(module)"
   ]
  },
  {
   "cell_type": "markdown",
   "metadata": {
    "collapsed": true
   },
   "source": []
  }
 ],
 "metadata": {
  "kernelspec": {
   "display_name": "Python 2",
   "language": "python",
   "name": "python2"
  },
  "language_info": {
   "codemirror_mode": {
    "name": "ipython",
    "version": 2
   },
   "file_extension": ".py",
   "mimetype": "text/x-python",
   "name": "python",
   "nbconvert_exporter": "python",
   "pygments_lexer": "ipython2",
   "version": "2.7.12"
  }
 },
 "nbformat": 4,
 "nbformat_minor": 1
}
