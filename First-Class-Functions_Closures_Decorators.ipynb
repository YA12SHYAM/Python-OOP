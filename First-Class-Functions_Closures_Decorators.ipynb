{
 "cells": [
  {
   "cell_type": "markdown",
   "metadata": {},
   "source": [
    "**First Class Functions**"
   ]
  },
  {
   "cell_type": "code",
   "execution_count": 1,
   "metadata": {},
   "outputs": [
    {
     "name": "stdout",
     "output_type": "stream",
     "text": [
      "square function:  <function square at 0x7f77ea7c2050>\n",
      "variable f:  25\n",
      "f = square function:  <function square at 0x7f77ea7c2050>\n",
      "Calling f:  25\n"
     ]
    }
   ],
   "source": [
    "def square(x):\n",
    "    return x * x\n",
    "\n",
    "f = square(5)\n",
    "\n",
    "print 'square function: ', square\n",
    "print 'variable f: ', f\n",
    "\n",
    "# Remove parentheses: NOTE: Parenthesis w/o arguments means execute function\n",
    "f = square\n",
    "print 'f = square function: ', f\n",
    "print 'Calling f: ', f(5)"
   ]
  },
  {
   "cell_type": "code",
   "execution_count": 2,
   "metadata": {},
   "outputs": [
    {
     "name": "stdout",
     "output_type": "stream",
     "text": [
      "squares:  [1, 4, 9, 16, 25]\n",
      "cubes:  [1, 8, 27, 64, 125]\n"
     ]
    }
   ],
   "source": [
    "# Passing a function as an argument to another function: e.g. `map` function\n",
    "def map_function(function, arg_list):\n",
    "    result = []\n",
    "    for i in arg_list:\n",
    "        result.append(function(i))\n",
    "    return result\n",
    "\n",
    "squares = map_function(function=square, arg_list=[1, 2, 3, 4, 5])\n",
    "print 'squares: ', squares\n",
    "\n",
    "def cube(x):\n",
    "    return x * x * x\n",
    "\n",
    "cubes = map_function(cube, [1, 2, 3, 4, 5])\n",
    "print 'cubes: ', cubes"
   ]
  },
  {
   "cell_type": "code",
   "execution_count": 3,
   "metadata": {},
   "outputs": [
    {
     "name": "stdout",
     "output_type": "stream",
     "text": [
      "<function logger at 0x7f77ea7c20c8>\n",
      "<function log_message at 0x7f77ea7c2230>\n",
      "Log:  Hi!\n"
     ]
    }
   ],
   "source": [
    "# Return a function from another function\n",
    "def logger(msg):\n",
    "    # Function to return\n",
    "    def log_message():\n",
    "        print 'Log: ', msg\n",
    "        \n",
    "    # Return function\n",
    "    return log_message\n",
    "\n",
    "print logger\n",
    "log_hi = logger('Hi!')\n",
    "print log_hi\n",
    "log_hi()"
   ]
  },
  {
   "cell_type": "code",
   "execution_count": 4,
   "metadata": {},
   "outputs": [
    {
     "name": "stdout",
     "output_type": "stream",
     "text": [
      "<function wrap_tag at 0x7f77ea7c2398>\n",
      "<h1>Test</h1>\n",
      "<h1>Done!</h1>\n",
      "<p>Paragraph!</p>\n"
     ]
    }
   ],
   "source": [
    "# Why returning a function from another function be useful?\n",
    "\n",
    "def html_tag(tag):\n",
    "    def wrap_tag(msg):\n",
    "        print '<{0}>{1}</{0}>'.format(tag, msg)\n",
    "    return wrap_tag\n",
    "\n",
    "print_h1 = html_tag('h1')\n",
    "print print_h1\n",
    "print_h1('Test')\n",
    "print_h1('Done!')\n",
    "\n",
    "print_p = html_tag('p')\n",
    "print_p('Paragraph!')"
   ]
  },
  {
   "cell_type": "markdown",
   "metadata": {},
   "source": [
    "**Closure**"
   ]
  },
  {
   "cell_type": "code",
   "execution_count": 9,
   "metadata": {},
   "outputs": [
    {
     "name": "stdout",
     "output_type": "stream",
     "text": [
      "Hi\n"
     ]
    }
   ],
   "source": [
    "def outer_function():\n",
    "    message = 'Hi' # Free variable\n",
    "    \n",
    "    def inner_function():\n",
    "        print message\n",
    "        \n",
    "    return inner_function() # Returning and executing inner function\n",
    "\n",
    "outer_function()"
   ]
  },
  {
   "cell_type": "code",
   "execution_count": 14,
   "metadata": {},
   "outputs": [
    {
     "name": "stdout",
     "output_type": "stream",
     "text": [
      "<function inner_function at 0x7f77ea7c25f0>\n",
      "<function inner_function at 0x7f77f8033f50>\n",
      "inner_function\n",
      "Hi\n"
     ]
    }
   ],
   "source": [
    "def outer_function():\n",
    "    message = 'Hi' # Free variable\n",
    "    \n",
    "    def inner_function():\n",
    "        print message\n",
    "        \n",
    "    return inner_function # Returning inner function\n",
    "\n",
    "print outer_function()\n",
    "\n",
    "function = outer_function()\n",
    "print function\n",
    "print function.__name__\n",
    "function()"
   ]
  },
  {
   "cell_type": "code",
   "execution_count": 17,
   "metadata": {},
   "outputs": [
    {
     "name": "stdout",
     "output_type": "stream",
     "text": [
      "<function inner_function at 0x7f77ea7c2938>\n",
      "<function inner_function at 0x7f77ea7c26e0>\n",
      "Hi\n",
      "Bye\n"
     ]
    }
   ],
   "source": [
    "def outer_function(msg):\n",
    "    message = msg # Free variable\n",
    "    \n",
    "    def inner_function():\n",
    "        print message\n",
    "        \n",
    "    return inner_function # Returning inner function\n",
    "\n",
    "hi_function = outer_function('Hi')\n",
    "bye_function = outer_function('Bye')\n",
    "\n",
    "print hi_function\n",
    "print bye_function\n",
    "\n",
    "hi_function()\n",
    "bye_function()"
   ]
  },
  {
   "cell_type": "code",
   "execution_count": 26,
   "metadata": {},
   "outputs": [
    {
     "name": "stdout",
     "output_type": "stream",
     "text": [
      "<function log_function at 0x7f77ea75a9b0>\n",
      "<function log_function at 0x7f77ea75ab18>\n",
      "Running \"add\" with arguments (3, 4)\n",
      "7\n",
      "Running \"subtract\" with arguments (5, 4)\n",
      "1\n"
     ]
    }
   ],
   "source": [
    "import logging\n",
    "logging.basicConfig(level=logging.INFO)\n",
    "\n",
    "def logger(func):\n",
    "    def log_function(*args):\n",
    "        logging.info('Running \"{}\" with arguments {}'.format(func.__name__, args))\n",
    "        print 'Running \"{}\" with arguments {}'.format(func.__name__, args)\n",
    "        print func(*args)\n",
    "    return log_function\n",
    "\n",
    "def add(x, y):\n",
    "    return x + y\n",
    "\n",
    "def subtract(x, y):\n",
    "    return x - y\n",
    "\n",
    "add_logger = logger(add)\n",
    "subtract_logger = logger(subtract)\n",
    "\n",
    "print add_logger\n",
    "print subtract_logger\n",
    "\n",
    "add_logger(3, 4)\n",
    "subtract_logger(5, 4)"
   ]
  },
  {
   "cell_type": "markdown",
   "metadata": {
    "collapsed": true
   },
   "source": [
    "**Decorators** - Dynamically alter the functionality of functions\n",
    "- Decorating functions allows us to easily add functionality to existing functions by adding that functionality inside of wrapper"
   ]
  },
  {
   "cell_type": "code",
   "execution_count": 36,
   "metadata": {},
   "outputs": [
    {
     "name": "stdout",
     "output_type": "stream",
     "text": [
      "<function wrapper_function at 0x7f77ea77b2a8>\n",
      "\"display\" function executed!\n"
     ]
    }
   ],
   "source": [
    "def decorator_function(original_function):\n",
    "    def wrapper_function():\n",
    "        return original_function() # Execute the function passed as argument\n",
    "    return wrapper_function\n",
    "\n",
    "def display():\n",
    "    print '\"display\" function executed!'\n",
    "    \n",
    "decorated_display = decorator_function(display)\n",
    "print decorated_display\n",
    "decorated_display()"
   ]
  },
  {
   "cell_type": "code",
   "execution_count": 40,
   "metadata": {},
   "outputs": [
    {
     "name": "stdout",
     "output_type": "stream",
     "text": [
      "<function wrapper_function at 0x7f77ea77b668>\n",
      "wrapper_function executed this before display\n",
      "\"display\" function executed!\n"
     ]
    }
   ],
   "source": [
    "def decorator_function(original_function):\n",
    "    def wrapper_function():\n",
    "        print 'wrapper_function executed this before {}'.format(original_function.__name__)\n",
    "        return original_function() # Execute the function passed as argument\n",
    "    return wrapper_function\n",
    "\n",
    "def display():\n",
    "    print '\"display\" function executed!'\n",
    "    \n",
    "decorated_display = decorator_function(display)\n",
    "print decorated_display\n",
    "decorated_display()"
   ]
  },
  {
   "cell_type": "code",
   "execution_count": 41,
   "metadata": {},
   "outputs": [
    {
     "name": "stdout",
     "output_type": "stream",
     "text": [
      "wrapper_function executed this before display\n",
      "\"display\" function executed!\n"
     ]
    }
   ],
   "source": [
    "def decorator_function(original_function):\n",
    "    def wrapper_function():\n",
    "        print 'wrapper_function executed this before {}'.format(original_function.__name__)\n",
    "        return original_function() # Execute the function passed as argument\n",
    "    return wrapper_function\n",
    "\n",
    "@decorator_function # Equivalent to 'display = decorator_function(display)'\n",
    "def display():\n",
    "    print '\"display\" function executed!'\n",
    "    \n",
    "display()"
   ]
  },
  {
   "cell_type": "code",
   "execution_count": 42,
   "metadata": {},
   "outputs": [
    {
     "name": "stdout",
     "output_type": "stream",
     "text": [
      "display_info executed with arguments (Ankoor, 35)\n"
     ]
    }
   ],
   "source": [
    "# Original function (with arguments)\n",
    "def display_info(name, age):\n",
    "    print 'display_info executed with arguments ({}, {})'.format(name, age)\n",
    "    \n",
    "display_info('Ankoor', 35)"
   ]
  },
  {
   "cell_type": "code",
   "execution_count": 44,
   "metadata": {},
   "outputs": [
    {
     "ename": "TypeError",
     "evalue": "wrapper_function() takes no arguments (2 given)",
     "output_type": "error",
     "traceback": [
      "\u001b[0;31m---------------------------------------------------------------------------\u001b[0m",
      "\u001b[0;31mTypeError\u001b[0m                                 Traceback (most recent call last)",
      "\u001b[0;32m<ipython-input-44-6f082ff2be4e>\u001b[0m in \u001b[0;36m<module>\u001b[0;34m()\u001b[0m\n\u001b[1;32m      5\u001b[0m     \u001b[0;32mprint\u001b[0m \u001b[0;34m'display_info executed with arguments ({}, {})'\u001b[0m\u001b[0;34m.\u001b[0m\u001b[0mformat\u001b[0m\u001b[0;34m(\u001b[0m\u001b[0mname\u001b[0m\u001b[0;34m,\u001b[0m \u001b[0mage\u001b[0m\u001b[0;34m)\u001b[0m\u001b[0;34m\u001b[0m\u001b[0m\n\u001b[1;32m      6\u001b[0m \u001b[0;34m\u001b[0m\u001b[0m\n\u001b[0;32m----> 7\u001b[0;31m \u001b[0mdisplay_info\u001b[0m\u001b[0;34m(\u001b[0m\u001b[0;34m'Ankoor'\u001b[0m\u001b[0;34m,\u001b[0m \u001b[0;36m35\u001b[0m\u001b[0;34m)\u001b[0m\u001b[0;34m\u001b[0m\u001b[0m\n\u001b[0m",
      "\u001b[0;31mTypeError\u001b[0m: wrapper_function() takes no arguments (2 given)"
     ]
    }
   ],
   "source": [
    "# Decorate Original function (with arguments)\n",
    "\n",
    "@decorator_function\n",
    "def display_info(name, age):\n",
    "    print 'display_info executed with arguments ({}, {})'.format(name, age)\n",
    "    \n",
    "display_info('Ankoor', 35)"
   ]
  },
  {
   "cell_type": "code",
   "execution_count": 46,
   "metadata": {},
   "outputs": [
    {
     "name": "stdout",
     "output_type": "stream",
     "text": [
      "wrapper_function executed this before display_info\n",
      "display_info executed with arguments (Ankoor, 35)\n"
     ]
    }
   ],
   "source": [
    "# Modifying decorator function\n",
    "def decorator_function(original_function):\n",
    "    def wrapper_function(*args, **kwargs):\n",
    "        print 'wrapper_function executed this before {}'.format(original_function.__name__)\n",
    "        return original_function(*args, **kwargs) # Execute the function passed as argument\n",
    "    return wrapper_function\n",
    "\n",
    "@decorator_function\n",
    "def display_info(name, age):\n",
    "    print 'display_info executed with arguments ({}, {})'.format(name, age)\n",
    "    \n",
    "display_info('Ankoor', 35)"
   ]
  },
  {
   "cell_type": "markdown",
   "metadata": {},
   "source": [
    "**Class as decorator**"
   ]
  },
  {
   "cell_type": "code",
   "execution_count": 48,
   "metadata": {},
   "outputs": [
    {
     "name": "stdout",
     "output_type": "stream",
     "text": [
      "__call__ method executed this before \"display\"\n",
      "\"display\" function executed!\n",
      "\n",
      "__call__ method executed this before \"display_info\"\n",
      "\"display_info\" executed with arguments (Ankoor, 35)\n"
     ]
    }
   ],
   "source": [
    "class decorator_class(object):\n",
    "    def __init__(self, original_function):\n",
    "        self.original_function = original_function\n",
    "        \n",
    "    # Call method\n",
    "    def __call__(self, *args, **kwargs):\n",
    "        print '__call__ method executed this before \"{}\"'.format(self.original_function.__name__)\n",
    "        return self.original_function(*args, **kwargs)\n",
    "    \n",
    "@decorator_class\n",
    "def display():\n",
    "    print '\"display\" function executed!'\n",
    "    \n",
    "@decorator_class\n",
    "def display_info(name, age):\n",
    "    print '\"display_info\" executed with arguments ({}, {})'.format(name, age)\n",
    "    \n",
    "display()\n",
    "print \n",
    "display_info('Ankoor', 35)\n"
   ]
  },
  {
   "cell_type": "markdown",
   "metadata": {},
   "source": [
    "**Decorator Practical Examples**"
   ]
  },
  {
   "cell_type": "code",
   "execution_count": 50,
   "metadata": {},
   "outputs": [
    {
     "name": "stdout",
     "output_type": "stream",
     "text": [
      "\"display\" function executed!\n",
      "\n",
      "\"display_info\" executed with arguments (Ankoor, 35)\n"
     ]
    }
   ],
   "source": [
    "def custom_logger(original_function):\n",
    "    import logging\n",
    "    logging.basicConfig(filename='{}.log'.format(original_function.__name__), level=logging.INFO)\n",
    "    \n",
    "    def wrapper(*args, **kwargs):\n",
    "        logging.info('Executed with args: {} and kwargs: {}'.format(args, kwargs))\n",
    "        return original_function(*args, **kwargs)\n",
    "    \n",
    "    return wrapper\n",
    "\n",
    "@custom_logger\n",
    "def display():\n",
    "    print '\"display\" function executed!'\n",
    "    \n",
    "@custom_logger\n",
    "def display_info(name, age):\n",
    "    print '\"display_info\" executed with arguments ({}, {})'.format(name, age)\n",
    "    \n",
    "display()\n",
    "print \n",
    "display_info('Ankoor', 35)"
   ]
  },
  {
   "cell_type": "code",
   "execution_count": 52,
   "metadata": {},
   "outputs": [
    {
     "name": "stdout",
     "output_type": "stream",
     "text": [
      "\"display\" function executed!\n",
      "display executed in: 1.00045800209 seconds\n",
      "\n",
      "\"display_info\" executed with arguments (Ankoor, 35)\n",
      "display_info executed in: 1.00122308731 seconds\n"
     ]
    }
   ],
   "source": [
    "import time\n",
    "\n",
    "def custom_timer(original_function):\n",
    "    \n",
    "    def wrapper(*args, **kwargs):\n",
    "        t_start = time.time()\n",
    "        result = original_function(*args, **kwargs)\n",
    "        t_end = time.time() - t_start\n",
    "        print '{} executed in: {} seconds'.format(original_function.__name__, t_end)\n",
    "        return result\n",
    "    \n",
    "    return wrapper\n",
    "\n",
    "\n",
    "@custom_timer\n",
    "def display():\n",
    "    time.sleep(1)\n",
    "    print '\"display\" function executed!'\n",
    "    \n",
    "@custom_timer\n",
    "def display_info(name, age):\n",
    "    time.sleep(1)\n",
    "    print '\"display_info\" executed with arguments ({}, {})'.format(name, age)\n",
    "    \n",
    "display()\n",
    "print \n",
    "display_info('Ankoor', 35)"
   ]
  },
  {
   "cell_type": "code",
   "execution_count": 53,
   "metadata": {},
   "outputs": [
    {
     "name": "stdout",
     "output_type": "stream",
     "text": [
      "\"display\" function executed!\n",
      "wrapper executed in: 1.00153589249 seconds\n",
      "\n",
      "\"display_info\" executed with arguments (Ankoor, 35)\n",
      "wrapper executed in: 1.00124597549 seconds\n"
     ]
    }
   ],
   "source": [
    "# Apply multiple decorators to a function\n",
    "@custom_timer\n",
    "@custom_logger\n",
    "def display():\n",
    "    time.sleep(1)\n",
    "    print '\"display\" function executed!'\n",
    "    \n",
    "@custom_timer\n",
    "@custom_logger\n",
    "def display_info(name, age):\n",
    "    time.sleep(1)\n",
    "    print '\"display_info\" executed with arguments ({}, {})'.format(name, age)\n",
    "    \n",
    "display()\n",
    "print \n",
    "display_info('Ankoor', 35) \n",
    "\n",
    "# NOTE: Stacking or order of decorators in not correct"
   ]
  },
  {
   "cell_type": "code",
   "execution_count": 58,
   "metadata": {},
   "outputs": [
    {
     "name": "stdout",
     "output_type": "stream",
     "text": [
      "\"display\" function executed!\n",
      "display executed in: 1.00031995773 seconds\n",
      "\n",
      "\"display_info\" executed with arguments (Ankoor, 35)\n",
      "display_info executed in: 1.00121998787 seconds\n",
      "\n",
      "<function wrapper at 0x7f77ea6f90c8>\n",
      "\"display_info\" executed with arguments (Ankoor, 35)\n",
      "display_info executed in: 1.00122785568 seconds\n",
      "wrapper executed in: 1.00161290169 seconds\n"
     ]
    }
   ],
   "source": [
    "# Correct stacking or order of decorators\n",
    "\n",
    "@custom_logger\n",
    "@custom_timer\n",
    "def display():\n",
    "    time.sleep(1)\n",
    "    print '\"display\" function executed!'\n",
    "    \n",
    "@custom_logger\n",
    "@custom_timer\n",
    "def display_info(name, age):\n",
    "    time.sleep(1)\n",
    "    print '\"display_info\" executed with arguments ({}, {})'.format(name, age)\n",
    "    \n",
    "display()\n",
    "print \n",
    "display_info('Ankoor', 35) \n",
    "\n",
    "print\n",
    "display_info = custom_logger(custom_timer(display_info))\n",
    "print display_info\n",
    "display_info('Ankoor', 35)"
   ]
  },
  {
   "cell_type": "code",
   "execution_count": 60,
   "metadata": {},
   "outputs": [
    {
     "name": "stdout",
     "output_type": "stream",
     "text": [
      "wrapper\n",
      "\"display_info\" executed with arguments (Ankoor, 35)\n",
      "display_info executed in: 1.00129914284 seconds\n",
      "wrapper executed in: 1.00156092644 seconds\n",
      "wrapper executed in: 1.00181388855 seconds\n",
      "wrapper executed in: 1.00198912621 seconds\n",
      "\"display\" function executed!\n",
      "display executed in: 1.00117206573 seconds\n",
      "\n",
      "\"display_info\" executed with arguments (Joker, 40)\n",
      "display_info executed in: 1.00142884254 seconds\n"
     ]
    }
   ],
   "source": [
    "from functools import wraps\n",
    "\n",
    "def custom_logger(original_function):\n",
    "    import logging\n",
    "    logging.basicConfig(filename='{}.log'.format(original_function.__name__), level=logging.INFO)\n",
    "    \n",
    "    @wraps(original_function)\n",
    "    def wrapper(*args, **kwargs):\n",
    "        logging.info('Executed with args: {} and kwargs: {}'.format(args, kwargs))\n",
    "        return original_function(*args, **kwargs)\n",
    "    \n",
    "    return wrapper\n",
    "\n",
    "\n",
    "def custom_timer(original_function):\n",
    "    \n",
    "    @wraps(original_function)\n",
    "    def wrapper(*args, **kwargs):\n",
    "        t_start = time.time()\n",
    "        result = original_function(*args, **kwargs)\n",
    "        t_end = time.time() - t_start\n",
    "        print '{} executed in: {} seconds'.format(original_function.__name__, t_end)\n",
    "        return result\n",
    "    \n",
    "    return wrapper\n",
    "\n",
    "\n",
    "display_info = custom_timer(display_info)\n",
    "print display_info.__name__\n",
    "display_info('Ankoor', 35)\n",
    "\n",
    "@custom_logger\n",
    "@custom_timer\n",
    "def display_info(name, age):\n",
    "    time.sleep(1)\n",
    "    print '\"display_info\" executed with arguments ({}, {})'.format(name, age)\n",
    "    \n",
    "display()\n",
    "print \n",
    "display_info('Joker', 40) \n"
   ]
  },
  {
   "cell_type": "markdown",
   "metadata": {},
   "source": [
    "**Decorator with arguments**"
   ]
  },
  {
   "cell_type": "code",
   "execution_count": 63,
   "metadata": {},
   "outputs": [
    {
     "name": "stdout",
     "output_type": "stream",
     "text": [
      "Executed Before \"display_info\"\n",
      "\"display_info\" executed with arguments (Ankoor, 35)\n",
      "Executed After \"display_info\" \n",
      "\n",
      "Executed Before \"display_info\"\n",
      "\"display_info\" executed with arguments (Joker, 40)\n",
      "Executed After \"display_info\" \n",
      "\n"
     ]
    }
   ],
   "source": [
    "def decorator_function(original_function):\n",
    "    \n",
    "    def wrapper_function(*args, **kwargs):\n",
    "        print 'Executed Before \"{}\"'.format(original_function.__name__)\n",
    "        result = original_function(*args, **kwargs)\n",
    "        print 'Executed After \"{}\"'.format(original_function.__name__), '\\n'\n",
    "        return result\n",
    "    \n",
    "    return wrapper_function\n",
    "\n",
    "@decorator_function\n",
    "def display_info(name, age):\n",
    "    print '\"display_info\" executed with arguments ({}, {})'.format(name, age)\n",
    "    \n",
    "display_info('Ankoor', 35)\n",
    "display_info('Joker', 40)"
   ]
  },
  {
   "cell_type": "code",
   "execution_count": 65,
   "metadata": {},
   "outputs": [
    {
     "name": "stdout",
     "output_type": "stream",
     "text": [
      "TESTING:  Executed Before \"display_info\"\n",
      "\"display_info\" executed with arguments (Ankoor, 35)\n",
      "TESTING:  Executed After \"display_info\" \n",
      "\n",
      "TESTING:  Executed Before \"display_info\"\n",
      "\"display_info\" executed with arguments (Joker, 40)\n",
      "TESTING:  Executed After \"display_info\" \n",
      "\n",
      "LOG:  Executed Before \"display_info\"\n",
      "\"display_info\" executed with arguments (Ankoor, 35)\n",
      "LOG:  Executed After \"display_info\" \n",
      "\n",
      "LOG:  Executed Before \"display_info\"\n",
      "\"display_info\" executed with arguments (Joker, 40)\n",
      "LOG:  Executed After \"display_info\" \n",
      "\n"
     ]
    }
   ],
   "source": [
    "def prefix_decorator(prefix):\n",
    "    \n",
    "    def decorator_function(original_function):\n",
    "\n",
    "        def wrapper_function(*args, **kwargs):\n",
    "            print prefix, 'Executed Before \"{}\"'.format(original_function.__name__)\n",
    "            result = original_function(*args, **kwargs)\n",
    "            print prefix, 'Executed After \"{}\"'.format(original_function.__name__), '\\n'\n",
    "            return result\n",
    "\n",
    "        return wrapper_function\n",
    "    \n",
    "    return decorator_function\n",
    "\n",
    "@prefix_decorator('TESTING: ')\n",
    "def display_info(name, age):\n",
    "    print '\"display_info\" executed with arguments ({}, {})'.format(name, age)\n",
    "    \n",
    "display_info('Ankoor', 35)\n",
    "display_info('Joker', 40)\n",
    "\n",
    "\n",
    "@prefix_decorator('LOG: ')\n",
    "def display_info(name, age):\n",
    "    print '\"display_info\" executed with arguments ({}, {})'.format(name, age)\n",
    "    \n",
    "display_info('Ankoor', 35)\n",
    "display_info('Joker', 40)"
   ]
  },
  {
   "cell_type": "code",
   "execution_count": null,
   "metadata": {
    "collapsed": true
   },
   "outputs": [],
   "source": []
  }
 ],
 "metadata": {
  "kernelspec": {
   "display_name": "Python (caffe-dev)",
   "language": "python",
   "name": "caffe-dev"
  },
  "language_info": {
   "codemirror_mode": {
    "name": "ipython",
    "version": 2
   },
   "file_extension": ".py",
   "mimetype": "text/x-python",
   "name": "python",
   "nbconvert_exporter": "python",
   "pygments_lexer": "ipython2",
   "version": "2.7.6"
  }
 },
 "nbformat": 4,
 "nbformat_minor": 2
}
