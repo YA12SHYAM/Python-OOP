{
 "cells": [
  {
   "cell_type": "code",
   "execution_count": 1,
   "metadata": {},
   "outputs": [
    {
     "name": "stdout",
     "output_type": "stream",
     "text": [
      "{'buzz': {65, 35, 100, 5, 70, 40, 10, 75, 45, 15, 80, 50, 20, 85, 55, 25, 90, 60, 30, 95}, 'fizzbuzz': {75, 45, 15, 90, 60, 30}, 'fizz': {3, 6, 9, 12, 15, 18, 21, 24, 27, 30, 33, 36, 39, 42, 45, 48, 51, 54, 57, 60, 63, 66, 69, 72, 75, 78, 81, 84, 87, 90, 93, 96, 99}}\n"
     ]
    }
   ],
   "source": [
    "total_nums = range(1, 101)\n",
    "\n",
    "# Dict with list comprehension\n",
    "fizzbuzzes = {\n",
    "    'fizz': set([n for n in total_nums if n % 3 == 0]),\n",
    "    'buzz': set([n for n in total_nums if n % 5 == 0])\n",
    "}\n",
    "\n",
    "# Set comprehension\n",
    "fizzbuzzes['fizzbuzz'] = {n for n in fizzbuzzes['fizz'].intersection(fizzbuzzes['buzz'])}\n",
    "\n",
    "print(fizzbuzzes)"
   ]
  },
  {
   "cell_type": "code",
   "execution_count": null,
   "metadata": {},
   "outputs": [],
   "source": []
  }
 ],
 "metadata": {
  "kernelspec": {
   "display_name": "Python 3",
   "language": "python",
   "name": "python3"
  },
  "language_info": {
   "codemirror_mode": {
    "name": "ipython",
    "version": 3
   },
   "file_extension": ".py",
   "mimetype": "text/x-python",
   "name": "python",
   "nbconvert_exporter": "python",
   "pygments_lexer": "ipython3",
   "version": "3.5.2"
  }
 },
 "nbformat": 4,
 "nbformat_minor": 2
}
